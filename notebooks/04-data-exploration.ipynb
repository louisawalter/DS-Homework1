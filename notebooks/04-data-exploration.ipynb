{
 "cells": [
  {
   "cell_type": "markdown",
   "metadata": {},
   "source": [
    "# Data exploration \n",
    "\n",
    "---\n",
    "\n",
    "Group name: Gruppe C\n",
    "\n",
    "---\n"
   ]
  },
  {
   "cell_type": "markdown",
   "metadata": {},
   "source": [
    "## Introduction\n",
    "\n",
    "*This section includes a short description of the data* "
   ]
  },
  {
   "cell_type": "markdown",
   "metadata": {},
   "source": [
    "## Setup"
   ]
  },
  {
   "cell_type": "code",
   "execution_count": 5,
   "metadata": {
    "slideshow": {
     "slide_type": "fragment"
    }
   },
   "outputs": [
    {
     "data": {
      "text/plain": [
       "DataTransformerRegistry.enable('default')"
      ]
     },
     "execution_count": 5,
     "metadata": {},
     "output_type": "execute_result"
    }
   ],
   "source": [
    "import pandas as pd\n",
    "import altair as alt\n",
    "import warnings\n",
    "\n",
    "warnings.simplefilter(action='ignore', category=FutureWarning)\n",
    "alt.data_transformers.disable_max_rows()"
   ]
  },
  {
   "cell_type": "markdown",
   "metadata": {},
   "source": [
    "## Data"
   ]
  },
  {
   "cell_type": "markdown",
   "metadata": {},
   "source": [
    "## Import data"
   ]
  },
  {
   "cell_type": "code",
   "execution_count": 6,
   "metadata": {},
   "outputs": [
    {
     "data": {
      "text/html": [
       "<div>\n",
       "<style scoped>\n",
       "    .dataframe tbody tr th:only-of-type {\n",
       "        vertical-align: middle;\n",
       "    }\n",
       "\n",
       "    .dataframe tbody tr th {\n",
       "        vertical-align: top;\n",
       "    }\n",
       "\n",
       "    .dataframe thead th {\n",
       "        text-align: right;\n",
       "    }\n",
       "</style>\n",
       "<table border=\"1\" class=\"dataframe\">\n",
       "  <thead>\n",
       "    <tr style=\"text-align: right;\">\n",
       "      <th></th>\n",
       "      <th>forecast_timestamp</th>\n",
       "      <th>team</th>\n",
       "      <th>group</th>\n",
       "      <th>spi</th>\n",
       "      <th>global_o</th>\n",
       "      <th>global_d</th>\n",
       "      <th>sim_wins</th>\n",
       "      <th>sim_ties</th>\n",
       "      <th>sim_losses</th>\n",
       "      <th>sim_goal_diff</th>\n",
       "      <th>...</th>\n",
       "      <th>group_1</th>\n",
       "      <th>group_2</th>\n",
       "      <th>group_3</th>\n",
       "      <th>group_4</th>\n",
       "      <th>make_round_of_16</th>\n",
       "      <th>make_quarters</th>\n",
       "      <th>make_semis</th>\n",
       "      <th>make_final</th>\n",
       "      <th>win_league</th>\n",
       "      <th>timestamp</th>\n",
       "    </tr>\n",
       "  </thead>\n",
       "  <tbody>\n",
       "    <tr>\n",
       "      <th>0</th>\n",
       "      <td>2022-12-14 20:55:37 UTC</td>\n",
       "      <td>Argentina</td>\n",
       "      <td>C</td>\n",
       "      <td>88.85631</td>\n",
       "      <td>2.69895</td>\n",
       "      <td>0.37464</td>\n",
       "      <td>2.0</td>\n",
       "      <td>0.0</td>\n",
       "      <td>1.0</td>\n",
       "      <td>3.0</td>\n",
       "      <td>...</td>\n",
       "      <td>1.0</td>\n",
       "      <td>0.0</td>\n",
       "      <td>0.0</td>\n",
       "      <td>0.0</td>\n",
       "      <td>1.0</td>\n",
       "      <td>1.0</td>\n",
       "      <td>1.0</td>\n",
       "      <td>1.0</td>\n",
       "      <td>0.53049</td>\n",
       "      <td>2022-12-14 20:56:18 UTC</td>\n",
       "    </tr>\n",
       "    <tr>\n",
       "      <th>1</th>\n",
       "      <td>2022-12-14 20:55:37 UTC</td>\n",
       "      <td>France</td>\n",
       "      <td>D</td>\n",
       "      <td>88.41321</td>\n",
       "      <td>2.89548</td>\n",
       "      <td>0.49957</td>\n",
       "      <td>2.0</td>\n",
       "      <td>0.0</td>\n",
       "      <td>1.0</td>\n",
       "      <td>3.0</td>\n",
       "      <td>...</td>\n",
       "      <td>1.0</td>\n",
       "      <td>0.0</td>\n",
       "      <td>0.0</td>\n",
       "      <td>0.0</td>\n",
       "      <td>1.0</td>\n",
       "      <td>1.0</td>\n",
       "      <td>1.0</td>\n",
       "      <td>1.0</td>\n",
       "      <td>0.46951</td>\n",
       "      <td>2022-12-14 20:56:18 UTC</td>\n",
       "    </tr>\n",
       "    <tr>\n",
       "      <th>2</th>\n",
       "      <td>2022-12-14 20:55:37 UTC</td>\n",
       "      <td>Morocco</td>\n",
       "      <td>F</td>\n",
       "      <td>73.92282</td>\n",
       "      <td>1.73737</td>\n",
       "      <td>0.50047</td>\n",
       "      <td>2.0</td>\n",
       "      <td>1.0</td>\n",
       "      <td>0.0</td>\n",
       "      <td>3.0</td>\n",
       "      <td>...</td>\n",
       "      <td>1.0</td>\n",
       "      <td>0.0</td>\n",
       "      <td>0.0</td>\n",
       "      <td>0.0</td>\n",
       "      <td>1.0</td>\n",
       "      <td>1.0</td>\n",
       "      <td>1.0</td>\n",
       "      <td>0.0</td>\n",
       "      <td>0.00000</td>\n",
       "      <td>2022-12-14 20:56:18 UTC</td>\n",
       "    </tr>\n",
       "  </tbody>\n",
       "</table>\n",
       "<p>3 rows × 22 columns</p>\n",
       "</div>"
      ],
      "text/plain": [
       "        forecast_timestamp       team group       spi  global_o  global_d  \\\n",
       "0  2022-12-14 20:55:37 UTC  Argentina     C  88.85631   2.69895   0.37464   \n",
       "1  2022-12-14 20:55:37 UTC     France     D  88.41321   2.89548   0.49957   \n",
       "2  2022-12-14 20:55:37 UTC    Morocco     F  73.92282   1.73737   0.50047   \n",
       "\n",
       "   sim_wins  sim_ties  sim_losses  sim_goal_diff  ...  group_1  group_2  \\\n",
       "0       2.0       0.0         1.0            3.0  ...      1.0      0.0   \n",
       "1       2.0       0.0         1.0            3.0  ...      1.0      0.0   \n",
       "2       2.0       1.0         0.0            3.0  ...      1.0      0.0   \n",
       "\n",
       "   group_3  group_4  make_round_of_16  make_quarters  make_semis  make_final  \\\n",
       "0      0.0      0.0               1.0            1.0         1.0         1.0   \n",
       "1      0.0      0.0               1.0            1.0         1.0         1.0   \n",
       "2      0.0      0.0               1.0            1.0         1.0         0.0   \n",
       "\n",
       "   win_league                timestamp  \n",
       "0     0.53049  2022-12-14 20:56:18 UTC  \n",
       "1     0.46951  2022-12-14 20:56:18 UTC  \n",
       "2     0.00000  2022-12-14 20:56:18 UTC  \n",
       "\n",
       "[3 rows x 22 columns]"
      ]
     },
     "execution_count": 6,
     "metadata": {},
     "output_type": "execute_result"
    }
   ],
   "source": [
    "import pandas as pd\n",
    "\n",
    "df = pd.read_csv(\"https://projects.fivethirtyeight.com/soccer-api/international/2022/wc_forecasts.csv\")\n",
    "\n",
    "df.to_csv(\"data.csv\")\n",
    "\n",
    "df.head(3)"
   ]
  },
  {
   "cell_type": "markdown",
   "metadata": {},
   "source": [
    "### Data structure"
   ]
  },
  {
   "cell_type": "code",
   "execution_count": 7,
   "metadata": {},
   "outputs": [
    {
     "name": "stdout",
     "output_type": "stream",
     "text": [
      "<class 'pandas.core.frame.DataFrame'>\n",
      "RangeIndex: 224 entries, 0 to 223\n",
      "Data columns (total 22 columns):\n",
      " #   Column              Non-Null Count  Dtype  \n",
      "---  ------              --------------  -----  \n",
      " 0   forecast_timestamp  224 non-null    object \n",
      " 1   team                224 non-null    object \n",
      " 2   group               224 non-null    object \n",
      " 3   spi                 224 non-null    float64\n",
      " 4   global_o            224 non-null    float64\n",
      " 5   global_d            224 non-null    float64\n",
      " 6   sim_wins            224 non-null    float64\n",
      " 7   sim_ties            224 non-null    float64\n",
      " 8   sim_losses          224 non-null    float64\n",
      " 9   sim_goal_diff       224 non-null    float64\n",
      " 10  goals_scored        224 non-null    float64\n",
      " 11  goals_against       224 non-null    float64\n",
      " 12  group_1             224 non-null    float64\n",
      " 13  group_2             224 non-null    float64\n",
      " 14  group_3             224 non-null    float64\n",
      " 15  group_4             224 non-null    float64\n",
      " 16  make_round_of_16    224 non-null    float64\n",
      " 17  make_quarters       224 non-null    float64\n",
      " 18  make_semis          224 non-null    float64\n",
      " 19  make_final          224 non-null    float64\n",
      " 20  win_league          224 non-null    float64\n",
      " 21  timestamp           224 non-null    object \n",
      "dtypes: float64(18), object(4)\n",
      "memory usage: 38.6+ KB\n"
     ]
    }
   ],
   "source": [
    "df\n",
    "df.info()"
   ]
  },
  {
   "cell_type": "markdown",
   "metadata": {},
   "source": [
    "### Data corrections"
   ]
  },
  {
   "cell_type": "code",
   "execution_count": 8,
   "metadata": {},
   "outputs": [
    {
     "name": "stdout",
     "output_type": "stream",
     "text": [
      "<class 'pandas.core.frame.DataFrame'>\n",
      "RangeIndex: 224 entries, 0 to 223\n",
      "Data columns (total 22 columns):\n",
      " #   Column              Non-Null Count  Dtype              \n",
      "---  ------              --------------  -----              \n",
      " 0   forecast_timestamp  224 non-null    datetime64[ns, UTC]\n",
      " 1   team                224 non-null    object             \n",
      " 2   group               224 non-null    object             \n",
      " 3   spi                 224 non-null    float64            \n",
      " 4   global_o            224 non-null    float64            \n",
      " 5   global_d            224 non-null    float64            \n",
      " 6   sim_wins            224 non-null    float64            \n",
      " 7   sim_ties            224 non-null    float64            \n",
      " 8   sim_losses          224 non-null    float64            \n",
      " 9   sim_goal_diff       224 non-null    float64            \n",
      " 10  goals_scored        224 non-null    float64            \n",
      " 11  goals_against       224 non-null    float64            \n",
      " 12  group_1             224 non-null    float64            \n",
      " 13  group_2             224 non-null    float64            \n",
      " 14  group_3             224 non-null    float64            \n",
      " 15  group_4             224 non-null    float64            \n",
      " 16  make_round_of_16    224 non-null    float64            \n",
      " 17  make_quarters       224 non-null    float64            \n",
      " 18  make_semis          224 non-null    float64            \n",
      " 19  make_final          224 non-null    float64            \n",
      " 20  win_league          224 non-null    float64            \n",
      " 21  timestamp           224 non-null    datetime64[ns, UTC]\n",
      "dtypes: datetime64[ns, UTC](2), float64(18), object(2)\n",
      "memory usage: 38.6+ KB\n"
     ]
    }
   ],
   "source": [
    "df['forecast_timestamp'] = pd.to_datetime(df['forecast_timestamp'])\n",
    "df['timestamp'] = pd.to_datetime(df['timestamp'])\n",
    "df.info()"
   ]
  },
  {
   "cell_type": "code",
   "execution_count": 9,
   "metadata": {},
   "outputs": [],
   "source": [
    "df = df[df['forecast_timestamp'] == '2022-11-16 16:00:55+00:00']"
   ]
  },
  {
   "cell_type": "markdown",
   "metadata": {},
   "source": [
    "## Exploratory data analysis"
   ]
  },
  {
   "cell_type": "markdown",
   "metadata": {},
   "source": [
    "### Korrelation zwischen Soccer Power Index und Sieg der WM"
   ]
  },
  {
   "cell_type": "code",
   "execution_count": 10,
   "metadata": {},
   "outputs": [],
   "source": [
    "# define outcome variable as y_label\n",
    "y_label = 'win_league'\n",
    "\n",
    "# select features\n",
    "X = df[[\"spi\"]]\n",
    "\n",
    "# create response\n",
    "y = df[y_label]"
   ]
  },
  {
   "cell_type": "code",
   "execution_count": 11,
   "metadata": {},
   "outputs": [
    {
     "data": {
      "text/html": [
       "\n",
       "<div id=\"altair-viz-fd01576e40b64b87838d165c94bd659e\"></div>\n",
       "<script type=\"text/javascript\">\n",
       "  var VEGA_DEBUG = (typeof VEGA_DEBUG == \"undefined\") ? {} : VEGA_DEBUG;\n",
       "  (function(spec, embedOpt){\n",
       "    let outputDiv = document.currentScript.previousElementSibling;\n",
       "    if (outputDiv.id !== \"altair-viz-fd01576e40b64b87838d165c94bd659e\") {\n",
       "      outputDiv = document.getElementById(\"altair-viz-fd01576e40b64b87838d165c94bd659e\");\n",
       "    }\n",
       "    const paths = {\n",
       "      \"vega\": \"https://cdn.jsdelivr.net/npm//vega@5?noext\",\n",
       "      \"vega-lib\": \"https://cdn.jsdelivr.net/npm//vega-lib?noext\",\n",
       "      \"vega-lite\": \"https://cdn.jsdelivr.net/npm//vega-lite@4.17.0?noext\",\n",
       "      \"vega-embed\": \"https://cdn.jsdelivr.net/npm//vega-embed@6?noext\",\n",
       "    };\n",
       "\n",
       "    function maybeLoadScript(lib, version) {\n",
       "      var key = `${lib.replace(\"-\", \"\")}_version`;\n",
       "      return (VEGA_DEBUG[key] == version) ?\n",
       "        Promise.resolve(paths[lib]) :\n",
       "        new Promise(function(resolve, reject) {\n",
       "          var s = document.createElement('script');\n",
       "          document.getElementsByTagName(\"head\")[0].appendChild(s);\n",
       "          s.async = true;\n",
       "          s.onload = () => {\n",
       "            VEGA_DEBUG[key] = version;\n",
       "            return resolve(paths[lib]);\n",
       "          };\n",
       "          s.onerror = () => reject(`Error loading script: ${paths[lib]}`);\n",
       "          s.src = paths[lib];\n",
       "        });\n",
       "    }\n",
       "\n",
       "    function showError(err) {\n",
       "      outputDiv.innerHTML = `<div class=\"error\" style=\"color:red;\">${err}</div>`;\n",
       "      throw err;\n",
       "    }\n",
       "\n",
       "    function displayChart(vegaEmbed) {\n",
       "      vegaEmbed(outputDiv, spec, embedOpt)\n",
       "        .catch(err => showError(`Javascript Error: ${err.message}<br>This usually means there's a typo in your chart specification. See the javascript console for the full traceback.`));\n",
       "    }\n",
       "\n",
       "    if(typeof define === \"function\" && define.amd) {\n",
       "      requirejs.config({paths});\n",
       "      require([\"vega-embed\"], displayChart, err => showError(`Error loading script: ${err.message}`));\n",
       "    } else {\n",
       "      maybeLoadScript(\"vega\", \"5\")\n",
       "        .then(() => maybeLoadScript(\"vega-lite\", \"4.17.0\"))\n",
       "        .then(() => maybeLoadScript(\"vega-embed\", \"6\"))\n",
       "        .catch(showError)\n",
       "        .then(() => displayChart(vegaEmbed));\n",
       "    }\n",
       "  })({\"config\": {\"view\": {\"continuousWidth\": 400, \"continuousHeight\": 300, \"strokeWidth\": 0}, \"title\": {\"anchor\": \"start\", \"color\": \"black\", \"font\": \"Arial\", \"fontSize\": 16}}, \"data\": {\"name\": \"data-56baa678e382e6af0ea107f7f4af628d\"}, \"mark\": {\"type\": \"circle\", \"size\": 100}, \"encoding\": {\"color\": {\"field\": \"team\", \"legend\": null, \"type\": \"nominal\"}, \"tooltip\": [{\"field\": \"team\", \"type\": \"nominal\"}, {\"field\": \"spi\", \"type\": \"quantitative\"}, {\"field\": \"win_league\", \"type\": \"quantitative\"}], \"x\": {\"axis\": {\"grid\": false, \"labelAngle\": 0, \"title\": \"ESPN Soccer Power Index\", \"titleAnchor\": \"start\"}, \"field\": \"spi\", \"type\": \"quantitative\"}, \"y\": {\"axis\": {\"grid\": false, \"title\": \"Wahrscheinlichkeit f\\u00fcr den WM Sieg\", \"titleAnchor\": \"end\"}, \"field\": \"win_league\", \"type\": \"quantitative\"}}, \"height\": 300, \"selection\": {\"selector001\": {\"type\": \"interval\", \"bind\": \"scales\", \"encodings\": [\"x\", \"y\"]}}, \"title\": {\"text\": \"Korrelation des SPI und der Wahrscheinloichkeit die WM zu gewinnen\", \"subtitle\": \"F\\u00fcr die Fu\\u00dfballweltmeisterschaft im Jahr 2022\"}, \"width\": 500, \"$schema\": \"https://vega.github.io/schema/vega-lite/v4.17.0.json\", \"datasets\": {\"data-56baa678e382e6af0ea107f7f4af628d\": [{\"forecast_timestamp\": \"2022-11-16T16:00:55+00:00\", \"team\": \"Brazil\", \"group\": \"G\", \"spi\": 93.54699, \"global_o\": 3.22213, \"global_d\": 0.29634, \"sim_wins\": 2.11474, \"sim_ties\": 0.59456, \"sim_losses\": 0.2907, \"sim_goal_diff\": 4.46304, \"goals_scored\": 6.30163, \"goals_against\": 1.83859, \"group_1\": 0.71639, \"group_2\": 0.19406, \"group_3\": 0.06846, \"group_4\": 0.02109, \"make_round_of_16\": 0.91045, \"make_quarters\": 0.68867, \"make_semis\": 0.46381, \"make_final\": 0.32477, \"win_league\": 0.21668, \"timestamp\": \"2022-12-14T20:56:18+00:00\"}, {\"forecast_timestamp\": \"2022-11-16T16:00:55+00:00\", \"team\": \"Spain\", \"group\": \"E\", \"spi\": 89.50604, \"global_o\": 2.80203, \"global_d\": 0.38627, \"sim_wins\": 1.76309, \"sim_ties\": 0.69769, \"sim_losses\": 0.53922, \"sim_goal_diff\": 2.88009, \"goals_scored\": 5.46797, \"goals_against\": 2.58788, \"group_1\": 0.4684, \"group_2\": 0.33846, \"group_3\": 0.15418, \"group_4\": 0.03896, \"make_round_of_16\": 0.80686, \"make_quarters\": 0.55576, \"make_semis\": 0.30279, \"make_final\": 0.18857, \"win_league\": 0.10663, \"timestamp\": \"2022-12-14T20:56:18+00:00\"}, {\"forecast_timestamp\": \"2022-11-16T16:00:55+00:00\", \"team\": \"France\", \"group\": \"D\", \"spi\": 87.70516, \"global_o\": 2.77362, \"global_d\": 0.47923, \"sim_wins\": 1.78422, \"sim_ties\": 0.73505, \"sim_losses\": 0.48073, \"sim_goal_diff\": 2.96537, \"goals_scored\": 5.30739, \"goals_against\": 2.34202, \"group_1\": 0.55358, \"group_2\": 0.27328, \"group_3\": 0.12328, \"group_4\": 0.04986, \"make_round_of_16\": 0.82686, \"make_quarters\": 0.54053, \"make_semis\": 0.33135, \"make_final\": 0.17187, \"win_league\": 0.0875, \"timestamp\": \"2022-12-14T20:56:18+00:00\"}, {\"forecast_timestamp\": \"2022-11-16T16:00:55+00:00\", \"team\": \"Argentina\", \"group\": \"C\", \"spi\": 87.20776, \"global_o\": 2.62755, \"global_d\": 0.4317, \"sim_wins\": 1.83671, \"sim_ties\": 0.73199, \"sim_losses\": 0.4313, \"sim_goal_diff\": 3.16936, \"goals_scored\": 5.33484, \"goals_against\": 2.16548, \"group_1\": 0.59722, \"group_2\": 0.24273, \"group_3\": 0.11295, \"group_4\": 0.0471, \"make_round_of_16\": 0.83995, \"make_quarters\": 0.53091, \"make_semis\": 0.32755, \"make_final\": 0.15944, \"win_league\": 0.08476, \"timestamp\": \"2022-12-14T20:56:18+00:00\"}, {\"forecast_timestamp\": \"2022-11-16T16:00:55+00:00\", \"team\": \"Portugal\", \"group\": \"H\", \"spi\": 87.77456, \"global_o\": 2.78861, \"global_d\": 0.48293, \"sim_wins\": 1.74211, \"sim_ties\": 0.74742, \"sim_losses\": 0.51047, \"sim_goal_diff\": 2.80761, \"goals_scored\": 5.18913, \"goals_against\": 2.38152, \"group_1\": 0.53461, \"group_2\": 0.27626, \"group_3\": 0.13468, \"group_4\": 0.05445, \"make_round_of_16\": 0.81087, \"make_quarters\": 0.45583, \"make_semis\": 0.26028, \"make_final\": 0.15248, \"win_league\": 0.07629, \"timestamp\": \"2022-12-14T20:56:18+00:00\"}, {\"forecast_timestamp\": \"2022-11-16T16:00:55+00:00\", \"team\": \"Germany\", \"group\": \"E\", \"spi\": 88.7737, \"global_o\": 3.17168, \"global_d\": 0.61922, \"sim_wins\": 1.65986, \"sim_ties\": 0.65542, \"sim_losses\": 0.68472, \"sim_goal_diff\": 2.55211, \"goals_scored\": 5.8586, \"goals_against\": 3.30649, \"group_1\": 0.40333, \"group_2\": 0.36091, \"group_3\": 0.18128, \"group_4\": 0.05448, \"make_round_of_16\": 0.76424, \"make_quarters\": 0.49584, \"make_semis\": 0.24828, \"make_final\": 0.14385, \"win_league\": 0.07425, \"timestamp\": \"2022-12-14T20:56:18+00:00\"}, {\"forecast_timestamp\": \"2022-11-16T16:00:55+00:00\", \"team\": \"England\", \"group\": \"B\", \"spi\": 85.95712, \"global_o\": 2.553, \"global_d\": 0.45994, \"sim_wins\": 1.71265, \"sim_ties\": 0.79415, \"sim_losses\": 0.4932, \"sim_goal_diff\": 2.62876, \"goals_scored\": 4.87722, \"goals_against\": 2.24846, \"group_1\": 0.55445, \"group_2\": 0.24981, \"group_3\": 0.12986, \"group_4\": 0.06588, \"make_round_of_16\": 0.80426, \"make_quarters\": 0.51608, \"make_semis\": 0.28996, \"make_final\": 0.14689, \"win_league\": 0.07136, \"timestamp\": \"2022-12-14T20:56:18+00:00\"}, {\"forecast_timestamp\": \"2022-11-16T16:00:55+00:00\", \"team\": \"Netherlands\", \"group\": \"A\", \"spi\": 86.01102, \"global_o\": 2.79647, \"global_d\": 0.58975, \"sim_wins\": 1.73222, \"sim_ties\": 0.71039, \"sim_losses\": 0.55739, \"sim_goal_diff\": 2.89991, \"goals_scored\": 5.86382, \"goals_against\": 2.96391, \"group_1\": 0.53223, \"group_2\": 0.25783, \"group_3\": 0.14552, \"group_4\": 0.06442, \"make_round_of_16\": 0.79006, \"make_quarters\": 0.4899, \"make_semis\": 0.2666, \"make_final\": 0.11908, \"win_league\": 0.0596, \"timestamp\": \"2022-12-14T20:56:18+00:00\"}, {\"forecast_timestamp\": \"2022-11-16T16:00:55+00:00\", \"team\": \"Denmark\", \"group\": \"D\", \"spi\": 80.01595, \"global_o\": 2.2889, \"global_d\": 0.60196, \"sim_wins\": 1.31537, \"sim_ties\": 0.83937, \"sim_losses\": 0.84526, \"sim_goal_diff\": 0.99315, \"goals_scored\": 4.09363, \"goals_against\": 3.10048, \"group_1\": 0.29056, \"group_2\": 0.35779, \"group_3\": 0.22531, \"group_4\": 0.12634, \"make_round_of_16\": 0.64835, \"make_quarters\": 0.33253, \"make_semis\": 0.16865, \"make_final\": 0.06883, \"win_league\": 0.02842, \"timestamp\": \"2022-12-14T20:56:18+00:00\"}, {\"forecast_timestamp\": \"2022-11-16T16:00:55+00:00\", \"team\": \"Uruguay\", \"group\": \"H\", \"spi\": 80.90448, \"global_o\": 2.25529, \"global_d\": 0.53963, \"sim_wins\": 1.32689, \"sim_ties\": 0.86229, \"sim_losses\": 0.81082, \"sim_goal_diff\": 1.06659, \"goals_scored\": 3.96556, \"goals_against\": 2.89897, \"group_1\": 0.29815, \"group_2\": 0.35459, \"group_3\": 0.22909, \"group_4\": 0.11817, \"make_round_of_16\": 0.65274, \"make_quarters\": 0.28244, \"make_semis\": 0.13261, \"make_final\": 0.06615, \"win_league\": 0.02828, \"timestamp\": \"2022-12-14T20:56:18+00:00\"}, {\"forecast_timestamp\": \"2022-11-16T16:00:55+00:00\", \"team\": \"Belgium\", \"group\": \"F\", \"spi\": 82.49005, \"global_o\": 2.62457, \"global_d\": 0.6845, \"sim_wins\": 1.32798, \"sim_ties\": 0.8056, \"sim_losses\": 0.86642, \"sim_goal_diff\": 1.04043, \"goals_scored\": 4.71514, \"goals_against\": 3.67471, \"group_1\": 0.35643, \"group_2\": 0.26757, \"group_3\": 0.21261, \"group_4\": 0.16339, \"make_round_of_16\": 0.624, \"make_quarters\": 0.27365, \"make_semis\": 0.12034, \"make_final\": 0.06141, \"win_league\": 0.02608, \"timestamp\": \"2022-12-14T20:56:18+00:00\"}, {\"forecast_timestamp\": \"2022-11-16T16:00:55+00:00\", \"team\": \"Croatia\", \"group\": \"F\", \"spi\": 78.84025, \"global_o\": 2.28577, \"global_d\": 0.65525, \"sim_wins\": 1.15695, \"sim_ties\": 0.84997, \"sim_losses\": 0.99308, \"sim_goal_diff\": 0.32548, \"goals_scored\": 4.07091, \"goals_against\": 3.74543, \"group_1\": 0.27547, \"group_2\": 0.26872, \"group_3\": 0.2432, \"group_4\": 0.21261, \"make_round_of_16\": 0.54419, \"make_quarters\": 0.21411, \"make_semis\": 0.08819, \"make_final\": 0.04219, \"win_league\": 0.01702, \"timestamp\": \"2022-12-14T20:56:18+00:00\"}, {\"forecast_timestamp\": \"2022-11-16T16:00:55+00:00\", \"team\": \"Switzerland\", \"group\": \"G\", \"spi\": 77.64665, \"global_o\": 2.23118, \"global_d\": 0.67527, \"sim_wins\": 1.01246, \"sim_ties\": 0.79286, \"sim_losses\": 1.19468, \"sim_goal_diff\": -0.49222, \"goals_scored\": 3.61276, \"goals_against\": 4.10498, \"group_1\": 0.13455, \"group_2\": 0.34406, \"group_3\": 0.30746, \"group_4\": 0.21393, \"make_round_of_16\": 0.47861, \"make_quarters\": 0.20741, \"make_semis\": 0.0888, \"make_final\": 0.03948, \"win_league\": 0.01455, \"timestamp\": \"2022-12-14T20:56:18+00:00\"}, {\"forecast_timestamp\": \"2022-11-16T16:00:55+00:00\", \"team\": \"USA\", \"group\": \"B\", \"spi\": 74.83489, \"global_o\": 2.11382, \"global_d\": 0.7233, \"sim_wins\": 1.08538, \"sim_ties\": 0.87897, \"sim_losses\": 1.03565, \"sim_goal_diff\": 0.07698, \"goals_scored\": 3.58459, \"goals_against\": 3.50761, \"group_1\": 0.2214, \"group_2\": 0.30813, \"group_3\": 0.26353, \"group_4\": 0.20694, \"make_round_of_16\": 0.52953, \"make_quarters\": 0.24297, \"make_semis\": 0.10082, \"make_final\": 0.03517, \"win_league\": 0.01304, \"timestamp\": \"2022-12-14T20:56:18+00:00\"}, {\"forecast_timestamp\": \"2022-11-16T16:00:55+00:00\", \"team\": \"Mexico\", \"group\": \"C\", \"spi\": 74.29647, \"global_o\": 2.00635, \"global_d\": 0.67211, \"sim_wins\": 1.10911, \"sim_ties\": 0.86111, \"sim_losses\": 1.02978, \"sim_goal_diff\": 0.15824, \"goals_scored\": 3.62095, \"goals_against\": 3.46271, \"group_1\": 0.20717, \"group_2\": 0.32919, \"group_3\": 0.27301, \"group_4\": 0.19063, \"make_round_of_16\": 0.53636, \"make_quarters\": 0.22207, \"make_semis\": 0.09943, \"make_final\": 0.03394, \"win_league\": 0.01268, \"timestamp\": \"2022-12-14T20:56:18+00:00\"}, {\"forecast_timestamp\": \"2022-11-16T16:00:55+00:00\", \"team\": \"Senegal\", \"group\": \"A\", \"spi\": 73.8414, \"global_o\": 1.94597, \"global_d\": 0.64928, \"sim_wins\": 1.10327, \"sim_ties\": 0.84656, \"sim_losses\": 1.05017, \"sim_goal_diff\": 0.13989, \"goals_scored\": 3.84251, \"goals_against\": 3.70262, \"group_1\": 0.20957, \"group_2\": 0.30172, \"group_3\": 0.29356, \"group_4\": 0.19515, \"make_round_of_16\": 0.51129, \"make_quarters\": 0.23152, \"make_semis\": 0.09563, \"make_final\": 0.03294, \"win_league\": 0.01199, \"timestamp\": \"2022-12-14T20:56:18+00:00\"}, {\"forecast_timestamp\": \"2022-11-16T16:00:55+00:00\", \"team\": \"Ecuador\", \"group\": \"A\", \"spi\": 72.74127, \"global_o\": 1.95582, \"global_d\": 0.70294, \"sim_wins\": 1.06051, \"sim_ties\": 0.83314, \"sim_losses\": 1.10635, \"sim_goal_diff\": -0.08847, \"goals_scored\": 3.80594, \"goals_against\": 3.89441, \"group_1\": 0.19014, \"group_2\": 0.29195, \"group_3\": 0.30458, \"group_4\": 0.21333, \"make_round_of_16\": 0.48209, \"make_quarters\": 0.20916, \"make_semis\": 0.08389, \"make_final\": 0.02817, \"win_league\": 0.01022, \"timestamp\": \"2022-12-14T20:56:18+00:00\"}, {\"forecast_timestamp\": \"2022-11-16T16:00:55+00:00\", \"team\": \"Morocco\", \"group\": \"F\", \"spi\": 75.62263, \"global_o\": 2.10023, \"global_d\": 0.67896, \"sim_wins\": 1.00739, \"sim_ties\": 0.86128, \"sim_losses\": 1.13133, \"sim_goal_diff\": -0.27965, \"goals_scored\": 3.68217, \"goals_against\": 3.96182, \"group_1\": 0.21422, \"group_2\": 0.25051, \"group_3\": 0.26928, \"group_4\": 0.26599, \"make_round_of_16\": 0.46473, \"make_quarters\": 0.16532, \"make_semis\": 0.06159, \"make_final\": 0.02701, \"win_league\": 0.01021, \"timestamp\": \"2022-12-14T20:56:18+00:00\"}, {\"forecast_timestamp\": \"2022-11-16T16:00:55+00:00\", \"team\": \"Serbia\", \"group\": \"G\", \"spi\": 75.83904, \"global_o\": 2.21814, \"global_d\": 0.74974, \"sim_wins\": 0.91609, \"sim_ties\": 0.77856, \"sim_losses\": 1.30535, \"sim_goal_diff\": -0.98479, \"goals_scored\": 3.4681, \"goals_against\": 4.45289, \"group_1\": 0.10954, \"group_2\": 0.30341, \"group_3\": 0.33362, \"group_4\": 0.25343, \"make_round_of_16\": 0.41295, \"make_quarters\": 0.16587, \"make_semis\": 0.06658, \"make_final\": 0.02878, \"win_league\": 0.01, \"timestamp\": \"2022-12-14T20:56:18+00:00\"}, {\"forecast_timestamp\": \"2022-11-16T16:00:55+00:00\", \"team\": \"Japan\", \"group\": \"E\", \"spi\": 71.43695, \"global_o\": 1.98575, \"global_d\": 0.78071, \"sim_wins\": 0.9156, \"sim_ties\": 0.76006, \"sim_losses\": 1.32434, \"sim_goal_diff\": -1.03341, \"goals_scored\": 3.51877, \"goals_against\": 4.55218, \"group_1\": 0.11084, \"group_2\": 0.23408, \"group_3\": 0.43682, \"group_4\": 0.21826, \"make_round_of_16\": 0.34492, \"make_quarters\": 0.1576, \"make_semis\": 0.05775, \"make_final\": 0.02465, \"win_league\": 0.00876, \"timestamp\": \"2022-12-14T20:56:18+00:00\"}, {\"forecast_timestamp\": \"2022-11-16T16:00:55+00:00\", \"team\": \"Canada\", \"group\": \"F\", \"spi\": 71.58583, \"global_o\": 1.94737, \"global_d\": 0.74608, \"sim_wins\": 0.82211, \"sim_ties\": 0.85429, \"sim_losses\": 1.3236, \"sim_goal_diff\": -1.08626, \"goals_scored\": 3.26725, \"goals_against\": 4.35351, \"group_1\": 0.15388, \"group_2\": 0.2132, \"group_3\": 0.27491, \"group_4\": 0.35801, \"make_round_of_16\": 0.36708, \"make_quarters\": 0.11482, \"make_semis\": 0.03869, \"make_final\": 0.01591, \"win_league\": 0.0055, \"timestamp\": \"2022-12-14T20:56:18+00:00\"}, {\"forecast_timestamp\": \"2022-11-16T16:00:55+00:00\", \"team\": \"Poland\", \"group\": \"C\", \"spi\": 68.28098, \"global_o\": 1.87603, \"global_d\": 0.83283, \"sim_wins\": 0.84879, \"sim_ties\": 0.83305, \"sim_losses\": 1.31816, \"sim_goal_diff\": -1.06316, \"goals_scored\": 3.14758, \"goals_against\": 4.21074, \"group_1\": 0.12588, \"group_2\": 0.25332, \"group_3\": 0.31968, \"group_4\": 0.30112, \"make_round_of_16\": 0.3792, \"make_quarters\": 0.12938, \"make_semis\": 0.05029, \"make_final\": 0.01471, \"win_league\": 0.00463, \"timestamp\": \"2022-12-14T20:56:18+00:00\"}, {\"forecast_timestamp\": \"2022-11-16T16:00:55+00:00\", \"team\": \"South Korea\", \"group\": \"H\", \"spi\": 66.12313, \"global_o\": 1.73414, \"global_d\": 0.81094, \"sim_wins\": 0.82649, \"sim_ties\": 0.85594, \"sim_losses\": 1.31757, \"sim_goal_diff\": -1.13309, \"goals_scored\": 2.91359, \"goals_against\": 4.04668, \"group_1\": 0.12062, \"group_2\": 0.23574, \"group_3\": 0.35148, \"group_4\": 0.29216, \"make_round_of_16\": 0.35636, \"make_quarters\": 0.10596, \"make_semis\": 0.03783, \"make_final\": 0.01429, \"win_league\": 0.00449, \"timestamp\": \"2022-12-14T20:56:18+00:00\"}, {\"forecast_timestamp\": \"2022-11-16T16:00:55+00:00\", \"team\": \"Tunisia\", \"group\": \"D\", \"spi\": 65.85461, \"global_o\": 1.63339, \"global_d\": 0.74077, \"sim_wins\": 0.73256, \"sim_ties\": 0.86585, \"sim_losses\": 1.40159, \"sim_goal_diff\": -1.46599, \"goals_scored\": 2.62304, \"goals_against\": 4.08903, \"group_1\": 0.09675, \"group_2\": 0.21187, \"group_3\": 0.34901, \"group_4\": 0.34237, \"make_round_of_16\": 0.30862, \"make_quarters\": 0.11045, \"make_semis\": 0.04178, \"make_final\": 0.01166, \"win_league\": 0.00382, \"timestamp\": \"2022-12-14T20:56:18+00:00\"}, {\"forecast_timestamp\": \"2022-11-16T16:00:55+00:00\", \"team\": \"Iran\", \"group\": \"B\", \"spi\": 62.17412, \"global_o\": 1.51146, \"global_d\": 0.78563, \"sim_wins\": 0.75007, \"sim_ties\": 0.9078, \"sim_losses\": 1.34213, \"sim_goal_diff\": -1.23015, \"goals_scored\": 2.62104, \"goals_against\": 3.85119, \"group_1\": 0.1152, \"group_2\": 0.22687, \"group_3\": 0.3076, \"group_4\": 0.35033, \"make_round_of_16\": 0.34207, \"make_quarters\": 0.12694, \"make_semis\": 0.04371, \"make_final\": 0.01241, \"win_league\": 0.00365, \"timestamp\": \"2022-12-14T20:56:18+00:00\"}, {\"forecast_timestamp\": \"2022-11-16T16:00:55+00:00\", \"team\": \"Wales\", \"group\": \"B\", \"spi\": 65.58314, \"global_o\": 1.7128, \"global_d\": 0.81593, \"sim_wins\": 0.72363, \"sim_ties\": 0.87562, \"sim_losses\": 1.40075, \"sim_goal_diff\": -1.47559, \"goals_scored\": 2.67891, \"goals_against\": 4.1545, \"group_1\": 0.10895, \"group_2\": 0.21519, \"group_3\": 0.29901, \"group_4\": 0.37685, \"make_round_of_16\": 0.32414, \"make_quarters\": 0.11755, \"make_semis\": 0.03968, \"make_final\": 0.01153, \"win_league\": 0.00345, \"timestamp\": \"2022-12-14T20:56:18+00:00\"}, {\"forecast_timestamp\": \"2022-11-16T16:00:55+00:00\", \"team\": \"Cameroon\", \"group\": \"G\", \"spi\": 64.15924, \"global_o\": 1.65744, \"global_d\": 0.82883, \"sim_wins\": 0.5109, \"sim_ties\": 0.72564, \"sim_losses\": 1.76346, \"sim_goal_diff\": -2.98603, \"goals_scored\": 2.30607, \"goals_against\": 5.2921, \"group_1\": 0.03952, \"group_2\": 0.15847, \"group_3\": 0.29046, \"group_4\": 0.51155, \"make_round_of_16\": 0.19799, \"make_quarters\": 0.05796, \"make_semis\": 0.01791, \"make_final\": 0.00597, \"win_league\": 0.00167, \"timestamp\": \"2022-12-14T20:56:18+00:00\"}, {\"forecast_timestamp\": \"2022-11-16T16:00:55+00:00\", \"team\": \"Saudi Arabia\", \"group\": \"C\", \"spi\": 56.86592, \"global_o\": 1.50018, \"global_d\": 0.99118, \"sim_wins\": 0.59721, \"sim_ties\": 0.79021, \"sim_losses\": 1.61258, \"sim_goal_diff\": -2.26444, \"goals_scored\": 2.55321, \"goals_against\": 4.81765, \"group_1\": 0.06973, \"group_2\": 0.17476, \"group_3\": 0.29436, \"group_4\": 0.46115, \"make_round_of_16\": 0.24449, \"make_quarters\": 0.06913, \"make_semis\": 0.02164, \"make_final\": 0.00516, \"win_league\": 0.00132, \"timestamp\": \"2022-12-14T20:56:18+00:00\"}, {\"forecast_timestamp\": \"2022-11-16T16:00:55+00:00\", \"team\": \"Australia\", \"group\": \"D\", \"spi\": 60.83178, \"global_o\": 1.59388, \"global_d\": 0.91112, \"sim_wins\": 0.55148, \"sim_ties\": 0.79247, \"sim_losses\": 1.65605, \"sim_goal_diff\": -2.49253, \"goals_scored\": 2.36908, \"goals_against\": 4.86161, \"group_1\": 0.05911, \"group_2\": 0.15706, \"group_3\": 0.3024, \"group_4\": 0.48143, \"make_round_of_16\": 0.21617, \"make_quarters\": 0.065, \"make_semis\": 0.02062, \"make_final\": 0.00454, \"win_league\": 0.00124, \"timestamp\": \"2022-12-14T20:56:18+00:00\"}, {\"forecast_timestamp\": \"2022-11-16T16:00:55+00:00\", \"team\": \"Qatar\", \"group\": \"A\", \"spi\": 51.00223, \"global_o\": 1.57111, \"global_d\": 1.31642, \"sim_wins\": 0.56555, \"sim_ties\": 0.68681, \"sim_losses\": 1.74764, \"sim_goal_diff\": -2.95133, \"goals_scored\": 3.11894, \"goals_against\": 6.07027, \"group_1\": 0.06806, \"group_2\": 0.1485, \"group_3\": 0.25634, \"group_4\": 0.5271, \"make_round_of_16\": 0.21656, \"make_quarters\": 0.06588, \"make_semis\": 0.0184, \"make_final\": 0.00399, \"win_league\": 0.00096, \"timestamp\": \"2022-12-14T20:56:18+00:00\"}, {\"forecast_timestamp\": \"2022-11-16T16:00:55+00:00\", \"team\": \"Ghana\", \"group\": \"H\", \"spi\": 58.62702, \"global_o\": 1.43347, \"global_d\": 0.85806, \"sim_wins\": 0.4673, \"sim_ties\": 0.80877, \"sim_losses\": 1.72393, \"sim_goal_diff\": -2.74111, \"goals_scored\": 1.99867, \"goals_against\": 4.73978, \"group_1\": 0.04662, \"group_2\": 0.13341, \"group_3\": 0.28475, \"group_4\": 0.53522, \"make_round_of_16\": 0.18003, \"make_quarters\": 0.03586, \"make_semis\": 0.00945, \"make_final\": 0.00284, \"win_league\": 0.00063, \"timestamp\": \"2022-12-14T20:56:18+00:00\"}, {\"forecast_timestamp\": \"2022-11-16T16:00:55+00:00\", \"team\": \"Costa Rica\", \"group\": \"E\", \"spi\": 55.45518, \"global_o\": 1.39816, \"global_d\": 0.95388, \"sim_wins\": 0.29847, \"sim_ties\": 0.61279, \"sim_losses\": 2.08874, \"sim_goal_diff\": -4.39879, \"goals_scored\": 1.8086, \"goals_against\": 6.20739, \"group_1\": 0.01743, \"group_2\": 0.06655, \"group_3\": 0.22772, \"group_4\": 0.6883, \"make_round_of_16\": 0.08398, \"make_quarters\": 0.0229, \"make_semis\": 0.0051, \"make_final\": 0.00132, \"win_league\": 0.00032, \"timestamp\": \"2022-12-14T20:56:18+00:00\"}]}}, {\"mode\": \"vega-lite\"});\n",
       "</script>"
      ],
      "text/plain": [
       "alt.Chart(...)"
      ]
     },
     "execution_count": 11,
     "metadata": {},
     "output_type": "execute_result"
    }
   ],
   "source": [
    "%matplotlib inline\n",
    "import altair as alt\n",
    "\n",
    "# Visualize the data\n",
    "alt.Chart(df).mark_circle(size=100).encode(\n",
    "    x=alt.X('spi',\n",
    "            axis=alt.Axis(title='ESPN Soccer Power Index',\n",
    "                          labelAngle=0,\n",
    "                          titleAnchor='start',\n",
    "                          grid=False)),\n",
    "    y=alt.Y('win_league',\n",
    "            axis=alt.Axis(title='Wahrscheinlichkeit für den WM Sieg',\n",
    "                          titleAnchor='end',\n",
    "                          grid=False)),\n",
    "    color=alt.Color('team', legend=None),\n",
    "    tooltip=['team', 'spi', 'win_league']\n",
    "\n",
    ").properties(\n",
    "    title={'text':'Korrelation des SPI und der Wahrscheinloichkeit die WM zu gewinnen','subtitle':'Für die Fußballweltmeisterschaft im Jahr 2022'},  \n",
    "    width=500,\n",
    "    height=300\n",
    ").configure_view(\n",
    "    strokeWidth=0\n",
    ").configure_title( \n",
    "    fontSize=16,\n",
    "    font='Arial',\n",
    "    color='black',\n",
    "    anchor='start'\n",
    ").interactive()"
   ]
  },
  {
   "cell_type": "markdown",
   "metadata": {},
   "source": [
    "Diese Visualisierung soll die Korrelation von SPI und der Wahrscheinlichkeit, die WM zu gewinnen, darstellen.\n",
    "Wie man sehen kann, erhöht sich die Wahrscheinlichkeit eines Gewinns, je höher der SPI. Die Farben stellen die einzelnen Teams dar. Es wurde ein Scatterplot verwendet, da es sich um zwei numerische Variablen handelt."
   ]
  },
  {
   "cell_type": "markdown",
   "metadata": {},
   "source": [
    "### Korrelation zwischen Tordifferenz und Soccer Power Index"
   ]
  },
  {
   "cell_type": "code",
   "execution_count": 12,
   "metadata": {},
   "outputs": [],
   "source": [
    "# define outcome variable as y_label\n",
    "y_label = 'spi'\n",
    "\n",
    "# select features\n",
    "X = df[[\"sim_goal_diff\"]]\n",
    "\n",
    "# create response\n",
    "y = df[y_label]"
   ]
  },
  {
   "cell_type": "code",
   "execution_count": 13,
   "metadata": {},
   "outputs": [
    {
     "data": {
      "text/html": [
       "\n",
       "<div id=\"altair-viz-a0f3e7f2e5f24b368b3f87626ac7e6dc\"></div>\n",
       "<script type=\"text/javascript\">\n",
       "  var VEGA_DEBUG = (typeof VEGA_DEBUG == \"undefined\") ? {} : VEGA_DEBUG;\n",
       "  (function(spec, embedOpt){\n",
       "    let outputDiv = document.currentScript.previousElementSibling;\n",
       "    if (outputDiv.id !== \"altair-viz-a0f3e7f2e5f24b368b3f87626ac7e6dc\") {\n",
       "      outputDiv = document.getElementById(\"altair-viz-a0f3e7f2e5f24b368b3f87626ac7e6dc\");\n",
       "    }\n",
       "    const paths = {\n",
       "      \"vega\": \"https://cdn.jsdelivr.net/npm//vega@5?noext\",\n",
       "      \"vega-lib\": \"https://cdn.jsdelivr.net/npm//vega-lib?noext\",\n",
       "      \"vega-lite\": \"https://cdn.jsdelivr.net/npm//vega-lite@4.17.0?noext\",\n",
       "      \"vega-embed\": \"https://cdn.jsdelivr.net/npm//vega-embed@6?noext\",\n",
       "    };\n",
       "\n",
       "    function maybeLoadScript(lib, version) {\n",
       "      var key = `${lib.replace(\"-\", \"\")}_version`;\n",
       "      return (VEGA_DEBUG[key] == version) ?\n",
       "        Promise.resolve(paths[lib]) :\n",
       "        new Promise(function(resolve, reject) {\n",
       "          var s = document.createElement('script');\n",
       "          document.getElementsByTagName(\"head\")[0].appendChild(s);\n",
       "          s.async = true;\n",
       "          s.onload = () => {\n",
       "            VEGA_DEBUG[key] = version;\n",
       "            return resolve(paths[lib]);\n",
       "          };\n",
       "          s.onerror = () => reject(`Error loading script: ${paths[lib]}`);\n",
       "          s.src = paths[lib];\n",
       "        });\n",
       "    }\n",
       "\n",
       "    function showError(err) {\n",
       "      outputDiv.innerHTML = `<div class=\"error\" style=\"color:red;\">${err}</div>`;\n",
       "      throw err;\n",
       "    }\n",
       "\n",
       "    function displayChart(vegaEmbed) {\n",
       "      vegaEmbed(outputDiv, spec, embedOpt)\n",
       "        .catch(err => showError(`Javascript Error: ${err.message}<br>This usually means there's a typo in your chart specification. See the javascript console for the full traceback.`));\n",
       "    }\n",
       "\n",
       "    if(typeof define === \"function\" && define.amd) {\n",
       "      requirejs.config({paths});\n",
       "      require([\"vega-embed\"], displayChart, err => showError(`Error loading script: ${err.message}`));\n",
       "    } else {\n",
       "      maybeLoadScript(\"vega\", \"5\")\n",
       "        .then(() => maybeLoadScript(\"vega-lite\", \"4.17.0\"))\n",
       "        .then(() => maybeLoadScript(\"vega-embed\", \"6\"))\n",
       "        .catch(showError)\n",
       "        .then(() => displayChart(vegaEmbed));\n",
       "    }\n",
       "  })({\"config\": {\"view\": {\"continuousWidth\": 400, \"continuousHeight\": 300, \"strokeWidth\": 0}, \"title\": {\"anchor\": \"start\", \"color\": \"black\", \"font\": \"Arial\", \"fontSize\": 16}}, \"data\": {\"name\": \"data-56baa678e382e6af0ea107f7f4af628d\"}, \"mark\": {\"type\": \"circle\", \"size\": 100}, \"encoding\": {\"color\": {\"field\": \"team\", \"legend\": null, \"type\": \"nominal\"}, \"tooltip\": [{\"field\": \"team\", \"type\": \"nominal\"}, {\"field\": \"spi\", \"type\": \"quantitative\"}, {\"field\": \"sim_goal_diff\", \"type\": \"quantitative\"}], \"x\": {\"axis\": {\"grid\": false, \"labelAngle\": 0, \"title\": \"ESPN Soccer Power Index\", \"titleAnchor\": \"start\"}, \"field\": \"spi\", \"type\": \"quantitative\"}, \"y\": {\"axis\": {\"grid\": false, \"title\": \"Tordifferenz\", \"titleAnchor\": \"end\"}, \"field\": \"sim_goal_diff\", \"type\": \"quantitative\"}}, \"height\": 300, \"selection\": {\"selector002\": {\"type\": \"interval\", \"bind\": \"scales\", \"encodings\": [\"x\", \"y\"]}}, \"title\": {\"text\": \"Korrelation des SPI und der Tordifferenz\", \"subtitle\": \"F\\u00fcr die Fu\\u00dfballweltmeisterschaft im Jahr 2022\"}, \"width\": 500, \"$schema\": \"https://vega.github.io/schema/vega-lite/v4.17.0.json\", \"datasets\": {\"data-56baa678e382e6af0ea107f7f4af628d\": [{\"forecast_timestamp\": \"2022-11-16T16:00:55+00:00\", \"team\": \"Brazil\", \"group\": \"G\", \"spi\": 93.54699, \"global_o\": 3.22213, \"global_d\": 0.29634, \"sim_wins\": 2.11474, \"sim_ties\": 0.59456, \"sim_losses\": 0.2907, \"sim_goal_diff\": 4.46304, \"goals_scored\": 6.30163, \"goals_against\": 1.83859, \"group_1\": 0.71639, \"group_2\": 0.19406, \"group_3\": 0.06846, \"group_4\": 0.02109, \"make_round_of_16\": 0.91045, \"make_quarters\": 0.68867, \"make_semis\": 0.46381, \"make_final\": 0.32477, \"win_league\": 0.21668, \"timestamp\": \"2022-12-14T20:56:18+00:00\"}, {\"forecast_timestamp\": \"2022-11-16T16:00:55+00:00\", \"team\": \"Spain\", \"group\": \"E\", \"spi\": 89.50604, \"global_o\": 2.80203, \"global_d\": 0.38627, \"sim_wins\": 1.76309, \"sim_ties\": 0.69769, \"sim_losses\": 0.53922, \"sim_goal_diff\": 2.88009, \"goals_scored\": 5.46797, \"goals_against\": 2.58788, \"group_1\": 0.4684, \"group_2\": 0.33846, \"group_3\": 0.15418, \"group_4\": 0.03896, \"make_round_of_16\": 0.80686, \"make_quarters\": 0.55576, \"make_semis\": 0.30279, \"make_final\": 0.18857, \"win_league\": 0.10663, \"timestamp\": \"2022-12-14T20:56:18+00:00\"}, {\"forecast_timestamp\": \"2022-11-16T16:00:55+00:00\", \"team\": \"France\", \"group\": \"D\", \"spi\": 87.70516, \"global_o\": 2.77362, \"global_d\": 0.47923, \"sim_wins\": 1.78422, \"sim_ties\": 0.73505, \"sim_losses\": 0.48073, \"sim_goal_diff\": 2.96537, \"goals_scored\": 5.30739, \"goals_against\": 2.34202, \"group_1\": 0.55358, \"group_2\": 0.27328, \"group_3\": 0.12328, \"group_4\": 0.04986, \"make_round_of_16\": 0.82686, \"make_quarters\": 0.54053, \"make_semis\": 0.33135, \"make_final\": 0.17187, \"win_league\": 0.0875, \"timestamp\": \"2022-12-14T20:56:18+00:00\"}, {\"forecast_timestamp\": \"2022-11-16T16:00:55+00:00\", \"team\": \"Argentina\", \"group\": \"C\", \"spi\": 87.20776, \"global_o\": 2.62755, \"global_d\": 0.4317, \"sim_wins\": 1.83671, \"sim_ties\": 0.73199, \"sim_losses\": 0.4313, \"sim_goal_diff\": 3.16936, \"goals_scored\": 5.33484, \"goals_against\": 2.16548, \"group_1\": 0.59722, \"group_2\": 0.24273, \"group_3\": 0.11295, \"group_4\": 0.0471, \"make_round_of_16\": 0.83995, \"make_quarters\": 0.53091, \"make_semis\": 0.32755, \"make_final\": 0.15944, \"win_league\": 0.08476, \"timestamp\": \"2022-12-14T20:56:18+00:00\"}, {\"forecast_timestamp\": \"2022-11-16T16:00:55+00:00\", \"team\": \"Portugal\", \"group\": \"H\", \"spi\": 87.77456, \"global_o\": 2.78861, \"global_d\": 0.48293, \"sim_wins\": 1.74211, \"sim_ties\": 0.74742, \"sim_losses\": 0.51047, \"sim_goal_diff\": 2.80761, \"goals_scored\": 5.18913, \"goals_against\": 2.38152, \"group_1\": 0.53461, \"group_2\": 0.27626, \"group_3\": 0.13468, \"group_4\": 0.05445, \"make_round_of_16\": 0.81087, \"make_quarters\": 0.45583, \"make_semis\": 0.26028, \"make_final\": 0.15248, \"win_league\": 0.07629, \"timestamp\": \"2022-12-14T20:56:18+00:00\"}, {\"forecast_timestamp\": \"2022-11-16T16:00:55+00:00\", \"team\": \"Germany\", \"group\": \"E\", \"spi\": 88.7737, \"global_o\": 3.17168, \"global_d\": 0.61922, \"sim_wins\": 1.65986, \"sim_ties\": 0.65542, \"sim_losses\": 0.68472, \"sim_goal_diff\": 2.55211, \"goals_scored\": 5.8586, \"goals_against\": 3.30649, \"group_1\": 0.40333, \"group_2\": 0.36091, \"group_3\": 0.18128, \"group_4\": 0.05448, \"make_round_of_16\": 0.76424, \"make_quarters\": 0.49584, \"make_semis\": 0.24828, \"make_final\": 0.14385, \"win_league\": 0.07425, \"timestamp\": \"2022-12-14T20:56:18+00:00\"}, {\"forecast_timestamp\": \"2022-11-16T16:00:55+00:00\", \"team\": \"England\", \"group\": \"B\", \"spi\": 85.95712, \"global_o\": 2.553, \"global_d\": 0.45994, \"sim_wins\": 1.71265, \"sim_ties\": 0.79415, \"sim_losses\": 0.4932, \"sim_goal_diff\": 2.62876, \"goals_scored\": 4.87722, \"goals_against\": 2.24846, \"group_1\": 0.55445, \"group_2\": 0.24981, \"group_3\": 0.12986, \"group_4\": 0.06588, \"make_round_of_16\": 0.80426, \"make_quarters\": 0.51608, \"make_semis\": 0.28996, \"make_final\": 0.14689, \"win_league\": 0.07136, \"timestamp\": \"2022-12-14T20:56:18+00:00\"}, {\"forecast_timestamp\": \"2022-11-16T16:00:55+00:00\", \"team\": \"Netherlands\", \"group\": \"A\", \"spi\": 86.01102, \"global_o\": 2.79647, \"global_d\": 0.58975, \"sim_wins\": 1.73222, \"sim_ties\": 0.71039, \"sim_losses\": 0.55739, \"sim_goal_diff\": 2.89991, \"goals_scored\": 5.86382, \"goals_against\": 2.96391, \"group_1\": 0.53223, \"group_2\": 0.25783, \"group_3\": 0.14552, \"group_4\": 0.06442, \"make_round_of_16\": 0.79006, \"make_quarters\": 0.4899, \"make_semis\": 0.2666, \"make_final\": 0.11908, \"win_league\": 0.0596, \"timestamp\": \"2022-12-14T20:56:18+00:00\"}, {\"forecast_timestamp\": \"2022-11-16T16:00:55+00:00\", \"team\": \"Denmark\", \"group\": \"D\", \"spi\": 80.01595, \"global_o\": 2.2889, \"global_d\": 0.60196, \"sim_wins\": 1.31537, \"sim_ties\": 0.83937, \"sim_losses\": 0.84526, \"sim_goal_diff\": 0.99315, \"goals_scored\": 4.09363, \"goals_against\": 3.10048, \"group_1\": 0.29056, \"group_2\": 0.35779, \"group_3\": 0.22531, \"group_4\": 0.12634, \"make_round_of_16\": 0.64835, \"make_quarters\": 0.33253, \"make_semis\": 0.16865, \"make_final\": 0.06883, \"win_league\": 0.02842, \"timestamp\": \"2022-12-14T20:56:18+00:00\"}, {\"forecast_timestamp\": \"2022-11-16T16:00:55+00:00\", \"team\": \"Uruguay\", \"group\": \"H\", \"spi\": 80.90448, \"global_o\": 2.25529, \"global_d\": 0.53963, \"sim_wins\": 1.32689, \"sim_ties\": 0.86229, \"sim_losses\": 0.81082, \"sim_goal_diff\": 1.06659, \"goals_scored\": 3.96556, \"goals_against\": 2.89897, \"group_1\": 0.29815, \"group_2\": 0.35459, \"group_3\": 0.22909, \"group_4\": 0.11817, \"make_round_of_16\": 0.65274, \"make_quarters\": 0.28244, \"make_semis\": 0.13261, \"make_final\": 0.06615, \"win_league\": 0.02828, \"timestamp\": \"2022-12-14T20:56:18+00:00\"}, {\"forecast_timestamp\": \"2022-11-16T16:00:55+00:00\", \"team\": \"Belgium\", \"group\": \"F\", \"spi\": 82.49005, \"global_o\": 2.62457, \"global_d\": 0.6845, \"sim_wins\": 1.32798, \"sim_ties\": 0.8056, \"sim_losses\": 0.86642, \"sim_goal_diff\": 1.04043, \"goals_scored\": 4.71514, \"goals_against\": 3.67471, \"group_1\": 0.35643, \"group_2\": 0.26757, \"group_3\": 0.21261, \"group_4\": 0.16339, \"make_round_of_16\": 0.624, \"make_quarters\": 0.27365, \"make_semis\": 0.12034, \"make_final\": 0.06141, \"win_league\": 0.02608, \"timestamp\": \"2022-12-14T20:56:18+00:00\"}, {\"forecast_timestamp\": \"2022-11-16T16:00:55+00:00\", \"team\": \"Croatia\", \"group\": \"F\", \"spi\": 78.84025, \"global_o\": 2.28577, \"global_d\": 0.65525, \"sim_wins\": 1.15695, \"sim_ties\": 0.84997, \"sim_losses\": 0.99308, \"sim_goal_diff\": 0.32548, \"goals_scored\": 4.07091, \"goals_against\": 3.74543, \"group_1\": 0.27547, \"group_2\": 0.26872, \"group_3\": 0.2432, \"group_4\": 0.21261, \"make_round_of_16\": 0.54419, \"make_quarters\": 0.21411, \"make_semis\": 0.08819, \"make_final\": 0.04219, \"win_league\": 0.01702, \"timestamp\": \"2022-12-14T20:56:18+00:00\"}, {\"forecast_timestamp\": \"2022-11-16T16:00:55+00:00\", \"team\": \"Switzerland\", \"group\": \"G\", \"spi\": 77.64665, \"global_o\": 2.23118, \"global_d\": 0.67527, \"sim_wins\": 1.01246, \"sim_ties\": 0.79286, \"sim_losses\": 1.19468, \"sim_goal_diff\": -0.49222, \"goals_scored\": 3.61276, \"goals_against\": 4.10498, \"group_1\": 0.13455, \"group_2\": 0.34406, \"group_3\": 0.30746, \"group_4\": 0.21393, \"make_round_of_16\": 0.47861, \"make_quarters\": 0.20741, \"make_semis\": 0.0888, \"make_final\": 0.03948, \"win_league\": 0.01455, \"timestamp\": \"2022-12-14T20:56:18+00:00\"}, {\"forecast_timestamp\": \"2022-11-16T16:00:55+00:00\", \"team\": \"USA\", \"group\": \"B\", \"spi\": 74.83489, \"global_o\": 2.11382, \"global_d\": 0.7233, \"sim_wins\": 1.08538, \"sim_ties\": 0.87897, \"sim_losses\": 1.03565, \"sim_goal_diff\": 0.07698, \"goals_scored\": 3.58459, \"goals_against\": 3.50761, \"group_1\": 0.2214, \"group_2\": 0.30813, \"group_3\": 0.26353, \"group_4\": 0.20694, \"make_round_of_16\": 0.52953, \"make_quarters\": 0.24297, \"make_semis\": 0.10082, \"make_final\": 0.03517, \"win_league\": 0.01304, \"timestamp\": \"2022-12-14T20:56:18+00:00\"}, {\"forecast_timestamp\": \"2022-11-16T16:00:55+00:00\", \"team\": \"Mexico\", \"group\": \"C\", \"spi\": 74.29647, \"global_o\": 2.00635, \"global_d\": 0.67211, \"sim_wins\": 1.10911, \"sim_ties\": 0.86111, \"sim_losses\": 1.02978, \"sim_goal_diff\": 0.15824, \"goals_scored\": 3.62095, \"goals_against\": 3.46271, \"group_1\": 0.20717, \"group_2\": 0.32919, \"group_3\": 0.27301, \"group_4\": 0.19063, \"make_round_of_16\": 0.53636, \"make_quarters\": 0.22207, \"make_semis\": 0.09943, \"make_final\": 0.03394, \"win_league\": 0.01268, \"timestamp\": \"2022-12-14T20:56:18+00:00\"}, {\"forecast_timestamp\": \"2022-11-16T16:00:55+00:00\", \"team\": \"Senegal\", \"group\": \"A\", \"spi\": 73.8414, \"global_o\": 1.94597, \"global_d\": 0.64928, \"sim_wins\": 1.10327, \"sim_ties\": 0.84656, \"sim_losses\": 1.05017, \"sim_goal_diff\": 0.13989, \"goals_scored\": 3.84251, \"goals_against\": 3.70262, \"group_1\": 0.20957, \"group_2\": 0.30172, \"group_3\": 0.29356, \"group_4\": 0.19515, \"make_round_of_16\": 0.51129, \"make_quarters\": 0.23152, \"make_semis\": 0.09563, \"make_final\": 0.03294, \"win_league\": 0.01199, \"timestamp\": \"2022-12-14T20:56:18+00:00\"}, {\"forecast_timestamp\": \"2022-11-16T16:00:55+00:00\", \"team\": \"Ecuador\", \"group\": \"A\", \"spi\": 72.74127, \"global_o\": 1.95582, \"global_d\": 0.70294, \"sim_wins\": 1.06051, \"sim_ties\": 0.83314, \"sim_losses\": 1.10635, \"sim_goal_diff\": -0.08847, \"goals_scored\": 3.80594, \"goals_against\": 3.89441, \"group_1\": 0.19014, \"group_2\": 0.29195, \"group_3\": 0.30458, \"group_4\": 0.21333, \"make_round_of_16\": 0.48209, \"make_quarters\": 0.20916, \"make_semis\": 0.08389, \"make_final\": 0.02817, \"win_league\": 0.01022, \"timestamp\": \"2022-12-14T20:56:18+00:00\"}, {\"forecast_timestamp\": \"2022-11-16T16:00:55+00:00\", \"team\": \"Morocco\", \"group\": \"F\", \"spi\": 75.62263, \"global_o\": 2.10023, \"global_d\": 0.67896, \"sim_wins\": 1.00739, \"sim_ties\": 0.86128, \"sim_losses\": 1.13133, \"sim_goal_diff\": -0.27965, \"goals_scored\": 3.68217, \"goals_against\": 3.96182, \"group_1\": 0.21422, \"group_2\": 0.25051, \"group_3\": 0.26928, \"group_4\": 0.26599, \"make_round_of_16\": 0.46473, \"make_quarters\": 0.16532, \"make_semis\": 0.06159, \"make_final\": 0.02701, \"win_league\": 0.01021, \"timestamp\": \"2022-12-14T20:56:18+00:00\"}, {\"forecast_timestamp\": \"2022-11-16T16:00:55+00:00\", \"team\": \"Serbia\", \"group\": \"G\", \"spi\": 75.83904, \"global_o\": 2.21814, \"global_d\": 0.74974, \"sim_wins\": 0.91609, \"sim_ties\": 0.77856, \"sim_losses\": 1.30535, \"sim_goal_diff\": -0.98479, \"goals_scored\": 3.4681, \"goals_against\": 4.45289, \"group_1\": 0.10954, \"group_2\": 0.30341, \"group_3\": 0.33362, \"group_4\": 0.25343, \"make_round_of_16\": 0.41295, \"make_quarters\": 0.16587, \"make_semis\": 0.06658, \"make_final\": 0.02878, \"win_league\": 0.01, \"timestamp\": \"2022-12-14T20:56:18+00:00\"}, {\"forecast_timestamp\": \"2022-11-16T16:00:55+00:00\", \"team\": \"Japan\", \"group\": \"E\", \"spi\": 71.43695, \"global_o\": 1.98575, \"global_d\": 0.78071, \"sim_wins\": 0.9156, \"sim_ties\": 0.76006, \"sim_losses\": 1.32434, \"sim_goal_diff\": -1.03341, \"goals_scored\": 3.51877, \"goals_against\": 4.55218, \"group_1\": 0.11084, \"group_2\": 0.23408, \"group_3\": 0.43682, \"group_4\": 0.21826, \"make_round_of_16\": 0.34492, \"make_quarters\": 0.1576, \"make_semis\": 0.05775, \"make_final\": 0.02465, \"win_league\": 0.00876, \"timestamp\": \"2022-12-14T20:56:18+00:00\"}, {\"forecast_timestamp\": \"2022-11-16T16:00:55+00:00\", \"team\": \"Canada\", \"group\": \"F\", \"spi\": 71.58583, \"global_o\": 1.94737, \"global_d\": 0.74608, \"sim_wins\": 0.82211, \"sim_ties\": 0.85429, \"sim_losses\": 1.3236, \"sim_goal_diff\": -1.08626, \"goals_scored\": 3.26725, \"goals_against\": 4.35351, \"group_1\": 0.15388, \"group_2\": 0.2132, \"group_3\": 0.27491, \"group_4\": 0.35801, \"make_round_of_16\": 0.36708, \"make_quarters\": 0.11482, \"make_semis\": 0.03869, \"make_final\": 0.01591, \"win_league\": 0.0055, \"timestamp\": \"2022-12-14T20:56:18+00:00\"}, {\"forecast_timestamp\": \"2022-11-16T16:00:55+00:00\", \"team\": \"Poland\", \"group\": \"C\", \"spi\": 68.28098, \"global_o\": 1.87603, \"global_d\": 0.83283, \"sim_wins\": 0.84879, \"sim_ties\": 0.83305, \"sim_losses\": 1.31816, \"sim_goal_diff\": -1.06316, \"goals_scored\": 3.14758, \"goals_against\": 4.21074, \"group_1\": 0.12588, \"group_2\": 0.25332, \"group_3\": 0.31968, \"group_4\": 0.30112, \"make_round_of_16\": 0.3792, \"make_quarters\": 0.12938, \"make_semis\": 0.05029, \"make_final\": 0.01471, \"win_league\": 0.00463, \"timestamp\": \"2022-12-14T20:56:18+00:00\"}, {\"forecast_timestamp\": \"2022-11-16T16:00:55+00:00\", \"team\": \"South Korea\", \"group\": \"H\", \"spi\": 66.12313, \"global_o\": 1.73414, \"global_d\": 0.81094, \"sim_wins\": 0.82649, \"sim_ties\": 0.85594, \"sim_losses\": 1.31757, \"sim_goal_diff\": -1.13309, \"goals_scored\": 2.91359, \"goals_against\": 4.04668, \"group_1\": 0.12062, \"group_2\": 0.23574, \"group_3\": 0.35148, \"group_4\": 0.29216, \"make_round_of_16\": 0.35636, \"make_quarters\": 0.10596, \"make_semis\": 0.03783, \"make_final\": 0.01429, \"win_league\": 0.00449, \"timestamp\": \"2022-12-14T20:56:18+00:00\"}, {\"forecast_timestamp\": \"2022-11-16T16:00:55+00:00\", \"team\": \"Tunisia\", \"group\": \"D\", \"spi\": 65.85461, \"global_o\": 1.63339, \"global_d\": 0.74077, \"sim_wins\": 0.73256, \"sim_ties\": 0.86585, \"sim_losses\": 1.40159, \"sim_goal_diff\": -1.46599, \"goals_scored\": 2.62304, \"goals_against\": 4.08903, \"group_1\": 0.09675, \"group_2\": 0.21187, \"group_3\": 0.34901, \"group_4\": 0.34237, \"make_round_of_16\": 0.30862, \"make_quarters\": 0.11045, \"make_semis\": 0.04178, \"make_final\": 0.01166, \"win_league\": 0.00382, \"timestamp\": \"2022-12-14T20:56:18+00:00\"}, {\"forecast_timestamp\": \"2022-11-16T16:00:55+00:00\", \"team\": \"Iran\", \"group\": \"B\", \"spi\": 62.17412, \"global_o\": 1.51146, \"global_d\": 0.78563, \"sim_wins\": 0.75007, \"sim_ties\": 0.9078, \"sim_losses\": 1.34213, \"sim_goal_diff\": -1.23015, \"goals_scored\": 2.62104, \"goals_against\": 3.85119, \"group_1\": 0.1152, \"group_2\": 0.22687, \"group_3\": 0.3076, \"group_4\": 0.35033, \"make_round_of_16\": 0.34207, \"make_quarters\": 0.12694, \"make_semis\": 0.04371, \"make_final\": 0.01241, \"win_league\": 0.00365, \"timestamp\": \"2022-12-14T20:56:18+00:00\"}, {\"forecast_timestamp\": \"2022-11-16T16:00:55+00:00\", \"team\": \"Wales\", \"group\": \"B\", \"spi\": 65.58314, \"global_o\": 1.7128, \"global_d\": 0.81593, \"sim_wins\": 0.72363, \"sim_ties\": 0.87562, \"sim_losses\": 1.40075, \"sim_goal_diff\": -1.47559, \"goals_scored\": 2.67891, \"goals_against\": 4.1545, \"group_1\": 0.10895, \"group_2\": 0.21519, \"group_3\": 0.29901, \"group_4\": 0.37685, \"make_round_of_16\": 0.32414, \"make_quarters\": 0.11755, \"make_semis\": 0.03968, \"make_final\": 0.01153, \"win_league\": 0.00345, \"timestamp\": \"2022-12-14T20:56:18+00:00\"}, {\"forecast_timestamp\": \"2022-11-16T16:00:55+00:00\", \"team\": \"Cameroon\", \"group\": \"G\", \"spi\": 64.15924, \"global_o\": 1.65744, \"global_d\": 0.82883, \"sim_wins\": 0.5109, \"sim_ties\": 0.72564, \"sim_losses\": 1.76346, \"sim_goal_diff\": -2.98603, \"goals_scored\": 2.30607, \"goals_against\": 5.2921, \"group_1\": 0.03952, \"group_2\": 0.15847, \"group_3\": 0.29046, \"group_4\": 0.51155, \"make_round_of_16\": 0.19799, \"make_quarters\": 0.05796, \"make_semis\": 0.01791, \"make_final\": 0.00597, \"win_league\": 0.00167, \"timestamp\": \"2022-12-14T20:56:18+00:00\"}, {\"forecast_timestamp\": \"2022-11-16T16:00:55+00:00\", \"team\": \"Saudi Arabia\", \"group\": \"C\", \"spi\": 56.86592, \"global_o\": 1.50018, \"global_d\": 0.99118, \"sim_wins\": 0.59721, \"sim_ties\": 0.79021, \"sim_losses\": 1.61258, \"sim_goal_diff\": -2.26444, \"goals_scored\": 2.55321, \"goals_against\": 4.81765, \"group_1\": 0.06973, \"group_2\": 0.17476, \"group_3\": 0.29436, \"group_4\": 0.46115, \"make_round_of_16\": 0.24449, \"make_quarters\": 0.06913, \"make_semis\": 0.02164, \"make_final\": 0.00516, \"win_league\": 0.00132, \"timestamp\": \"2022-12-14T20:56:18+00:00\"}, {\"forecast_timestamp\": \"2022-11-16T16:00:55+00:00\", \"team\": \"Australia\", \"group\": \"D\", \"spi\": 60.83178, \"global_o\": 1.59388, \"global_d\": 0.91112, \"sim_wins\": 0.55148, \"sim_ties\": 0.79247, \"sim_losses\": 1.65605, \"sim_goal_diff\": -2.49253, \"goals_scored\": 2.36908, \"goals_against\": 4.86161, \"group_1\": 0.05911, \"group_2\": 0.15706, \"group_3\": 0.3024, \"group_4\": 0.48143, \"make_round_of_16\": 0.21617, \"make_quarters\": 0.065, \"make_semis\": 0.02062, \"make_final\": 0.00454, \"win_league\": 0.00124, \"timestamp\": \"2022-12-14T20:56:18+00:00\"}, {\"forecast_timestamp\": \"2022-11-16T16:00:55+00:00\", \"team\": \"Qatar\", \"group\": \"A\", \"spi\": 51.00223, \"global_o\": 1.57111, \"global_d\": 1.31642, \"sim_wins\": 0.56555, \"sim_ties\": 0.68681, \"sim_losses\": 1.74764, \"sim_goal_diff\": -2.95133, \"goals_scored\": 3.11894, \"goals_against\": 6.07027, \"group_1\": 0.06806, \"group_2\": 0.1485, \"group_3\": 0.25634, \"group_4\": 0.5271, \"make_round_of_16\": 0.21656, \"make_quarters\": 0.06588, \"make_semis\": 0.0184, \"make_final\": 0.00399, \"win_league\": 0.00096, \"timestamp\": \"2022-12-14T20:56:18+00:00\"}, {\"forecast_timestamp\": \"2022-11-16T16:00:55+00:00\", \"team\": \"Ghana\", \"group\": \"H\", \"spi\": 58.62702, \"global_o\": 1.43347, \"global_d\": 0.85806, \"sim_wins\": 0.4673, \"sim_ties\": 0.80877, \"sim_losses\": 1.72393, \"sim_goal_diff\": -2.74111, \"goals_scored\": 1.99867, \"goals_against\": 4.73978, \"group_1\": 0.04662, \"group_2\": 0.13341, \"group_3\": 0.28475, \"group_4\": 0.53522, \"make_round_of_16\": 0.18003, \"make_quarters\": 0.03586, \"make_semis\": 0.00945, \"make_final\": 0.00284, \"win_league\": 0.00063, \"timestamp\": \"2022-12-14T20:56:18+00:00\"}, {\"forecast_timestamp\": \"2022-11-16T16:00:55+00:00\", \"team\": \"Costa Rica\", \"group\": \"E\", \"spi\": 55.45518, \"global_o\": 1.39816, \"global_d\": 0.95388, \"sim_wins\": 0.29847, \"sim_ties\": 0.61279, \"sim_losses\": 2.08874, \"sim_goal_diff\": -4.39879, \"goals_scored\": 1.8086, \"goals_against\": 6.20739, \"group_1\": 0.01743, \"group_2\": 0.06655, \"group_3\": 0.22772, \"group_4\": 0.6883, \"make_round_of_16\": 0.08398, \"make_quarters\": 0.0229, \"make_semis\": 0.0051, \"make_final\": 0.00132, \"win_league\": 0.00032, \"timestamp\": \"2022-12-14T20:56:18+00:00\"}]}}, {\"mode\": \"vega-lite\"});\n",
       "</script>"
      ],
      "text/plain": [
       "alt.Chart(...)"
      ]
     },
     "execution_count": 13,
     "metadata": {},
     "output_type": "execute_result"
    }
   ],
   "source": [
    "%matplotlib inline\n",
    "import altair as alt\n",
    "\n",
    "# Visualize the data\n",
    "alt.Chart(df).mark_circle(size=100).encode(\n",
    "    x=alt.X('spi',\n",
    "            axis=alt.Axis(title='ESPN Soccer Power Index',\n",
    "                          labelAngle=0,\n",
    "                          titleAnchor='start',\n",
    "                          grid=False)),\n",
    "    y=alt.Y('sim_goal_diff',\n",
    "            axis=alt.Axis(title='Tordifferenz',\n",
    "                          titleAnchor='end',\n",
    "                          grid=False)),\n",
    "    color=alt.Color('team', legend=None),\n",
    "    tooltip=['team', 'spi', 'sim_goal_diff']\n",
    "\n",
    ").properties(\n",
    "    title={'text':'Korrelation des SPI und der Tordifferenz','subtitle':'Für die Fußballweltmeisterschaft im Jahr 2022'},  \n",
    "    width=500,\n",
    "    height=300\n",
    ").configure_view(\n",
    "    strokeWidth=0\n",
    ").configure_title( \n",
    "    fontSize=16,\n",
    "    font='Arial',\n",
    "    color='black',\n",
    "    anchor='start'\n",
    ").interactive()"
   ]
  },
  {
   "cell_type": "markdown",
   "metadata": {},
   "source": [
    "Auch hier wurde ein Scatterplot gewählt, da es sich um numerische Werte handelt. Diese Visualisierung zeigt die Korrelation von Tordifferenz und Soccer Power Index. Teams mit einer hohen Tordifferenz haben auch einen höheren SPI."
   ]
  },
  {
   "cell_type": "markdown",
   "metadata": {},
   "source": [
    "### Korrelation zwischen Gruppen 1. und Sieg der WM"
   ]
  },
  {
   "cell_type": "code",
   "execution_count": 14,
   "metadata": {},
   "outputs": [],
   "source": [
    "# define outcome variable as y_label\n",
    "y_label = 'win_league'\n",
    "\n",
    "# select features\n",
    "X = df[[\"group_1\"]]\n",
    "\n",
    "# create response\n",
    "y = df[y_label]"
   ]
  },
  {
   "cell_type": "code",
   "execution_count": 15,
   "metadata": {},
   "outputs": [
    {
     "data": {
      "text/html": [
       "\n",
       "<div id=\"altair-viz-3bd6312f32fb460b91c3d3fa5307359a\"></div>\n",
       "<script type=\"text/javascript\">\n",
       "  var VEGA_DEBUG = (typeof VEGA_DEBUG == \"undefined\") ? {} : VEGA_DEBUG;\n",
       "  (function(spec, embedOpt){\n",
       "    let outputDiv = document.currentScript.previousElementSibling;\n",
       "    if (outputDiv.id !== \"altair-viz-3bd6312f32fb460b91c3d3fa5307359a\") {\n",
       "      outputDiv = document.getElementById(\"altair-viz-3bd6312f32fb460b91c3d3fa5307359a\");\n",
       "    }\n",
       "    const paths = {\n",
       "      \"vega\": \"https://cdn.jsdelivr.net/npm//vega@5?noext\",\n",
       "      \"vega-lib\": \"https://cdn.jsdelivr.net/npm//vega-lib?noext\",\n",
       "      \"vega-lite\": \"https://cdn.jsdelivr.net/npm//vega-lite@4.17.0?noext\",\n",
       "      \"vega-embed\": \"https://cdn.jsdelivr.net/npm//vega-embed@6?noext\",\n",
       "    };\n",
       "\n",
       "    function maybeLoadScript(lib, version) {\n",
       "      var key = `${lib.replace(\"-\", \"\")}_version`;\n",
       "      return (VEGA_DEBUG[key] == version) ?\n",
       "        Promise.resolve(paths[lib]) :\n",
       "        new Promise(function(resolve, reject) {\n",
       "          var s = document.createElement('script');\n",
       "          document.getElementsByTagName(\"head\")[0].appendChild(s);\n",
       "          s.async = true;\n",
       "          s.onload = () => {\n",
       "            VEGA_DEBUG[key] = version;\n",
       "            return resolve(paths[lib]);\n",
       "          };\n",
       "          s.onerror = () => reject(`Error loading script: ${paths[lib]}`);\n",
       "          s.src = paths[lib];\n",
       "        });\n",
       "    }\n",
       "\n",
       "    function showError(err) {\n",
       "      outputDiv.innerHTML = `<div class=\"error\" style=\"color:red;\">${err}</div>`;\n",
       "      throw err;\n",
       "    }\n",
       "\n",
       "    function displayChart(vegaEmbed) {\n",
       "      vegaEmbed(outputDiv, spec, embedOpt)\n",
       "        .catch(err => showError(`Javascript Error: ${err.message}<br>This usually means there's a typo in your chart specification. See the javascript console for the full traceback.`));\n",
       "    }\n",
       "\n",
       "    if(typeof define === \"function\" && define.amd) {\n",
       "      requirejs.config({paths});\n",
       "      require([\"vega-embed\"], displayChart, err => showError(`Error loading script: ${err.message}`));\n",
       "    } else {\n",
       "      maybeLoadScript(\"vega\", \"5\")\n",
       "        .then(() => maybeLoadScript(\"vega-lite\", \"4.17.0\"))\n",
       "        .then(() => maybeLoadScript(\"vega-embed\", \"6\"))\n",
       "        .catch(showError)\n",
       "        .then(() => displayChart(vegaEmbed));\n",
       "    }\n",
       "  })({\"config\": {\"view\": {\"continuousWidth\": 400, \"continuousHeight\": 300, \"strokeWidth\": 0}, \"title\": {\"anchor\": \"start\", \"color\": \"black\", \"font\": \"Arial\", \"fontSize\": 16}}, \"data\": {\"name\": \"data-56baa678e382e6af0ea107f7f4af628d\"}, \"mark\": {\"type\": \"circle\", \"size\": 100}, \"encoding\": {\"color\": {\"field\": \"team\", \"legend\": null, \"type\": \"nominal\"}, \"tooltip\": [{\"field\": \"team\", \"type\": \"nominal\"}, {\"field\": \"group_1\", \"type\": \"quantitative\"}, {\"field\": \"win_league\", \"type\": \"quantitative\"}], \"x\": {\"axis\": {\"grid\": false, \"labelAngle\": 0, \"title\": \"Wahrscheinlichkeit Gruppen 1. zu werden\", \"titleAnchor\": \"start\"}, \"field\": \"group_1\", \"type\": \"quantitative\"}, \"y\": {\"axis\": {\"grid\": false, \"title\": \"Wahrscheinlichkeit die WM zu gewinnen\", \"titleAnchor\": \"end\"}, \"field\": \"win_league\", \"type\": \"quantitative\"}}, \"height\": 300, \"selection\": {\"selector003\": {\"type\": \"interval\", \"bind\": \"scales\", \"encodings\": [\"x\", \"y\"]}}, \"title\": {\"text\": \"Korrelation zwischen Gruppen 1. und einem Sieg der WM\", \"subtitle\": \"F\\u00fcr die Fu\\u00dfballweltmeisterschaft im Jahr 2022\"}, \"width\": 500, \"$schema\": \"https://vega.github.io/schema/vega-lite/v4.17.0.json\", \"datasets\": {\"data-56baa678e382e6af0ea107f7f4af628d\": [{\"forecast_timestamp\": \"2022-11-16T16:00:55+00:00\", \"team\": \"Brazil\", \"group\": \"G\", \"spi\": 93.54699, \"global_o\": 3.22213, \"global_d\": 0.29634, \"sim_wins\": 2.11474, \"sim_ties\": 0.59456, \"sim_losses\": 0.2907, \"sim_goal_diff\": 4.46304, \"goals_scored\": 6.30163, \"goals_against\": 1.83859, \"group_1\": 0.71639, \"group_2\": 0.19406, \"group_3\": 0.06846, \"group_4\": 0.02109, \"make_round_of_16\": 0.91045, \"make_quarters\": 0.68867, \"make_semis\": 0.46381, \"make_final\": 0.32477, \"win_league\": 0.21668, \"timestamp\": \"2022-12-14T20:56:18+00:00\"}, {\"forecast_timestamp\": \"2022-11-16T16:00:55+00:00\", \"team\": \"Spain\", \"group\": \"E\", \"spi\": 89.50604, \"global_o\": 2.80203, \"global_d\": 0.38627, \"sim_wins\": 1.76309, \"sim_ties\": 0.69769, \"sim_losses\": 0.53922, \"sim_goal_diff\": 2.88009, \"goals_scored\": 5.46797, \"goals_against\": 2.58788, \"group_1\": 0.4684, \"group_2\": 0.33846, \"group_3\": 0.15418, \"group_4\": 0.03896, \"make_round_of_16\": 0.80686, \"make_quarters\": 0.55576, \"make_semis\": 0.30279, \"make_final\": 0.18857, \"win_league\": 0.10663, \"timestamp\": \"2022-12-14T20:56:18+00:00\"}, {\"forecast_timestamp\": \"2022-11-16T16:00:55+00:00\", \"team\": \"France\", \"group\": \"D\", \"spi\": 87.70516, \"global_o\": 2.77362, \"global_d\": 0.47923, \"sim_wins\": 1.78422, \"sim_ties\": 0.73505, \"sim_losses\": 0.48073, \"sim_goal_diff\": 2.96537, \"goals_scored\": 5.30739, \"goals_against\": 2.34202, \"group_1\": 0.55358, \"group_2\": 0.27328, \"group_3\": 0.12328, \"group_4\": 0.04986, \"make_round_of_16\": 0.82686, \"make_quarters\": 0.54053, \"make_semis\": 0.33135, \"make_final\": 0.17187, \"win_league\": 0.0875, \"timestamp\": \"2022-12-14T20:56:18+00:00\"}, {\"forecast_timestamp\": \"2022-11-16T16:00:55+00:00\", \"team\": \"Argentina\", \"group\": \"C\", \"spi\": 87.20776, \"global_o\": 2.62755, \"global_d\": 0.4317, \"sim_wins\": 1.83671, \"sim_ties\": 0.73199, \"sim_losses\": 0.4313, \"sim_goal_diff\": 3.16936, \"goals_scored\": 5.33484, \"goals_against\": 2.16548, \"group_1\": 0.59722, \"group_2\": 0.24273, \"group_3\": 0.11295, \"group_4\": 0.0471, \"make_round_of_16\": 0.83995, \"make_quarters\": 0.53091, \"make_semis\": 0.32755, \"make_final\": 0.15944, \"win_league\": 0.08476, \"timestamp\": \"2022-12-14T20:56:18+00:00\"}, {\"forecast_timestamp\": \"2022-11-16T16:00:55+00:00\", \"team\": \"Portugal\", \"group\": \"H\", \"spi\": 87.77456, \"global_o\": 2.78861, \"global_d\": 0.48293, \"sim_wins\": 1.74211, \"sim_ties\": 0.74742, \"sim_losses\": 0.51047, \"sim_goal_diff\": 2.80761, \"goals_scored\": 5.18913, \"goals_against\": 2.38152, \"group_1\": 0.53461, \"group_2\": 0.27626, \"group_3\": 0.13468, \"group_4\": 0.05445, \"make_round_of_16\": 0.81087, \"make_quarters\": 0.45583, \"make_semis\": 0.26028, \"make_final\": 0.15248, \"win_league\": 0.07629, \"timestamp\": \"2022-12-14T20:56:18+00:00\"}, {\"forecast_timestamp\": \"2022-11-16T16:00:55+00:00\", \"team\": \"Germany\", \"group\": \"E\", \"spi\": 88.7737, \"global_o\": 3.17168, \"global_d\": 0.61922, \"sim_wins\": 1.65986, \"sim_ties\": 0.65542, \"sim_losses\": 0.68472, \"sim_goal_diff\": 2.55211, \"goals_scored\": 5.8586, \"goals_against\": 3.30649, \"group_1\": 0.40333, \"group_2\": 0.36091, \"group_3\": 0.18128, \"group_4\": 0.05448, \"make_round_of_16\": 0.76424, \"make_quarters\": 0.49584, \"make_semis\": 0.24828, \"make_final\": 0.14385, \"win_league\": 0.07425, \"timestamp\": \"2022-12-14T20:56:18+00:00\"}, {\"forecast_timestamp\": \"2022-11-16T16:00:55+00:00\", \"team\": \"England\", \"group\": \"B\", \"spi\": 85.95712, \"global_o\": 2.553, \"global_d\": 0.45994, \"sim_wins\": 1.71265, \"sim_ties\": 0.79415, \"sim_losses\": 0.4932, \"sim_goal_diff\": 2.62876, \"goals_scored\": 4.87722, \"goals_against\": 2.24846, \"group_1\": 0.55445, \"group_2\": 0.24981, \"group_3\": 0.12986, \"group_4\": 0.06588, \"make_round_of_16\": 0.80426, \"make_quarters\": 0.51608, \"make_semis\": 0.28996, \"make_final\": 0.14689, \"win_league\": 0.07136, \"timestamp\": \"2022-12-14T20:56:18+00:00\"}, {\"forecast_timestamp\": \"2022-11-16T16:00:55+00:00\", \"team\": \"Netherlands\", \"group\": \"A\", \"spi\": 86.01102, \"global_o\": 2.79647, \"global_d\": 0.58975, \"sim_wins\": 1.73222, \"sim_ties\": 0.71039, \"sim_losses\": 0.55739, \"sim_goal_diff\": 2.89991, \"goals_scored\": 5.86382, \"goals_against\": 2.96391, \"group_1\": 0.53223, \"group_2\": 0.25783, \"group_3\": 0.14552, \"group_4\": 0.06442, \"make_round_of_16\": 0.79006, \"make_quarters\": 0.4899, \"make_semis\": 0.2666, \"make_final\": 0.11908, \"win_league\": 0.0596, \"timestamp\": \"2022-12-14T20:56:18+00:00\"}, {\"forecast_timestamp\": \"2022-11-16T16:00:55+00:00\", \"team\": \"Denmark\", \"group\": \"D\", \"spi\": 80.01595, \"global_o\": 2.2889, \"global_d\": 0.60196, \"sim_wins\": 1.31537, \"sim_ties\": 0.83937, \"sim_losses\": 0.84526, \"sim_goal_diff\": 0.99315, \"goals_scored\": 4.09363, \"goals_against\": 3.10048, \"group_1\": 0.29056, \"group_2\": 0.35779, \"group_3\": 0.22531, \"group_4\": 0.12634, \"make_round_of_16\": 0.64835, \"make_quarters\": 0.33253, \"make_semis\": 0.16865, \"make_final\": 0.06883, \"win_league\": 0.02842, \"timestamp\": \"2022-12-14T20:56:18+00:00\"}, {\"forecast_timestamp\": \"2022-11-16T16:00:55+00:00\", \"team\": \"Uruguay\", \"group\": \"H\", \"spi\": 80.90448, \"global_o\": 2.25529, \"global_d\": 0.53963, \"sim_wins\": 1.32689, \"sim_ties\": 0.86229, \"sim_losses\": 0.81082, \"sim_goal_diff\": 1.06659, \"goals_scored\": 3.96556, \"goals_against\": 2.89897, \"group_1\": 0.29815, \"group_2\": 0.35459, \"group_3\": 0.22909, \"group_4\": 0.11817, \"make_round_of_16\": 0.65274, \"make_quarters\": 0.28244, \"make_semis\": 0.13261, \"make_final\": 0.06615, \"win_league\": 0.02828, \"timestamp\": \"2022-12-14T20:56:18+00:00\"}, {\"forecast_timestamp\": \"2022-11-16T16:00:55+00:00\", \"team\": \"Belgium\", \"group\": \"F\", \"spi\": 82.49005, \"global_o\": 2.62457, \"global_d\": 0.6845, \"sim_wins\": 1.32798, \"sim_ties\": 0.8056, \"sim_losses\": 0.86642, \"sim_goal_diff\": 1.04043, \"goals_scored\": 4.71514, \"goals_against\": 3.67471, \"group_1\": 0.35643, \"group_2\": 0.26757, \"group_3\": 0.21261, \"group_4\": 0.16339, \"make_round_of_16\": 0.624, \"make_quarters\": 0.27365, \"make_semis\": 0.12034, \"make_final\": 0.06141, \"win_league\": 0.02608, \"timestamp\": \"2022-12-14T20:56:18+00:00\"}, {\"forecast_timestamp\": \"2022-11-16T16:00:55+00:00\", \"team\": \"Croatia\", \"group\": \"F\", \"spi\": 78.84025, \"global_o\": 2.28577, \"global_d\": 0.65525, \"sim_wins\": 1.15695, \"sim_ties\": 0.84997, \"sim_losses\": 0.99308, \"sim_goal_diff\": 0.32548, \"goals_scored\": 4.07091, \"goals_against\": 3.74543, \"group_1\": 0.27547, \"group_2\": 0.26872, \"group_3\": 0.2432, \"group_4\": 0.21261, \"make_round_of_16\": 0.54419, \"make_quarters\": 0.21411, \"make_semis\": 0.08819, \"make_final\": 0.04219, \"win_league\": 0.01702, \"timestamp\": \"2022-12-14T20:56:18+00:00\"}, {\"forecast_timestamp\": \"2022-11-16T16:00:55+00:00\", \"team\": \"Switzerland\", \"group\": \"G\", \"spi\": 77.64665, \"global_o\": 2.23118, \"global_d\": 0.67527, \"sim_wins\": 1.01246, \"sim_ties\": 0.79286, \"sim_losses\": 1.19468, \"sim_goal_diff\": -0.49222, \"goals_scored\": 3.61276, \"goals_against\": 4.10498, \"group_1\": 0.13455, \"group_2\": 0.34406, \"group_3\": 0.30746, \"group_4\": 0.21393, \"make_round_of_16\": 0.47861, \"make_quarters\": 0.20741, \"make_semis\": 0.0888, \"make_final\": 0.03948, \"win_league\": 0.01455, \"timestamp\": \"2022-12-14T20:56:18+00:00\"}, {\"forecast_timestamp\": \"2022-11-16T16:00:55+00:00\", \"team\": \"USA\", \"group\": \"B\", \"spi\": 74.83489, \"global_o\": 2.11382, \"global_d\": 0.7233, \"sim_wins\": 1.08538, \"sim_ties\": 0.87897, \"sim_losses\": 1.03565, \"sim_goal_diff\": 0.07698, \"goals_scored\": 3.58459, \"goals_against\": 3.50761, \"group_1\": 0.2214, \"group_2\": 0.30813, \"group_3\": 0.26353, \"group_4\": 0.20694, \"make_round_of_16\": 0.52953, \"make_quarters\": 0.24297, \"make_semis\": 0.10082, \"make_final\": 0.03517, \"win_league\": 0.01304, \"timestamp\": \"2022-12-14T20:56:18+00:00\"}, {\"forecast_timestamp\": \"2022-11-16T16:00:55+00:00\", \"team\": \"Mexico\", \"group\": \"C\", \"spi\": 74.29647, \"global_o\": 2.00635, \"global_d\": 0.67211, \"sim_wins\": 1.10911, \"sim_ties\": 0.86111, \"sim_losses\": 1.02978, \"sim_goal_diff\": 0.15824, \"goals_scored\": 3.62095, \"goals_against\": 3.46271, \"group_1\": 0.20717, \"group_2\": 0.32919, \"group_3\": 0.27301, \"group_4\": 0.19063, \"make_round_of_16\": 0.53636, \"make_quarters\": 0.22207, \"make_semis\": 0.09943, \"make_final\": 0.03394, \"win_league\": 0.01268, \"timestamp\": \"2022-12-14T20:56:18+00:00\"}, {\"forecast_timestamp\": \"2022-11-16T16:00:55+00:00\", \"team\": \"Senegal\", \"group\": \"A\", \"spi\": 73.8414, \"global_o\": 1.94597, \"global_d\": 0.64928, \"sim_wins\": 1.10327, \"sim_ties\": 0.84656, \"sim_losses\": 1.05017, \"sim_goal_diff\": 0.13989, \"goals_scored\": 3.84251, \"goals_against\": 3.70262, \"group_1\": 0.20957, \"group_2\": 0.30172, \"group_3\": 0.29356, \"group_4\": 0.19515, \"make_round_of_16\": 0.51129, \"make_quarters\": 0.23152, \"make_semis\": 0.09563, \"make_final\": 0.03294, \"win_league\": 0.01199, \"timestamp\": \"2022-12-14T20:56:18+00:00\"}, {\"forecast_timestamp\": \"2022-11-16T16:00:55+00:00\", \"team\": \"Ecuador\", \"group\": \"A\", \"spi\": 72.74127, \"global_o\": 1.95582, \"global_d\": 0.70294, \"sim_wins\": 1.06051, \"sim_ties\": 0.83314, \"sim_losses\": 1.10635, \"sim_goal_diff\": -0.08847, \"goals_scored\": 3.80594, \"goals_against\": 3.89441, \"group_1\": 0.19014, \"group_2\": 0.29195, \"group_3\": 0.30458, \"group_4\": 0.21333, \"make_round_of_16\": 0.48209, \"make_quarters\": 0.20916, \"make_semis\": 0.08389, \"make_final\": 0.02817, \"win_league\": 0.01022, \"timestamp\": \"2022-12-14T20:56:18+00:00\"}, {\"forecast_timestamp\": \"2022-11-16T16:00:55+00:00\", \"team\": \"Morocco\", \"group\": \"F\", \"spi\": 75.62263, \"global_o\": 2.10023, \"global_d\": 0.67896, \"sim_wins\": 1.00739, \"sim_ties\": 0.86128, \"sim_losses\": 1.13133, \"sim_goal_diff\": -0.27965, \"goals_scored\": 3.68217, \"goals_against\": 3.96182, \"group_1\": 0.21422, \"group_2\": 0.25051, \"group_3\": 0.26928, \"group_4\": 0.26599, \"make_round_of_16\": 0.46473, \"make_quarters\": 0.16532, \"make_semis\": 0.06159, \"make_final\": 0.02701, \"win_league\": 0.01021, \"timestamp\": \"2022-12-14T20:56:18+00:00\"}, {\"forecast_timestamp\": \"2022-11-16T16:00:55+00:00\", \"team\": \"Serbia\", \"group\": \"G\", \"spi\": 75.83904, \"global_o\": 2.21814, \"global_d\": 0.74974, \"sim_wins\": 0.91609, \"sim_ties\": 0.77856, \"sim_losses\": 1.30535, \"sim_goal_diff\": -0.98479, \"goals_scored\": 3.4681, \"goals_against\": 4.45289, \"group_1\": 0.10954, \"group_2\": 0.30341, \"group_3\": 0.33362, \"group_4\": 0.25343, \"make_round_of_16\": 0.41295, \"make_quarters\": 0.16587, \"make_semis\": 0.06658, \"make_final\": 0.02878, \"win_league\": 0.01, \"timestamp\": \"2022-12-14T20:56:18+00:00\"}, {\"forecast_timestamp\": \"2022-11-16T16:00:55+00:00\", \"team\": \"Japan\", \"group\": \"E\", \"spi\": 71.43695, \"global_o\": 1.98575, \"global_d\": 0.78071, \"sim_wins\": 0.9156, \"sim_ties\": 0.76006, \"sim_losses\": 1.32434, \"sim_goal_diff\": -1.03341, \"goals_scored\": 3.51877, \"goals_against\": 4.55218, \"group_1\": 0.11084, \"group_2\": 0.23408, \"group_3\": 0.43682, \"group_4\": 0.21826, \"make_round_of_16\": 0.34492, \"make_quarters\": 0.1576, \"make_semis\": 0.05775, \"make_final\": 0.02465, \"win_league\": 0.00876, \"timestamp\": \"2022-12-14T20:56:18+00:00\"}, {\"forecast_timestamp\": \"2022-11-16T16:00:55+00:00\", \"team\": \"Canada\", \"group\": \"F\", \"spi\": 71.58583, \"global_o\": 1.94737, \"global_d\": 0.74608, \"sim_wins\": 0.82211, \"sim_ties\": 0.85429, \"sim_losses\": 1.3236, \"sim_goal_diff\": -1.08626, \"goals_scored\": 3.26725, \"goals_against\": 4.35351, \"group_1\": 0.15388, \"group_2\": 0.2132, \"group_3\": 0.27491, \"group_4\": 0.35801, \"make_round_of_16\": 0.36708, \"make_quarters\": 0.11482, \"make_semis\": 0.03869, \"make_final\": 0.01591, \"win_league\": 0.0055, \"timestamp\": \"2022-12-14T20:56:18+00:00\"}, {\"forecast_timestamp\": \"2022-11-16T16:00:55+00:00\", \"team\": \"Poland\", \"group\": \"C\", \"spi\": 68.28098, \"global_o\": 1.87603, \"global_d\": 0.83283, \"sim_wins\": 0.84879, \"sim_ties\": 0.83305, \"sim_losses\": 1.31816, \"sim_goal_diff\": -1.06316, \"goals_scored\": 3.14758, \"goals_against\": 4.21074, \"group_1\": 0.12588, \"group_2\": 0.25332, \"group_3\": 0.31968, \"group_4\": 0.30112, \"make_round_of_16\": 0.3792, \"make_quarters\": 0.12938, \"make_semis\": 0.05029, \"make_final\": 0.01471, \"win_league\": 0.00463, \"timestamp\": \"2022-12-14T20:56:18+00:00\"}, {\"forecast_timestamp\": \"2022-11-16T16:00:55+00:00\", \"team\": \"South Korea\", \"group\": \"H\", \"spi\": 66.12313, \"global_o\": 1.73414, \"global_d\": 0.81094, \"sim_wins\": 0.82649, \"sim_ties\": 0.85594, \"sim_losses\": 1.31757, \"sim_goal_diff\": -1.13309, \"goals_scored\": 2.91359, \"goals_against\": 4.04668, \"group_1\": 0.12062, \"group_2\": 0.23574, \"group_3\": 0.35148, \"group_4\": 0.29216, \"make_round_of_16\": 0.35636, \"make_quarters\": 0.10596, \"make_semis\": 0.03783, \"make_final\": 0.01429, \"win_league\": 0.00449, \"timestamp\": \"2022-12-14T20:56:18+00:00\"}, {\"forecast_timestamp\": \"2022-11-16T16:00:55+00:00\", \"team\": \"Tunisia\", \"group\": \"D\", \"spi\": 65.85461, \"global_o\": 1.63339, \"global_d\": 0.74077, \"sim_wins\": 0.73256, \"sim_ties\": 0.86585, \"sim_losses\": 1.40159, \"sim_goal_diff\": -1.46599, \"goals_scored\": 2.62304, \"goals_against\": 4.08903, \"group_1\": 0.09675, \"group_2\": 0.21187, \"group_3\": 0.34901, \"group_4\": 0.34237, \"make_round_of_16\": 0.30862, \"make_quarters\": 0.11045, \"make_semis\": 0.04178, \"make_final\": 0.01166, \"win_league\": 0.00382, \"timestamp\": \"2022-12-14T20:56:18+00:00\"}, {\"forecast_timestamp\": \"2022-11-16T16:00:55+00:00\", \"team\": \"Iran\", \"group\": \"B\", \"spi\": 62.17412, \"global_o\": 1.51146, \"global_d\": 0.78563, \"sim_wins\": 0.75007, \"sim_ties\": 0.9078, \"sim_losses\": 1.34213, \"sim_goal_diff\": -1.23015, \"goals_scored\": 2.62104, \"goals_against\": 3.85119, \"group_1\": 0.1152, \"group_2\": 0.22687, \"group_3\": 0.3076, \"group_4\": 0.35033, \"make_round_of_16\": 0.34207, \"make_quarters\": 0.12694, \"make_semis\": 0.04371, \"make_final\": 0.01241, \"win_league\": 0.00365, \"timestamp\": \"2022-12-14T20:56:18+00:00\"}, {\"forecast_timestamp\": \"2022-11-16T16:00:55+00:00\", \"team\": \"Wales\", \"group\": \"B\", \"spi\": 65.58314, \"global_o\": 1.7128, \"global_d\": 0.81593, \"sim_wins\": 0.72363, \"sim_ties\": 0.87562, \"sim_losses\": 1.40075, \"sim_goal_diff\": -1.47559, \"goals_scored\": 2.67891, \"goals_against\": 4.1545, \"group_1\": 0.10895, \"group_2\": 0.21519, \"group_3\": 0.29901, \"group_4\": 0.37685, \"make_round_of_16\": 0.32414, \"make_quarters\": 0.11755, \"make_semis\": 0.03968, \"make_final\": 0.01153, \"win_league\": 0.00345, \"timestamp\": \"2022-12-14T20:56:18+00:00\"}, {\"forecast_timestamp\": \"2022-11-16T16:00:55+00:00\", \"team\": \"Cameroon\", \"group\": \"G\", \"spi\": 64.15924, \"global_o\": 1.65744, \"global_d\": 0.82883, \"sim_wins\": 0.5109, \"sim_ties\": 0.72564, \"sim_losses\": 1.76346, \"sim_goal_diff\": -2.98603, \"goals_scored\": 2.30607, \"goals_against\": 5.2921, \"group_1\": 0.03952, \"group_2\": 0.15847, \"group_3\": 0.29046, \"group_4\": 0.51155, \"make_round_of_16\": 0.19799, \"make_quarters\": 0.05796, \"make_semis\": 0.01791, \"make_final\": 0.00597, \"win_league\": 0.00167, \"timestamp\": \"2022-12-14T20:56:18+00:00\"}, {\"forecast_timestamp\": \"2022-11-16T16:00:55+00:00\", \"team\": \"Saudi Arabia\", \"group\": \"C\", \"spi\": 56.86592, \"global_o\": 1.50018, \"global_d\": 0.99118, \"sim_wins\": 0.59721, \"sim_ties\": 0.79021, \"sim_losses\": 1.61258, \"sim_goal_diff\": -2.26444, \"goals_scored\": 2.55321, \"goals_against\": 4.81765, \"group_1\": 0.06973, \"group_2\": 0.17476, \"group_3\": 0.29436, \"group_4\": 0.46115, \"make_round_of_16\": 0.24449, \"make_quarters\": 0.06913, \"make_semis\": 0.02164, \"make_final\": 0.00516, \"win_league\": 0.00132, \"timestamp\": \"2022-12-14T20:56:18+00:00\"}, {\"forecast_timestamp\": \"2022-11-16T16:00:55+00:00\", \"team\": \"Australia\", \"group\": \"D\", \"spi\": 60.83178, \"global_o\": 1.59388, \"global_d\": 0.91112, \"sim_wins\": 0.55148, \"sim_ties\": 0.79247, \"sim_losses\": 1.65605, \"sim_goal_diff\": -2.49253, \"goals_scored\": 2.36908, \"goals_against\": 4.86161, \"group_1\": 0.05911, \"group_2\": 0.15706, \"group_3\": 0.3024, \"group_4\": 0.48143, \"make_round_of_16\": 0.21617, \"make_quarters\": 0.065, \"make_semis\": 0.02062, \"make_final\": 0.00454, \"win_league\": 0.00124, \"timestamp\": \"2022-12-14T20:56:18+00:00\"}, {\"forecast_timestamp\": \"2022-11-16T16:00:55+00:00\", \"team\": \"Qatar\", \"group\": \"A\", \"spi\": 51.00223, \"global_o\": 1.57111, \"global_d\": 1.31642, \"sim_wins\": 0.56555, \"sim_ties\": 0.68681, \"sim_losses\": 1.74764, \"sim_goal_diff\": -2.95133, \"goals_scored\": 3.11894, \"goals_against\": 6.07027, \"group_1\": 0.06806, \"group_2\": 0.1485, \"group_3\": 0.25634, \"group_4\": 0.5271, \"make_round_of_16\": 0.21656, \"make_quarters\": 0.06588, \"make_semis\": 0.0184, \"make_final\": 0.00399, \"win_league\": 0.00096, \"timestamp\": \"2022-12-14T20:56:18+00:00\"}, {\"forecast_timestamp\": \"2022-11-16T16:00:55+00:00\", \"team\": \"Ghana\", \"group\": \"H\", \"spi\": 58.62702, \"global_o\": 1.43347, \"global_d\": 0.85806, \"sim_wins\": 0.4673, \"sim_ties\": 0.80877, \"sim_losses\": 1.72393, \"sim_goal_diff\": -2.74111, \"goals_scored\": 1.99867, \"goals_against\": 4.73978, \"group_1\": 0.04662, \"group_2\": 0.13341, \"group_3\": 0.28475, \"group_4\": 0.53522, \"make_round_of_16\": 0.18003, \"make_quarters\": 0.03586, \"make_semis\": 0.00945, \"make_final\": 0.00284, \"win_league\": 0.00063, \"timestamp\": \"2022-12-14T20:56:18+00:00\"}, {\"forecast_timestamp\": \"2022-11-16T16:00:55+00:00\", \"team\": \"Costa Rica\", \"group\": \"E\", \"spi\": 55.45518, \"global_o\": 1.39816, \"global_d\": 0.95388, \"sim_wins\": 0.29847, \"sim_ties\": 0.61279, \"sim_losses\": 2.08874, \"sim_goal_diff\": -4.39879, \"goals_scored\": 1.8086, \"goals_against\": 6.20739, \"group_1\": 0.01743, \"group_2\": 0.06655, \"group_3\": 0.22772, \"group_4\": 0.6883, \"make_round_of_16\": 0.08398, \"make_quarters\": 0.0229, \"make_semis\": 0.0051, \"make_final\": 0.00132, \"win_league\": 0.00032, \"timestamp\": \"2022-12-14T20:56:18+00:00\"}]}}, {\"mode\": \"vega-lite\"});\n",
       "</script>"
      ],
      "text/plain": [
       "alt.Chart(...)"
      ]
     },
     "execution_count": 15,
     "metadata": {},
     "output_type": "execute_result"
    }
   ],
   "source": [
    "%matplotlib inline\n",
    "import altair as alt\n",
    "\n",
    "# Visualize the data\n",
    "alt.Chart(df).mark_circle(size=100).encode(\n",
    "    x=alt.X('group_1',\n",
    "            axis=alt.Axis(title='Wahrscheinlichkeit Gruppen 1. zu werden',\n",
    "                          labelAngle=0,\n",
    "                          titleAnchor='start',\n",
    "                          grid=False)),\n",
    "    y=alt.Y('win_league',\n",
    "            axis=alt.Axis(title='Wahrscheinlichkeit die WM zu gewinnen',\n",
    "                          titleAnchor='end',\n",
    "                          grid=False)),\n",
    "    color=alt.Color('team', legend=None),\n",
    "    tooltip=['team', 'group_1', 'win_league']\n",
    "\n",
    ").properties(\n",
    "    title={'text':'Korrelation zwischen Gruppen 1. und einem Sieg der WM','subtitle':'Für die Fußballweltmeisterschaft im Jahr 2022'},  \n",
    "    width=500,\n",
    "    height=300\n",
    ").configure_view(\n",
    "    strokeWidth=0\n",
    ").configure_title( \n",
    "    fontSize=16,\n",
    "    font='Arial',\n",
    "    color='black',\n",
    "    anchor='start'\n",
    ").interactive()"
   ]
  },
  {
   "cell_type": "markdown",
   "metadata": {},
   "source": [
    "Korrelation zwischen der Wahrscheinlichkeit Gruppen 1. zu werden und Wahrscheinlichkeit eines Sieges der WM. Sie zeigt, dass sehr hohe (85%) und sehr geringe (<30%) Wahrscheinlichkeiten für Gruppen 1. eine ebenfalls hohe bzw. geringe Chance eines Sieges der WM bedeuten. In der Mitte lässt sich keine eindeutige Aussage treffen. Auch hier wurde ein Scatterplot gewählt, da es sich um numerische Werte handelt."
   ]
  },
  {
   "cell_type": "markdown",
   "metadata": {},
   "source": [
    "### Korrelation zwischen Globale Offensive und Sieg der WM"
   ]
  },
  {
   "cell_type": "code",
   "execution_count": 18,
   "metadata": {},
   "outputs": [],
   "source": [
    "# define outcome variable as y_label\n",
    "y_label = 'win_league'\n",
    "\n",
    "# select features\n",
    "X = df[[\"global_o\"]]\n",
    "\n",
    "# create response\n",
    "y = df[y_label]"
   ]
  },
  {
   "cell_type": "code",
   "execution_count": 16,
   "metadata": {},
   "outputs": [
    {
     "data": {
      "text/html": [
       "\n",
       "<div id=\"altair-viz-f11cc465dbef49a79b4cf5d6ba214dd6\"></div>\n",
       "<script type=\"text/javascript\">\n",
       "  var VEGA_DEBUG = (typeof VEGA_DEBUG == \"undefined\") ? {} : VEGA_DEBUG;\n",
       "  (function(spec, embedOpt){\n",
       "    let outputDiv = document.currentScript.previousElementSibling;\n",
       "    if (outputDiv.id !== \"altair-viz-f11cc465dbef49a79b4cf5d6ba214dd6\") {\n",
       "      outputDiv = document.getElementById(\"altair-viz-f11cc465dbef49a79b4cf5d6ba214dd6\");\n",
       "    }\n",
       "    const paths = {\n",
       "      \"vega\": \"https://cdn.jsdelivr.net/npm//vega@5?noext\",\n",
       "      \"vega-lib\": \"https://cdn.jsdelivr.net/npm//vega-lib?noext\",\n",
       "      \"vega-lite\": \"https://cdn.jsdelivr.net/npm//vega-lite@4.17.0?noext\",\n",
       "      \"vega-embed\": \"https://cdn.jsdelivr.net/npm//vega-embed@6?noext\",\n",
       "    };\n",
       "\n",
       "    function maybeLoadScript(lib, version) {\n",
       "      var key = `${lib.replace(\"-\", \"\")}_version`;\n",
       "      return (VEGA_DEBUG[key] == version) ?\n",
       "        Promise.resolve(paths[lib]) :\n",
       "        new Promise(function(resolve, reject) {\n",
       "          var s = document.createElement('script');\n",
       "          document.getElementsByTagName(\"head\")[0].appendChild(s);\n",
       "          s.async = true;\n",
       "          s.onload = () => {\n",
       "            VEGA_DEBUG[key] = version;\n",
       "            return resolve(paths[lib]);\n",
       "          };\n",
       "          s.onerror = () => reject(`Error loading script: ${paths[lib]}`);\n",
       "          s.src = paths[lib];\n",
       "        });\n",
       "    }\n",
       "\n",
       "    function showError(err) {\n",
       "      outputDiv.innerHTML = `<div class=\"error\" style=\"color:red;\">${err}</div>`;\n",
       "      throw err;\n",
       "    }\n",
       "\n",
       "    function displayChart(vegaEmbed) {\n",
       "      vegaEmbed(outputDiv, spec, embedOpt)\n",
       "        .catch(err => showError(`Javascript Error: ${err.message}<br>This usually means there's a typo in your chart specification. See the javascript console for the full traceback.`));\n",
       "    }\n",
       "\n",
       "    if(typeof define === \"function\" && define.amd) {\n",
       "      requirejs.config({paths});\n",
       "      require([\"vega-embed\"], displayChart, err => showError(`Error loading script: ${err.message}`));\n",
       "    } else {\n",
       "      maybeLoadScript(\"vega\", \"5\")\n",
       "        .then(() => maybeLoadScript(\"vega-lite\", \"4.17.0\"))\n",
       "        .then(() => maybeLoadScript(\"vega-embed\", \"6\"))\n",
       "        .catch(showError)\n",
       "        .then(() => displayChart(vegaEmbed));\n",
       "    }\n",
       "  })({\"config\": {\"view\": {\"continuousWidth\": 400, \"continuousHeight\": 300, \"strokeWidth\": 0}, \"title\": {\"anchor\": \"start\", \"color\": \"black\", \"font\": \"Arial\", \"fontSize\": 16}}, \"data\": {\"name\": \"data-56baa678e382e6af0ea107f7f4af628d\"}, \"mark\": {\"type\": \"circle\", \"size\": 100}, \"encoding\": {\"color\": {\"field\": \"team\", \"legend\": null, \"type\": \"nominal\"}, \"tooltip\": [{\"field\": \"team\", \"type\": \"nominal\"}, {\"field\": \"global_o\", \"type\": \"quantitative\"}, {\"field\": \"win_league\", \"type\": \"quantitative\"}], \"x\": {\"axis\": {\"grid\": false, \"labelAngle\": 0, \"title\": \"Globale Offensive\", \"titleAnchor\": \"start\"}, \"field\": \"global_o\", \"type\": \"quantitative\"}, \"y\": {\"axis\": {\"grid\": false, \"title\": \"Wahrscheinlichkeit f\\u00fcr einen Sieg der WM\", \"titleAnchor\": \"end\"}, \"field\": \"win_league\", \"type\": \"quantitative\"}}, \"height\": 300, \"selection\": {\"selector004\": {\"type\": \"interval\", \"bind\": \"scales\", \"encodings\": [\"x\", \"y\"]}}, \"title\": {\"text\": \"Korrelation zwischen globaler Offensive und einem Sieg der WM\", \"subtitle\": \"F\\u00fcr die Fu\\u00dfballweltmeisterschaft im Jahr 2022\"}, \"width\": 500, \"$schema\": \"https://vega.github.io/schema/vega-lite/v4.17.0.json\", \"datasets\": {\"data-56baa678e382e6af0ea107f7f4af628d\": [{\"forecast_timestamp\": \"2022-11-16T16:00:55+00:00\", \"team\": \"Brazil\", \"group\": \"G\", \"spi\": 93.54699, \"global_o\": 3.22213, \"global_d\": 0.29634, \"sim_wins\": 2.11474, \"sim_ties\": 0.59456, \"sim_losses\": 0.2907, \"sim_goal_diff\": 4.46304, \"goals_scored\": 6.30163, \"goals_against\": 1.83859, \"group_1\": 0.71639, \"group_2\": 0.19406, \"group_3\": 0.06846, \"group_4\": 0.02109, \"make_round_of_16\": 0.91045, \"make_quarters\": 0.68867, \"make_semis\": 0.46381, \"make_final\": 0.32477, \"win_league\": 0.21668, \"timestamp\": \"2022-12-14T20:56:18+00:00\"}, {\"forecast_timestamp\": \"2022-11-16T16:00:55+00:00\", \"team\": \"Spain\", \"group\": \"E\", \"spi\": 89.50604, \"global_o\": 2.80203, \"global_d\": 0.38627, \"sim_wins\": 1.76309, \"sim_ties\": 0.69769, \"sim_losses\": 0.53922, \"sim_goal_diff\": 2.88009, \"goals_scored\": 5.46797, \"goals_against\": 2.58788, \"group_1\": 0.4684, \"group_2\": 0.33846, \"group_3\": 0.15418, \"group_4\": 0.03896, \"make_round_of_16\": 0.80686, \"make_quarters\": 0.55576, \"make_semis\": 0.30279, \"make_final\": 0.18857, \"win_league\": 0.10663, \"timestamp\": \"2022-12-14T20:56:18+00:00\"}, {\"forecast_timestamp\": \"2022-11-16T16:00:55+00:00\", \"team\": \"France\", \"group\": \"D\", \"spi\": 87.70516, \"global_o\": 2.77362, \"global_d\": 0.47923, \"sim_wins\": 1.78422, \"sim_ties\": 0.73505, \"sim_losses\": 0.48073, \"sim_goal_diff\": 2.96537, \"goals_scored\": 5.30739, \"goals_against\": 2.34202, \"group_1\": 0.55358, \"group_2\": 0.27328, \"group_3\": 0.12328, \"group_4\": 0.04986, \"make_round_of_16\": 0.82686, \"make_quarters\": 0.54053, \"make_semis\": 0.33135, \"make_final\": 0.17187, \"win_league\": 0.0875, \"timestamp\": \"2022-12-14T20:56:18+00:00\"}, {\"forecast_timestamp\": \"2022-11-16T16:00:55+00:00\", \"team\": \"Argentina\", \"group\": \"C\", \"spi\": 87.20776, \"global_o\": 2.62755, \"global_d\": 0.4317, \"sim_wins\": 1.83671, \"sim_ties\": 0.73199, \"sim_losses\": 0.4313, \"sim_goal_diff\": 3.16936, \"goals_scored\": 5.33484, \"goals_against\": 2.16548, \"group_1\": 0.59722, \"group_2\": 0.24273, \"group_3\": 0.11295, \"group_4\": 0.0471, \"make_round_of_16\": 0.83995, \"make_quarters\": 0.53091, \"make_semis\": 0.32755, \"make_final\": 0.15944, \"win_league\": 0.08476, \"timestamp\": \"2022-12-14T20:56:18+00:00\"}, {\"forecast_timestamp\": \"2022-11-16T16:00:55+00:00\", \"team\": \"Portugal\", \"group\": \"H\", \"spi\": 87.77456, \"global_o\": 2.78861, \"global_d\": 0.48293, \"sim_wins\": 1.74211, \"sim_ties\": 0.74742, \"sim_losses\": 0.51047, \"sim_goal_diff\": 2.80761, \"goals_scored\": 5.18913, \"goals_against\": 2.38152, \"group_1\": 0.53461, \"group_2\": 0.27626, \"group_3\": 0.13468, \"group_4\": 0.05445, \"make_round_of_16\": 0.81087, \"make_quarters\": 0.45583, \"make_semis\": 0.26028, \"make_final\": 0.15248, \"win_league\": 0.07629, \"timestamp\": \"2022-12-14T20:56:18+00:00\"}, {\"forecast_timestamp\": \"2022-11-16T16:00:55+00:00\", \"team\": \"Germany\", \"group\": \"E\", \"spi\": 88.7737, \"global_o\": 3.17168, \"global_d\": 0.61922, \"sim_wins\": 1.65986, \"sim_ties\": 0.65542, \"sim_losses\": 0.68472, \"sim_goal_diff\": 2.55211, \"goals_scored\": 5.8586, \"goals_against\": 3.30649, \"group_1\": 0.40333, \"group_2\": 0.36091, \"group_3\": 0.18128, \"group_4\": 0.05448, \"make_round_of_16\": 0.76424, \"make_quarters\": 0.49584, \"make_semis\": 0.24828, \"make_final\": 0.14385, \"win_league\": 0.07425, \"timestamp\": \"2022-12-14T20:56:18+00:00\"}, {\"forecast_timestamp\": \"2022-11-16T16:00:55+00:00\", \"team\": \"England\", \"group\": \"B\", \"spi\": 85.95712, \"global_o\": 2.553, \"global_d\": 0.45994, \"sim_wins\": 1.71265, \"sim_ties\": 0.79415, \"sim_losses\": 0.4932, \"sim_goal_diff\": 2.62876, \"goals_scored\": 4.87722, \"goals_against\": 2.24846, \"group_1\": 0.55445, \"group_2\": 0.24981, \"group_3\": 0.12986, \"group_4\": 0.06588, \"make_round_of_16\": 0.80426, \"make_quarters\": 0.51608, \"make_semis\": 0.28996, \"make_final\": 0.14689, \"win_league\": 0.07136, \"timestamp\": \"2022-12-14T20:56:18+00:00\"}, {\"forecast_timestamp\": \"2022-11-16T16:00:55+00:00\", \"team\": \"Netherlands\", \"group\": \"A\", \"spi\": 86.01102, \"global_o\": 2.79647, \"global_d\": 0.58975, \"sim_wins\": 1.73222, \"sim_ties\": 0.71039, \"sim_losses\": 0.55739, \"sim_goal_diff\": 2.89991, \"goals_scored\": 5.86382, \"goals_against\": 2.96391, \"group_1\": 0.53223, \"group_2\": 0.25783, \"group_3\": 0.14552, \"group_4\": 0.06442, \"make_round_of_16\": 0.79006, \"make_quarters\": 0.4899, \"make_semis\": 0.2666, \"make_final\": 0.11908, \"win_league\": 0.0596, \"timestamp\": \"2022-12-14T20:56:18+00:00\"}, {\"forecast_timestamp\": \"2022-11-16T16:00:55+00:00\", \"team\": \"Denmark\", \"group\": \"D\", \"spi\": 80.01595, \"global_o\": 2.2889, \"global_d\": 0.60196, \"sim_wins\": 1.31537, \"sim_ties\": 0.83937, \"sim_losses\": 0.84526, \"sim_goal_diff\": 0.99315, \"goals_scored\": 4.09363, \"goals_against\": 3.10048, \"group_1\": 0.29056, \"group_2\": 0.35779, \"group_3\": 0.22531, \"group_4\": 0.12634, \"make_round_of_16\": 0.64835, \"make_quarters\": 0.33253, \"make_semis\": 0.16865, \"make_final\": 0.06883, \"win_league\": 0.02842, \"timestamp\": \"2022-12-14T20:56:18+00:00\"}, {\"forecast_timestamp\": \"2022-11-16T16:00:55+00:00\", \"team\": \"Uruguay\", \"group\": \"H\", \"spi\": 80.90448, \"global_o\": 2.25529, \"global_d\": 0.53963, \"sim_wins\": 1.32689, \"sim_ties\": 0.86229, \"sim_losses\": 0.81082, \"sim_goal_diff\": 1.06659, \"goals_scored\": 3.96556, \"goals_against\": 2.89897, \"group_1\": 0.29815, \"group_2\": 0.35459, \"group_3\": 0.22909, \"group_4\": 0.11817, \"make_round_of_16\": 0.65274, \"make_quarters\": 0.28244, \"make_semis\": 0.13261, \"make_final\": 0.06615, \"win_league\": 0.02828, \"timestamp\": \"2022-12-14T20:56:18+00:00\"}, {\"forecast_timestamp\": \"2022-11-16T16:00:55+00:00\", \"team\": \"Belgium\", \"group\": \"F\", \"spi\": 82.49005, \"global_o\": 2.62457, \"global_d\": 0.6845, \"sim_wins\": 1.32798, \"sim_ties\": 0.8056, \"sim_losses\": 0.86642, \"sim_goal_diff\": 1.04043, \"goals_scored\": 4.71514, \"goals_against\": 3.67471, \"group_1\": 0.35643, \"group_2\": 0.26757, \"group_3\": 0.21261, \"group_4\": 0.16339, \"make_round_of_16\": 0.624, \"make_quarters\": 0.27365, \"make_semis\": 0.12034, \"make_final\": 0.06141, \"win_league\": 0.02608, \"timestamp\": \"2022-12-14T20:56:18+00:00\"}, {\"forecast_timestamp\": \"2022-11-16T16:00:55+00:00\", \"team\": \"Croatia\", \"group\": \"F\", \"spi\": 78.84025, \"global_o\": 2.28577, \"global_d\": 0.65525, \"sim_wins\": 1.15695, \"sim_ties\": 0.84997, \"sim_losses\": 0.99308, \"sim_goal_diff\": 0.32548, \"goals_scored\": 4.07091, \"goals_against\": 3.74543, \"group_1\": 0.27547, \"group_2\": 0.26872, \"group_3\": 0.2432, \"group_4\": 0.21261, \"make_round_of_16\": 0.54419, \"make_quarters\": 0.21411, \"make_semis\": 0.08819, \"make_final\": 0.04219, \"win_league\": 0.01702, \"timestamp\": \"2022-12-14T20:56:18+00:00\"}, {\"forecast_timestamp\": \"2022-11-16T16:00:55+00:00\", \"team\": \"Switzerland\", \"group\": \"G\", \"spi\": 77.64665, \"global_o\": 2.23118, \"global_d\": 0.67527, \"sim_wins\": 1.01246, \"sim_ties\": 0.79286, \"sim_losses\": 1.19468, \"sim_goal_diff\": -0.49222, \"goals_scored\": 3.61276, \"goals_against\": 4.10498, \"group_1\": 0.13455, \"group_2\": 0.34406, \"group_3\": 0.30746, \"group_4\": 0.21393, \"make_round_of_16\": 0.47861, \"make_quarters\": 0.20741, \"make_semis\": 0.0888, \"make_final\": 0.03948, \"win_league\": 0.01455, \"timestamp\": \"2022-12-14T20:56:18+00:00\"}, {\"forecast_timestamp\": \"2022-11-16T16:00:55+00:00\", \"team\": \"USA\", \"group\": \"B\", \"spi\": 74.83489, \"global_o\": 2.11382, \"global_d\": 0.7233, \"sim_wins\": 1.08538, \"sim_ties\": 0.87897, \"sim_losses\": 1.03565, \"sim_goal_diff\": 0.07698, \"goals_scored\": 3.58459, \"goals_against\": 3.50761, \"group_1\": 0.2214, \"group_2\": 0.30813, \"group_3\": 0.26353, \"group_4\": 0.20694, \"make_round_of_16\": 0.52953, \"make_quarters\": 0.24297, \"make_semis\": 0.10082, \"make_final\": 0.03517, \"win_league\": 0.01304, \"timestamp\": \"2022-12-14T20:56:18+00:00\"}, {\"forecast_timestamp\": \"2022-11-16T16:00:55+00:00\", \"team\": \"Mexico\", \"group\": \"C\", \"spi\": 74.29647, \"global_o\": 2.00635, \"global_d\": 0.67211, \"sim_wins\": 1.10911, \"sim_ties\": 0.86111, \"sim_losses\": 1.02978, \"sim_goal_diff\": 0.15824, \"goals_scored\": 3.62095, \"goals_against\": 3.46271, \"group_1\": 0.20717, \"group_2\": 0.32919, \"group_3\": 0.27301, \"group_4\": 0.19063, \"make_round_of_16\": 0.53636, \"make_quarters\": 0.22207, \"make_semis\": 0.09943, \"make_final\": 0.03394, \"win_league\": 0.01268, \"timestamp\": \"2022-12-14T20:56:18+00:00\"}, {\"forecast_timestamp\": \"2022-11-16T16:00:55+00:00\", \"team\": \"Senegal\", \"group\": \"A\", \"spi\": 73.8414, \"global_o\": 1.94597, \"global_d\": 0.64928, \"sim_wins\": 1.10327, \"sim_ties\": 0.84656, \"sim_losses\": 1.05017, \"sim_goal_diff\": 0.13989, \"goals_scored\": 3.84251, \"goals_against\": 3.70262, \"group_1\": 0.20957, \"group_2\": 0.30172, \"group_3\": 0.29356, \"group_4\": 0.19515, \"make_round_of_16\": 0.51129, \"make_quarters\": 0.23152, \"make_semis\": 0.09563, \"make_final\": 0.03294, \"win_league\": 0.01199, \"timestamp\": \"2022-12-14T20:56:18+00:00\"}, {\"forecast_timestamp\": \"2022-11-16T16:00:55+00:00\", \"team\": \"Ecuador\", \"group\": \"A\", \"spi\": 72.74127, \"global_o\": 1.95582, \"global_d\": 0.70294, \"sim_wins\": 1.06051, \"sim_ties\": 0.83314, \"sim_losses\": 1.10635, \"sim_goal_diff\": -0.08847, \"goals_scored\": 3.80594, \"goals_against\": 3.89441, \"group_1\": 0.19014, \"group_2\": 0.29195, \"group_3\": 0.30458, \"group_4\": 0.21333, \"make_round_of_16\": 0.48209, \"make_quarters\": 0.20916, \"make_semis\": 0.08389, \"make_final\": 0.02817, \"win_league\": 0.01022, \"timestamp\": \"2022-12-14T20:56:18+00:00\"}, {\"forecast_timestamp\": \"2022-11-16T16:00:55+00:00\", \"team\": \"Morocco\", \"group\": \"F\", \"spi\": 75.62263, \"global_o\": 2.10023, \"global_d\": 0.67896, \"sim_wins\": 1.00739, \"sim_ties\": 0.86128, \"sim_losses\": 1.13133, \"sim_goal_diff\": -0.27965, \"goals_scored\": 3.68217, \"goals_against\": 3.96182, \"group_1\": 0.21422, \"group_2\": 0.25051, \"group_3\": 0.26928, \"group_4\": 0.26599, \"make_round_of_16\": 0.46473, \"make_quarters\": 0.16532, \"make_semis\": 0.06159, \"make_final\": 0.02701, \"win_league\": 0.01021, \"timestamp\": \"2022-12-14T20:56:18+00:00\"}, {\"forecast_timestamp\": \"2022-11-16T16:00:55+00:00\", \"team\": \"Serbia\", \"group\": \"G\", \"spi\": 75.83904, \"global_o\": 2.21814, \"global_d\": 0.74974, \"sim_wins\": 0.91609, \"sim_ties\": 0.77856, \"sim_losses\": 1.30535, \"sim_goal_diff\": -0.98479, \"goals_scored\": 3.4681, \"goals_against\": 4.45289, \"group_1\": 0.10954, \"group_2\": 0.30341, \"group_3\": 0.33362, \"group_4\": 0.25343, \"make_round_of_16\": 0.41295, \"make_quarters\": 0.16587, \"make_semis\": 0.06658, \"make_final\": 0.02878, \"win_league\": 0.01, \"timestamp\": \"2022-12-14T20:56:18+00:00\"}, {\"forecast_timestamp\": \"2022-11-16T16:00:55+00:00\", \"team\": \"Japan\", \"group\": \"E\", \"spi\": 71.43695, \"global_o\": 1.98575, \"global_d\": 0.78071, \"sim_wins\": 0.9156, \"sim_ties\": 0.76006, \"sim_losses\": 1.32434, \"sim_goal_diff\": -1.03341, \"goals_scored\": 3.51877, \"goals_against\": 4.55218, \"group_1\": 0.11084, \"group_2\": 0.23408, \"group_3\": 0.43682, \"group_4\": 0.21826, \"make_round_of_16\": 0.34492, \"make_quarters\": 0.1576, \"make_semis\": 0.05775, \"make_final\": 0.02465, \"win_league\": 0.00876, \"timestamp\": \"2022-12-14T20:56:18+00:00\"}, {\"forecast_timestamp\": \"2022-11-16T16:00:55+00:00\", \"team\": \"Canada\", \"group\": \"F\", \"spi\": 71.58583, \"global_o\": 1.94737, \"global_d\": 0.74608, \"sim_wins\": 0.82211, \"sim_ties\": 0.85429, \"sim_losses\": 1.3236, \"sim_goal_diff\": -1.08626, \"goals_scored\": 3.26725, \"goals_against\": 4.35351, \"group_1\": 0.15388, \"group_2\": 0.2132, \"group_3\": 0.27491, \"group_4\": 0.35801, \"make_round_of_16\": 0.36708, \"make_quarters\": 0.11482, \"make_semis\": 0.03869, \"make_final\": 0.01591, \"win_league\": 0.0055, \"timestamp\": \"2022-12-14T20:56:18+00:00\"}, {\"forecast_timestamp\": \"2022-11-16T16:00:55+00:00\", \"team\": \"Poland\", \"group\": \"C\", \"spi\": 68.28098, \"global_o\": 1.87603, \"global_d\": 0.83283, \"sim_wins\": 0.84879, \"sim_ties\": 0.83305, \"sim_losses\": 1.31816, \"sim_goal_diff\": -1.06316, \"goals_scored\": 3.14758, \"goals_against\": 4.21074, \"group_1\": 0.12588, \"group_2\": 0.25332, \"group_3\": 0.31968, \"group_4\": 0.30112, \"make_round_of_16\": 0.3792, \"make_quarters\": 0.12938, \"make_semis\": 0.05029, \"make_final\": 0.01471, \"win_league\": 0.00463, \"timestamp\": \"2022-12-14T20:56:18+00:00\"}, {\"forecast_timestamp\": \"2022-11-16T16:00:55+00:00\", \"team\": \"South Korea\", \"group\": \"H\", \"spi\": 66.12313, \"global_o\": 1.73414, \"global_d\": 0.81094, \"sim_wins\": 0.82649, \"sim_ties\": 0.85594, \"sim_losses\": 1.31757, \"sim_goal_diff\": -1.13309, \"goals_scored\": 2.91359, \"goals_against\": 4.04668, \"group_1\": 0.12062, \"group_2\": 0.23574, \"group_3\": 0.35148, \"group_4\": 0.29216, \"make_round_of_16\": 0.35636, \"make_quarters\": 0.10596, \"make_semis\": 0.03783, \"make_final\": 0.01429, \"win_league\": 0.00449, \"timestamp\": \"2022-12-14T20:56:18+00:00\"}, {\"forecast_timestamp\": \"2022-11-16T16:00:55+00:00\", \"team\": \"Tunisia\", \"group\": \"D\", \"spi\": 65.85461, \"global_o\": 1.63339, \"global_d\": 0.74077, \"sim_wins\": 0.73256, \"sim_ties\": 0.86585, \"sim_losses\": 1.40159, \"sim_goal_diff\": -1.46599, \"goals_scored\": 2.62304, \"goals_against\": 4.08903, \"group_1\": 0.09675, \"group_2\": 0.21187, \"group_3\": 0.34901, \"group_4\": 0.34237, \"make_round_of_16\": 0.30862, \"make_quarters\": 0.11045, \"make_semis\": 0.04178, \"make_final\": 0.01166, \"win_league\": 0.00382, \"timestamp\": \"2022-12-14T20:56:18+00:00\"}, {\"forecast_timestamp\": \"2022-11-16T16:00:55+00:00\", \"team\": \"Iran\", \"group\": \"B\", \"spi\": 62.17412, \"global_o\": 1.51146, \"global_d\": 0.78563, \"sim_wins\": 0.75007, \"sim_ties\": 0.9078, \"sim_losses\": 1.34213, \"sim_goal_diff\": -1.23015, \"goals_scored\": 2.62104, \"goals_against\": 3.85119, \"group_1\": 0.1152, \"group_2\": 0.22687, \"group_3\": 0.3076, \"group_4\": 0.35033, \"make_round_of_16\": 0.34207, \"make_quarters\": 0.12694, \"make_semis\": 0.04371, \"make_final\": 0.01241, \"win_league\": 0.00365, \"timestamp\": \"2022-12-14T20:56:18+00:00\"}, {\"forecast_timestamp\": \"2022-11-16T16:00:55+00:00\", \"team\": \"Wales\", \"group\": \"B\", \"spi\": 65.58314, \"global_o\": 1.7128, \"global_d\": 0.81593, \"sim_wins\": 0.72363, \"sim_ties\": 0.87562, \"sim_losses\": 1.40075, \"sim_goal_diff\": -1.47559, \"goals_scored\": 2.67891, \"goals_against\": 4.1545, \"group_1\": 0.10895, \"group_2\": 0.21519, \"group_3\": 0.29901, \"group_4\": 0.37685, \"make_round_of_16\": 0.32414, \"make_quarters\": 0.11755, \"make_semis\": 0.03968, \"make_final\": 0.01153, \"win_league\": 0.00345, \"timestamp\": \"2022-12-14T20:56:18+00:00\"}, {\"forecast_timestamp\": \"2022-11-16T16:00:55+00:00\", \"team\": \"Cameroon\", \"group\": \"G\", \"spi\": 64.15924, \"global_o\": 1.65744, \"global_d\": 0.82883, \"sim_wins\": 0.5109, \"sim_ties\": 0.72564, \"sim_losses\": 1.76346, \"sim_goal_diff\": -2.98603, \"goals_scored\": 2.30607, \"goals_against\": 5.2921, \"group_1\": 0.03952, \"group_2\": 0.15847, \"group_3\": 0.29046, \"group_4\": 0.51155, \"make_round_of_16\": 0.19799, \"make_quarters\": 0.05796, \"make_semis\": 0.01791, \"make_final\": 0.00597, \"win_league\": 0.00167, \"timestamp\": \"2022-12-14T20:56:18+00:00\"}, {\"forecast_timestamp\": \"2022-11-16T16:00:55+00:00\", \"team\": \"Saudi Arabia\", \"group\": \"C\", \"spi\": 56.86592, \"global_o\": 1.50018, \"global_d\": 0.99118, \"sim_wins\": 0.59721, \"sim_ties\": 0.79021, \"sim_losses\": 1.61258, \"sim_goal_diff\": -2.26444, \"goals_scored\": 2.55321, \"goals_against\": 4.81765, \"group_1\": 0.06973, \"group_2\": 0.17476, \"group_3\": 0.29436, \"group_4\": 0.46115, \"make_round_of_16\": 0.24449, \"make_quarters\": 0.06913, \"make_semis\": 0.02164, \"make_final\": 0.00516, \"win_league\": 0.00132, \"timestamp\": \"2022-12-14T20:56:18+00:00\"}, {\"forecast_timestamp\": \"2022-11-16T16:00:55+00:00\", \"team\": \"Australia\", \"group\": \"D\", \"spi\": 60.83178, \"global_o\": 1.59388, \"global_d\": 0.91112, \"sim_wins\": 0.55148, \"sim_ties\": 0.79247, \"sim_losses\": 1.65605, \"sim_goal_diff\": -2.49253, \"goals_scored\": 2.36908, \"goals_against\": 4.86161, \"group_1\": 0.05911, \"group_2\": 0.15706, \"group_3\": 0.3024, \"group_4\": 0.48143, \"make_round_of_16\": 0.21617, \"make_quarters\": 0.065, \"make_semis\": 0.02062, \"make_final\": 0.00454, \"win_league\": 0.00124, \"timestamp\": \"2022-12-14T20:56:18+00:00\"}, {\"forecast_timestamp\": \"2022-11-16T16:00:55+00:00\", \"team\": \"Qatar\", \"group\": \"A\", \"spi\": 51.00223, \"global_o\": 1.57111, \"global_d\": 1.31642, \"sim_wins\": 0.56555, \"sim_ties\": 0.68681, \"sim_losses\": 1.74764, \"sim_goal_diff\": -2.95133, \"goals_scored\": 3.11894, \"goals_against\": 6.07027, \"group_1\": 0.06806, \"group_2\": 0.1485, \"group_3\": 0.25634, \"group_4\": 0.5271, \"make_round_of_16\": 0.21656, \"make_quarters\": 0.06588, \"make_semis\": 0.0184, \"make_final\": 0.00399, \"win_league\": 0.00096, \"timestamp\": \"2022-12-14T20:56:18+00:00\"}, {\"forecast_timestamp\": \"2022-11-16T16:00:55+00:00\", \"team\": \"Ghana\", \"group\": \"H\", \"spi\": 58.62702, \"global_o\": 1.43347, \"global_d\": 0.85806, \"sim_wins\": 0.4673, \"sim_ties\": 0.80877, \"sim_losses\": 1.72393, \"sim_goal_diff\": -2.74111, \"goals_scored\": 1.99867, \"goals_against\": 4.73978, \"group_1\": 0.04662, \"group_2\": 0.13341, \"group_3\": 0.28475, \"group_4\": 0.53522, \"make_round_of_16\": 0.18003, \"make_quarters\": 0.03586, \"make_semis\": 0.00945, \"make_final\": 0.00284, \"win_league\": 0.00063, \"timestamp\": \"2022-12-14T20:56:18+00:00\"}, {\"forecast_timestamp\": \"2022-11-16T16:00:55+00:00\", \"team\": \"Costa Rica\", \"group\": \"E\", \"spi\": 55.45518, \"global_o\": 1.39816, \"global_d\": 0.95388, \"sim_wins\": 0.29847, \"sim_ties\": 0.61279, \"sim_losses\": 2.08874, \"sim_goal_diff\": -4.39879, \"goals_scored\": 1.8086, \"goals_against\": 6.20739, \"group_1\": 0.01743, \"group_2\": 0.06655, \"group_3\": 0.22772, \"group_4\": 0.6883, \"make_round_of_16\": 0.08398, \"make_quarters\": 0.0229, \"make_semis\": 0.0051, \"make_final\": 0.00132, \"win_league\": 0.00032, \"timestamp\": \"2022-12-14T20:56:18+00:00\"}]}}, {\"mode\": \"vega-lite\"});\n",
       "</script>"
      ],
      "text/plain": [
       "alt.Chart(...)"
      ]
     },
     "execution_count": 16,
     "metadata": {},
     "output_type": "execute_result"
    }
   ],
   "source": [
    "%matplotlib inline\n",
    "import altair as alt\n",
    "\n",
    "# Visualize the data\n",
    "alt.Chart(df).mark_circle(size=100).encode(\n",
    "    x=alt.X('global_o',\n",
    "            axis=alt.Axis(title='Globale Offensive',\n",
    "                          labelAngle=0,\n",
    "                          titleAnchor='start',\n",
    "                          grid=False)),\n",
    "    y=alt.Y('win_league',\n",
    "            axis=alt.Axis(title='Wahrscheinlichkeit für einen Sieg der WM',\n",
    "                          titleAnchor='end',\n",
    "                          grid=False)),\n",
    "    color=alt.Color('team', legend=None),\n",
    "    tooltip=['team', 'global_o', 'win_league']\n",
    "\n",
    ").properties(\n",
    "    title={'text':'Korrelation zwischen globaler Offensive und einem Sieg der WM','subtitle':'Für die Fußballweltmeisterschaft im Jahr 2022'},  \n",
    "    width=500,\n",
    "    height=300\n",
    ").configure_view(\n",
    "    strokeWidth=0\n",
    ").configure_title( \n",
    "    fontSize=16,\n",
    "    font='Arial',\n",
    "    color='black',\n",
    "    anchor='start'\n",
    ").interactive()"
   ]
  },
  {
   "cell_type": "markdown",
   "metadata": {},
   "source": [
    "Korrelation zwischen Global Offensive Rating und der Wahrscheinlichkeit, die WM zu gewinnen. Die Grafik zeigt, dass noch andere Faktoren miteinspielen müssen, da Deutschland beispielsweise zwar ein hohes Global Defense Rating hat, jedoch ist die WK, dass sie Weltmeister werden eher gering. Da es sich um numerische Werte handelt, wurde für diese Korrelation ebenfalls ein Scatterplot gewählt."
   ]
  }
 ],
 "metadata": {
  "kernelspec": {
   "display_name": "Python 3.9.13 ('ds')",
   "language": "python",
   "name": "python3"
  },
  "language_info": {
   "codemirror_mode": {
    "name": "ipython",
    "version": 3
   },
   "file_extension": ".py",
   "mimetype": "text/x-python",
   "name": "python",
   "nbconvert_exporter": "python",
   "pygments_lexer": "ipython3",
   "version": "3.9.13"
  },
  "orig_nbformat": 4,
  "vscode": {
   "interpreter": {
    "hash": "52de3ee4998e1b35b4ca6f5bf34e924b487afa2f30cd8c299deba228d1672525"
   }
  }
 },
 "nbformat": 4,
 "nbformat_minor": 2
}
