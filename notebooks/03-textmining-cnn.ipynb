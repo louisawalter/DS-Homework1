{
 "cells": [
  {
   "cell_type": "markdown",
   "metadata": {},
   "source": [
    "# Textmining\n",
    "\n",
    "---\n",
    "\n",
    "Group name: Group C\n",
    "\n",
    "---\n"
   ]
  },
  {
   "cell_type": "markdown",
   "metadata": {},
   "source": [
    "## Setup"
   ]
  },
  {
   "cell_type": "code",
   "execution_count": 1,
   "metadata": {},
   "outputs": [],
   "source": [
    "# we suppress some unimportant warnings\n",
    "import warnings\n",
    "\n",
    "warnings.simplefilter(action='ignore', category=FutureWarning)"
   ]
  },
  {
   "cell_type": "code",
   "execution_count": 2,
   "metadata": {},
   "outputs": [],
   "source": [
    "import pandas as pd"
   ]
  },
  {
   "cell_type": "markdown",
   "metadata": {},
   "source": [
    "## Data"
   ]
  },
  {
   "cell_type": "code",
   "execution_count": 3,
   "metadata": {},
   "outputs": [],
   "source": [
    "#import csv from company article\n",
    "df = pd.read_csv('/Users/Kim/Library/Mobile Documents/com~apple~CloudDocs/UNI/HdM/Semester7/Data Science Python/DS-Homework1/data/raw/webscraping02.csv')"
   ]
  },
  {
   "cell_type": "code",
   "execution_count": 4,
   "metadata": {},
   "outputs": [
    {
     "data": {
      "text/html": [
       "<div>\n",
       "<style scoped>\n",
       "    .dataframe tbody tr th:only-of-type {\n",
       "        vertical-align: middle;\n",
       "    }\n",
       "\n",
       "    .dataframe tbody tr th {\n",
       "        vertical-align: top;\n",
       "    }\n",
       "\n",
       "    .dataframe thead th {\n",
       "        text-align: right;\n",
       "    }\n",
       "</style>\n",
       "<table border=\"1\" class=\"dataframe\">\n",
       "  <thead>\n",
       "    <tr style=\"text-align: right;\">\n",
       "      <th></th>\n",
       "      <th>Unnamed: 0</th>\n",
       "      <th>Titel</th>\n",
       "      <th>URL</th>\n",
       "      <th>Thema</th>\n",
       "      <th>Autor</th>\n",
       "      <th>Datum</th>\n",
       "      <th>Artikeltext</th>\n",
       "    </tr>\n",
       "  </thead>\n",
       "  <tbody>\n",
       "    <tr>\n",
       "      <th>0</th>\n",
       "      <td>0</td>\n",
       "      <td>Inside Twitter as ‘mass exodus’ of staff...</td>\n",
       "      <td>https://edition.cnn.com/2022/11/17/media/twitt...</td>\n",
       "      <td>New YorkCNN Business         —</td>\n",
       "      <td>Oliver Darcy</td>\n",
       "      <td>Updated        10:35 AM EST, Fri November 18...</td>\n",
       "      <td>New YorkCNN Business        —          Death i...</td>\n",
       "    </tr>\n",
       "  </tbody>\n",
       "</table>\n",
       "</div>"
      ],
      "text/plain": [
       "   Unnamed: 0                                              Titel  \\\n",
       "0           0        Inside Twitter as ‘mass exodus’ of staff...   \n",
       "\n",
       "                                                 URL  \\\n",
       "0  https://edition.cnn.com/2022/11/17/media/twitt...   \n",
       "\n",
       "                                 Thema         Autor  \\\n",
       "0  New YorkCNN Business         —       Oliver Darcy   \n",
       "\n",
       "                                               Datum  \\\n",
       "0    Updated        10:35 AM EST, Fri November 18...   \n",
       "\n",
       "                                         Artikeltext  \n",
       "0  New YorkCNN Business        —          Death i...  "
      ]
     },
     "execution_count": 4,
     "metadata": {},
     "output_type": "execute_result"
    }
   ],
   "source": [
    "df"
   ]
  },
  {
   "cell_type": "markdown",
   "metadata": {},
   "source": [
    "## Data correction"
   ]
  },
  {
   "cell_type": "code",
   "execution_count": 5,
   "metadata": {},
   "outputs": [
    {
     "data": {
      "text/html": [
       "<div>\n",
       "<style scoped>\n",
       "    .dataframe tbody tr th:only-of-type {\n",
       "        vertical-align: middle;\n",
       "    }\n",
       "\n",
       "    .dataframe tbody tr th {\n",
       "        vertical-align: top;\n",
       "    }\n",
       "\n",
       "    .dataframe thead th {\n",
       "        text-align: right;\n",
       "    }\n",
       "</style>\n",
       "<table border=\"1\" class=\"dataframe\">\n",
       "  <thead>\n",
       "    <tr style=\"text-align: right;\">\n",
       "      <th></th>\n",
       "      <th>Unnamed: 0</th>\n",
       "      <th>Titel</th>\n",
       "      <th>URL</th>\n",
       "      <th>Thema</th>\n",
       "      <th>Autor</th>\n",
       "      <th>Datum</th>\n",
       "      <th>Artikeltext</th>\n",
       "      <th>Artikeltext_lower</th>\n",
       "    </tr>\n",
       "  </thead>\n",
       "  <tbody>\n",
       "    <tr>\n",
       "      <th>0</th>\n",
       "      <td>0</td>\n",
       "      <td>Inside Twitter as ‘mass exodus’ of staff...</td>\n",
       "      <td>https://edition.cnn.com/2022/11/17/media/twitt...</td>\n",
       "      <td>New YorkCNN Business         —</td>\n",
       "      <td>Oliver Darcy</td>\n",
       "      <td>Updated        10:35 AM EST, Fri November 18...</td>\n",
       "      <td>New YorkCNN Business        —          Death i...</td>\n",
       "      <td>new yorkcnn business        —          death i...</td>\n",
       "    </tr>\n",
       "  </tbody>\n",
       "</table>\n",
       "</div>"
      ],
      "text/plain": [
       "   Unnamed: 0                                              Titel  \\\n",
       "0           0        Inside Twitter as ‘mass exodus’ of staff...   \n",
       "\n",
       "                                                 URL  \\\n",
       "0  https://edition.cnn.com/2022/11/17/media/twitt...   \n",
       "\n",
       "                                 Thema         Autor  \\\n",
       "0  New YorkCNN Business         —       Oliver Darcy   \n",
       "\n",
       "                                               Datum  \\\n",
       "0    Updated        10:35 AM EST, Fri November 18...   \n",
       "\n",
       "                                         Artikeltext  \\\n",
       "0  New YorkCNN Business        —          Death i...   \n",
       "\n",
       "                                   Artikeltext_lower  \n",
       "0  new yorkcnn business        —          death i...  "
      ]
     },
     "execution_count": 5,
     "metadata": {},
     "output_type": "execute_result"
    }
   ],
   "source": [
    "df['Artikeltext_lower'] = df['Artikeltext'].astype(str).str.lower()\n",
    "\n",
    "df.head(3)"
   ]
  },
  {
   "cell_type": "markdown",
   "metadata": {},
   "source": [
    "## Text mining data preparation"
   ]
  },
  {
   "cell_type": "code",
   "execution_count": 6,
   "metadata": {},
   "outputs": [],
   "source": [
    "from nltk.tokenize import RegexpTokenizer"
   ]
  },
  {
   "cell_type": "code",
   "execution_count": 7,
   "metadata": {},
   "outputs": [
    {
     "data": {
      "text/html": [
       "<div>\n",
       "<style scoped>\n",
       "    .dataframe tbody tr th:only-of-type {\n",
       "        vertical-align: middle;\n",
       "    }\n",
       "\n",
       "    .dataframe tbody tr th {\n",
       "        vertical-align: top;\n",
       "    }\n",
       "\n",
       "    .dataframe thead th {\n",
       "        text-align: right;\n",
       "    }\n",
       "</style>\n",
       "<table border=\"1\" class=\"dataframe\">\n",
       "  <thead>\n",
       "    <tr style=\"text-align: right;\">\n",
       "      <th></th>\n",
       "      <th>Unnamed: 0</th>\n",
       "      <th>Titel</th>\n",
       "      <th>URL</th>\n",
       "      <th>Thema</th>\n",
       "      <th>Autor</th>\n",
       "      <th>Datum</th>\n",
       "      <th>Artikeltext</th>\n",
       "      <th>Artikeltext_lower</th>\n",
       "      <th>Artikeltext_token</th>\n",
       "    </tr>\n",
       "  </thead>\n",
       "  <tbody>\n",
       "    <tr>\n",
       "      <th>0</th>\n",
       "      <td>0</td>\n",
       "      <td>Inside Twitter as ‘mass exodus’ of staff...</td>\n",
       "      <td>https://edition.cnn.com/2022/11/17/media/twitt...</td>\n",
       "      <td>New YorkCNN Business         —</td>\n",
       "      <td>Oliver Darcy</td>\n",
       "      <td>Updated        10:35 AM EST, Fri November 18...</td>\n",
       "      <td>New YorkCNN Business        —          Death i...</td>\n",
       "      <td>new yorkcnn business        —          death i...</td>\n",
       "      <td>[new, yorkcnn, business, death, is, in, the, a...</td>\n",
       "    </tr>\n",
       "  </tbody>\n",
       "</table>\n",
       "</div>"
      ],
      "text/plain": [
       "   Unnamed: 0                                              Titel  \\\n",
       "0           0        Inside Twitter as ‘mass exodus’ of staff...   \n",
       "\n",
       "                                                 URL  \\\n",
       "0  https://edition.cnn.com/2022/11/17/media/twitt...   \n",
       "\n",
       "                                 Thema         Autor  \\\n",
       "0  New YorkCNN Business         —       Oliver Darcy   \n",
       "\n",
       "                                               Datum  \\\n",
       "0    Updated        10:35 AM EST, Fri November 18...   \n",
       "\n",
       "                                         Artikeltext  \\\n",
       "0  New YorkCNN Business        —          Death i...   \n",
       "\n",
       "                                   Artikeltext_lower  \\\n",
       "0  new yorkcnn business        —          death i...   \n",
       "\n",
       "                                   Artikeltext_token  \n",
       "0  [new, yorkcnn, business, death, is, in, the, a...  "
      ]
     },
     "execution_count": 7,
     "metadata": {},
     "output_type": "execute_result"
    }
   ],
   "source": [
    "# YOUR CODE HERE\n",
    "regexp = RegexpTokenizer('\\w+') # use regular expression to match (multiple) word characters and numbers\n",
    "\n",
    "df['Artikeltext_token']=df['Artikeltext_lower'].apply(regexp.tokenize) # insert the data column and the regular expression pattern\n",
    "\n",
    "df"
   ]
  },
  {
   "cell_type": "code",
   "execution_count": 8,
   "metadata": {},
   "outputs": [],
   "source": [
    "import nltk\n",
    "from nltk.corpus import stopwords"
   ]
  },
  {
   "cell_type": "code",
   "execution_count": 9,
   "metadata": {},
   "outputs": [],
   "source": [
    "# Make a list of english stopwords\n",
    "stopwords = nltk.corpus.stopwords.words(\"english\")"
   ]
  },
  {
   "cell_type": "code",
   "execution_count": 10,
   "metadata": {},
   "outputs": [],
   "source": [
    "# make your own custom stopwords\n",
    "my_stopwords = ['https', 'co']"
   ]
  },
  {
   "cell_type": "code",
   "execution_count": 11,
   "metadata": {},
   "outputs": [],
   "source": [
    "# Extend the stopword list with your own custom stopwords\n",
    "stopwords.extend(my_stopwords)"
   ]
  },
  {
   "cell_type": "code",
   "execution_count": 12,
   "metadata": {},
   "outputs": [
    {
     "data": {
      "text/html": [
       "<div>\n",
       "<style scoped>\n",
       "    .dataframe tbody tr th:only-of-type {\n",
       "        vertical-align: middle;\n",
       "    }\n",
       "\n",
       "    .dataframe tbody tr th {\n",
       "        vertical-align: top;\n",
       "    }\n",
       "\n",
       "    .dataframe thead th {\n",
       "        text-align: right;\n",
       "    }\n",
       "</style>\n",
       "<table border=\"1\" class=\"dataframe\">\n",
       "  <thead>\n",
       "    <tr style=\"text-align: right;\">\n",
       "      <th></th>\n",
       "      <th>Unnamed: 0</th>\n",
       "      <th>Titel</th>\n",
       "      <th>URL</th>\n",
       "      <th>Thema</th>\n",
       "      <th>Autor</th>\n",
       "      <th>Datum</th>\n",
       "      <th>Artikeltext</th>\n",
       "      <th>Artikeltext_lower</th>\n",
       "      <th>Artikeltext_token</th>\n",
       "      <th>Artikeltext_token_s</th>\n",
       "    </tr>\n",
       "  </thead>\n",
       "  <tbody>\n",
       "    <tr>\n",
       "      <th>0</th>\n",
       "      <td>0</td>\n",
       "      <td>Inside Twitter as ‘mass exodus’ of staff...</td>\n",
       "      <td>https://edition.cnn.com/2022/11/17/media/twitt...</td>\n",
       "      <td>New YorkCNN Business         —</td>\n",
       "      <td>Oliver Darcy</td>\n",
       "      <td>Updated        10:35 AM EST, Fri November 18...</td>\n",
       "      <td>New YorkCNN Business        —          Death i...</td>\n",
       "      <td>new yorkcnn business        —          death i...</td>\n",
       "      <td>[new, yorkcnn, business, death, is, in, the, a...</td>\n",
       "      <td>[new, yorkcnn, business, death, air, twitter, ...</td>\n",
       "    </tr>\n",
       "  </tbody>\n",
       "</table>\n",
       "</div>"
      ],
      "text/plain": [
       "   Unnamed: 0                                              Titel  \\\n",
       "0           0        Inside Twitter as ‘mass exodus’ of staff...   \n",
       "\n",
       "                                                 URL  \\\n",
       "0  https://edition.cnn.com/2022/11/17/media/twitt...   \n",
       "\n",
       "                                 Thema         Autor  \\\n",
       "0  New YorkCNN Business         —       Oliver Darcy   \n",
       "\n",
       "                                               Datum  \\\n",
       "0    Updated        10:35 AM EST, Fri November 18...   \n",
       "\n",
       "                                         Artikeltext  \\\n",
       "0  New YorkCNN Business        —          Death i...   \n",
       "\n",
       "                                   Artikeltext_lower  \\\n",
       "0  new yorkcnn business        —          death i...   \n",
       "\n",
       "                                   Artikeltext_token  \\\n",
       "0  [new, yorkcnn, business, death, is, in, the, a...   \n",
       "\n",
       "                                 Artikeltext_token_s  \n",
       "0  [new, yorkcnn, business, death, air, twitter, ...  "
      ]
     },
     "execution_count": 12,
     "metadata": {},
     "output_type": "execute_result"
    }
   ],
   "source": [
    "df['Artikeltext_token_s'] = df['Artikeltext_token'].apply(lambda x: [i for i in x if i not in stopwords])\n",
    "\n",
    "df"
   ]
  },
  {
   "cell_type": "markdown",
   "metadata": {},
   "source": [
    "### Transform data and remove infrequent words"
   ]
  },
  {
   "cell_type": "code",
   "execution_count": 13,
   "metadata": {},
   "outputs": [
    {
     "data": {
      "text/html": [
       "<div>\n",
       "<style scoped>\n",
       "    .dataframe tbody tr th:only-of-type {\n",
       "        vertical-align: middle;\n",
       "    }\n",
       "\n",
       "    .dataframe tbody tr th {\n",
       "        vertical-align: top;\n",
       "    }\n",
       "\n",
       "    .dataframe thead th {\n",
       "        text-align: right;\n",
       "    }\n",
       "</style>\n",
       "<table border=\"1\" class=\"dataframe\">\n",
       "  <thead>\n",
       "    <tr style=\"text-align: right;\">\n",
       "      <th></th>\n",
       "      <th>Unnamed: 0</th>\n",
       "      <th>Titel</th>\n",
       "      <th>URL</th>\n",
       "      <th>Thema</th>\n",
       "      <th>Autor</th>\n",
       "      <th>Datum</th>\n",
       "      <th>Artikeltext</th>\n",
       "      <th>Artikeltext_lower</th>\n",
       "      <th>Artikeltext_token</th>\n",
       "      <th>Artikeltext_token_s</th>\n",
       "      <th>Artikeltext_si</th>\n",
       "    </tr>\n",
       "  </thead>\n",
       "  <tbody>\n",
       "    <tr>\n",
       "      <th>0</th>\n",
       "      <td>0</td>\n",
       "      <td>Inside Twitter as ‘mass exodus’ of staff...</td>\n",
       "      <td>https://edition.cnn.com/2022/11/17/media/twitt...</td>\n",
       "      <td>New YorkCNN Business         —</td>\n",
       "      <td>Oliver Darcy</td>\n",
       "      <td>Updated        10:35 AM EST, Fri November 18...</td>\n",
       "      <td>New YorkCNN Business        —          Death i...</td>\n",
       "      <td>new yorkcnn business        —          death i...</td>\n",
       "      <td>[new, yorkcnn, business, death, is, in, the, a...</td>\n",
       "      <td>[new, yorkcnn, business, death, air, twitter, ...</td>\n",
       "      <td>new yorkcnn business death air twitter platfor...</td>\n",
       "    </tr>\n",
       "  </tbody>\n",
       "</table>\n",
       "</div>"
      ],
      "text/plain": [
       "   Unnamed: 0                                              Titel  \\\n",
       "0           0        Inside Twitter as ‘mass exodus’ of staff...   \n",
       "\n",
       "                                                 URL  \\\n",
       "0  https://edition.cnn.com/2022/11/17/media/twitt...   \n",
       "\n",
       "                                 Thema         Autor  \\\n",
       "0  New YorkCNN Business         —       Oliver Darcy   \n",
       "\n",
       "                                               Datum  \\\n",
       "0    Updated        10:35 AM EST, Fri November 18...   \n",
       "\n",
       "                                         Artikeltext  \\\n",
       "0  New YorkCNN Business        —          Death i...   \n",
       "\n",
       "                                   Artikeltext_lower  \\\n",
       "0  new yorkcnn business        —          death i...   \n",
       "\n",
       "                                   Artikeltext_token  \\\n",
       "0  [new, yorkcnn, business, death, is, in, the, a...   \n",
       "\n",
       "                                 Artikeltext_token_s  \\\n",
       "0  [new, yorkcnn, business, death, air, twitter, ...   \n",
       "\n",
       "                                      Artikeltext_si  \n",
       "0  new yorkcnn business death air twitter platfor...  "
      ]
     },
     "execution_count": 13,
     "metadata": {},
     "output_type": "execute_result"
    }
   ],
   "source": [
    "df['Artikeltext_si'] = df['Artikeltext_token_s'].apply(lambda x: ' '.join([i for i in x if len(i)>2]))\n",
    "\n",
    "df"
   ]
  },
  {
   "cell_type": "markdown",
   "metadata": {},
   "source": [
    "### Lemmatization"
   ]
  },
  {
   "cell_type": "code",
   "execution_count": 14,
   "metadata": {},
   "outputs": [],
   "source": [
    "from nltk.stem import WordNetLemmatizer"
   ]
  },
  {
   "cell_type": "code",
   "execution_count": 15,
   "metadata": {},
   "outputs": [],
   "source": [
    "wordnet_lem = WordNetLemmatizer()"
   ]
  },
  {
   "cell_type": "code",
   "execution_count": 16,
   "metadata": {},
   "outputs": [
    {
     "data": {
      "text/plain": [
       "True    1\n",
       "Name: Artikeltext_sil, dtype: int64"
      ]
     },
     "execution_count": 16,
     "metadata": {},
     "output_type": "execute_result"
    }
   ],
   "source": [
    "# create a new column called text_sil (l for lemmatization) and apply the function .lemmatize\n",
    "df['Artikeltext_sil'] = df['Artikeltext_si'].apply(wordnet_lem.lemmatize)\n",
    "\n",
    "# we check wether there are any differences in the two columns\n",
    "check_difference = (df['Artikeltext_sil'] == df['Artikeltext_sil'])\n",
    "\n",
    "# sum all True and False values\n",
    "check_difference.value_counts()"
   ]
  },
  {
   "cell_type": "markdown",
   "metadata": {},
   "source": [
    "## Sentiment"
   ]
  },
  {
   "cell_type": "code",
   "execution_count": 17,
   "metadata": {},
   "outputs": [],
   "source": [
    "from nltk.sentiment import SentimentIntensityAnalyzer\n",
    "\n",
    "analyzer = SentimentIntensityAnalyzer()"
   ]
  },
  {
   "cell_type": "code",
   "execution_count": 18,
   "metadata": {},
   "outputs": [],
   "source": [
    "df['polarity'] = df['Artikeltext_sil'].apply(lambda x: analyzer.polarity_scores(x))"
   ]
  },
  {
   "cell_type": "markdown",
   "metadata": {},
   "source": [
    "### Transform data"
   ]
  },
  {
   "cell_type": "code",
   "execution_count": 19,
   "metadata": {},
   "outputs": [],
   "source": [
    "# Change data structure (we unnest the column polarity and add new columns)\n",
    "df = pd.concat([df.drop(['polarity'], axis=1), df['polarity'].apply(pd.Series)], axis=1)"
   ]
  },
  {
   "cell_type": "code",
   "execution_count": 20,
   "metadata": {},
   "outputs": [],
   "source": [
    "df['sentiment'] = df['compound'].apply(lambda x: 'positive' if x > 0 else 'neutral' if x == 0 else 'negative')"
   ]
  },
  {
   "cell_type": "code",
   "execution_count": 21,
   "metadata": {},
   "outputs": [
    {
     "data": {
      "text/plain": [
       "Artikeltext    New YorkCNN Business        —          Death i...\n",
       "compound                                                 -0.8847\n",
       "neg                                                        0.125\n",
       "neu                                                         0.76\n",
       "pos                                                        0.115\n",
       "sentiment                                               negative\n",
       "Name: 0, dtype: object"
      ]
     },
     "execution_count": 21,
     "metadata": {},
     "output_type": "execute_result"
    }
   ],
   "source": [
    "# Tweet with highest positive sentiment\n",
    "df[['Artikeltext', 'compound', 'neg', 'neu', 'pos', 'sentiment']].loc[df['compound'].idxmax()]"
   ]
  },
  {
   "cell_type": "code",
   "execution_count": 22,
   "metadata": {},
   "outputs": [
    {
     "data": {
      "text/plain": [
       "Artikeltext    New YorkCNN Business        —          Death i...\n",
       "compound                                                 -0.8847\n",
       "neg                                                        0.125\n",
       "neu                                                         0.76\n",
       "pos                                                        0.115\n",
       "sentiment                                               negative\n",
       "Name: 0, dtype: object"
      ]
     },
     "execution_count": 22,
     "metadata": {},
     "output_type": "execute_result"
    }
   ],
   "source": [
    "# Tweet with highest negative sentiment \n",
    "# ...seems to be a case of wrong classification because of the word \"deficit\"\n",
    "df[['Artikeltext', 'compound', 'neg', 'neu', 'pos', 'sentiment']].loc[df['compound'].idxmin()]"
   ]
  },
  {
   "cell_type": "markdown",
   "metadata": {},
   "source": [
    "## Visualize Data"
   ]
  },
  {
   "cell_type": "code",
   "execution_count": 23,
   "metadata": {},
   "outputs": [
    {
     "data": {
      "text/html": [
       "\n",
       "<div id=\"altair-viz-1aca36f7c5d4495781a0158f216e193d\"></div>\n",
       "<script type=\"text/javascript\">\n",
       "  var VEGA_DEBUG = (typeof VEGA_DEBUG == \"undefined\") ? {} : VEGA_DEBUG;\n",
       "  (function(spec, embedOpt){\n",
       "    let outputDiv = document.currentScript.previousElementSibling;\n",
       "    if (outputDiv.id !== \"altair-viz-1aca36f7c5d4495781a0158f216e193d\") {\n",
       "      outputDiv = document.getElementById(\"altair-viz-1aca36f7c5d4495781a0158f216e193d\");\n",
       "    }\n",
       "    const paths = {\n",
       "      \"vega\": \"https://cdn.jsdelivr.net/npm//vega@5?noext\",\n",
       "      \"vega-lib\": \"https://cdn.jsdelivr.net/npm//vega-lib?noext\",\n",
       "      \"vega-lite\": \"https://cdn.jsdelivr.net/npm//vega-lite@4.17.0?noext\",\n",
       "      \"vega-embed\": \"https://cdn.jsdelivr.net/npm//vega-embed@6?noext\",\n",
       "    };\n",
       "\n",
       "    function maybeLoadScript(lib, version) {\n",
       "      var key = `${lib.replace(\"-\", \"\")}_version`;\n",
       "      return (VEGA_DEBUG[key] == version) ?\n",
       "        Promise.resolve(paths[lib]) :\n",
       "        new Promise(function(resolve, reject) {\n",
       "          var s = document.createElement('script');\n",
       "          document.getElementsByTagName(\"head\")[0].appendChild(s);\n",
       "          s.async = true;\n",
       "          s.onload = () => {\n",
       "            VEGA_DEBUG[key] = version;\n",
       "            return resolve(paths[lib]);\n",
       "          };\n",
       "          s.onerror = () => reject(`Error loading script: ${paths[lib]}`);\n",
       "          s.src = paths[lib];\n",
       "        });\n",
       "    }\n",
       "\n",
       "    function showError(err) {\n",
       "      outputDiv.innerHTML = `<div class=\"error\" style=\"color:red;\">${err}</div>`;\n",
       "      throw err;\n",
       "    }\n",
       "\n",
       "    function displayChart(vegaEmbed) {\n",
       "      vegaEmbed(outputDiv, spec, embedOpt)\n",
       "        .catch(err => showError(`Javascript Error: ${err.message}<br>This usually means there's a typo in your chart specification. See the javascript console for the full traceback.`));\n",
       "    }\n",
       "\n",
       "    if(typeof define === \"function\" && define.amd) {\n",
       "      requirejs.config({paths});\n",
       "      require([\"vega-embed\"], displayChart, err => showError(`Error loading script: ${err.message}`));\n",
       "    } else {\n",
       "      maybeLoadScript(\"vega\", \"5\")\n",
       "        .then(() => maybeLoadScript(\"vega-lite\", \"4.17.0\"))\n",
       "        .then(() => maybeLoadScript(\"vega-embed\", \"6\"))\n",
       "        .catch(showError)\n",
       "        .then(() => displayChart(vegaEmbed));\n",
       "    }\n",
       "  })({\"config\": {\"view\": {\"continuousWidth\": 400, \"continuousHeight\": 300}}, \"data\": {\"name\": \"data-6de26bb259e942fb7beb7f239906010b\"}, \"mark\": \"bar\", \"encoding\": {\"color\": {\"field\": \"sentiment\", \"legend\": null, \"scale\": {\"domain\": [\"neutral\", \"positive\", \"negative\"], \"range\": [\"#b2d8d8\", \"#008080\", \"#db3d13\"]}, \"type\": \"nominal\"}, \"x\": {\"aggregate\": \"count\", \"title\": null, \"type\": \"quantitative\"}, \"y\": {\"field\": \"sentiment\", \"sort\": \"-x\", \"type\": \"nominal\"}}, \"height\": 150, \"title\": \"Sentiment analysis\", \"width\": 400, \"$schema\": \"https://vega.github.io/schema/vega-lite/v4.17.0.json\", \"datasets\": {\"data-6de26bb259e942fb7beb7f239906010b\": [{\"Unnamed: 0\": 0, \"Titel\": \"      Inside Twitter as \\u2018mass exodus\\u2019 of staffers throws platform\\u2019s future into uncertainty    \", \"URL\": \"https://edition.cnn.com/2022/11/17/media/twitter-exodus-reliable-sources/index.html\", \"Thema\": \"New YorkCNN Business        \\u00a0\\u2014\\u00a0    \", \"Autor\": \"Oliver Darcy\", \"Datum\": \"  Updated        10:35 AM EST, Fri November 18, 2022    \", \"Artikeltext\": \"New YorkCNN Business        \\u2014          Death is in the air on Twitter.        On the platform Thursday evening, where #RIPTwitter was the top trend worldwide, users wrote what they feared might be their last posts, offering apprehensive goodbyes and listing the other (more stable) social media platforms where they can still be found.         They were reacting to the dire news emanating from inside Twitter. Scores of remaining employees at the social media company on Thursday appeared to reject owner Elon Musk\\u2019s ultimatum to work \\u201cextremely hardcore,\\u201d throwing the communications platform into utter disarray and raising serious questions about how much longer it will survive.  A version of this article first appeared in the \\u201cReliable Sources\\u201d newsletter. Sign up for the daily digest chronicling the evolving media landscape here.      The death of Twitter would have weighty consequences, given how integral the platform is to global communications. The platform has often been compared to a digital town square. World leaders use Twitter to communicate, journalists use Twitter to newsgather, dissidents in repressive countries use Twitter to organize, celebrities and major brands use Twitter to make important announcements, and the public often uses Twitter to monitor all of it in real-time.        If the platform were to die off, or become unusable because of instability issues, no single space would immediately replace it and communications could become fractured across multiple social media websites, leading to a seismic disruption and slowdown in the flow of information.        Inside the company\\u2019s Slack, a mass resignation effectively occurred after Musk\\u2019s 5pm deadline for employees to arrive at a decision passed. Hundreds of staffers appear to have called it quits, accepting Musk\\u2019s offer to exit in exchange for three months of severance.  SpaceX owner and Tesla CEO Elon Musk speaks during a conversation with legendary game designer Todd Howard (not pictured) at the E3 gaming convention in Los Angeles, California, U.S., June 13, 2019.  Mike Blake/ReutersTwitter employees head for the exits after Elon Musk's 'extremely hardcore' work ultimatum      Employees flooded the \\u201c#social-watercooler\\u201d channel with the salute emoji, indicating that they had chosen not to sign Musk\\u2019s pledge. A similar series of events unfolded in the Slack channel earlier this month as Musk eliminated roughly 50% of the company\\u2019s then 7,500-person workforce.        A former Twitter executive, who recently exited the company, described the situation as a \\u201cmass exodus.\\u201d Asked about the situation, the former executive said, \\u201cElon is finding out that he can\\u2019t bully top senior talent. They have lots of options and won\\u2019t put up with his antics.\\u201d        \\u201cThey will struggle just to keep the lights on,\\u201d the former executive added.        That assessment was universally shared by the other half dozen current and former employees on Thursday. It was already bad enough after Musk executed mass layoffs at the company earlier this month. So bad that Twitter asked some of the people it had let go to come back just days later. The state-of-play has only become more dire since then.        In fact, Twitter management was in panic mode hours before the deadline passed, people familiar with the matter said, explaining that senior leaders were \\u201cscrambling\\u201d to convince talent to stay at the company.        Musk himself seemed to finally realize the grim state of affairs, sending an all-staff email relaxing his previously uncompromising anti-remote work position. \\u201cRegarding remote work, all that is required for approval is that your manager takes responsibility for ensuring that you are making an excellent contribution,\\u201d Musk said in the email.        It didn\\u2019t appear to do much good.         Two employees who had decided to reject Musk\\u2019s ultimatum on Thursday were quite clear in why they were doing so. \\u201cI don\\u2019t want to stick around to build a product that\\u2019s being poisoned from the inside and out,\\u201d one said, adding later that he felt good about making a decision \\u201cin line with what I stand for.\\u201d        A recently laid off employee who remains in touch with former coworkers said, \\u201cPeople don\\u2019t want to sacrifice their mental health and family lives to make the richest man in the world richer.\\u201d        And Twitter seemed to grasp the mess on its hands Thursday evening, sending an email to staff notifying them it has once again shuttered all of its offices and suspended employee badge access, presumably to protect its systems and data.        Twitter\\u2019s already decimated communications department didn\\u2019t respond to requests for comment. But Musk nodded to the situation in a tweet.        \\u201cHow do you make a small fortune in social media?\\u201d Musk asked. \\u201cStart out with a large one.\\u201d  \", \"Artikeltext_lower\": \"new yorkcnn business        \\u2014          death is in the air on twitter.        on the platform thursday evening, where #riptwitter was the top trend worldwide, users wrote what they feared might be their last posts, offering apprehensive goodbyes and listing the other (more stable) social media platforms where they can still be found.         they were reacting to the dire news emanating from inside twitter. scores of remaining employees at the social media company on thursday appeared to reject owner elon musk\\u2019s ultimatum to work \\u201cextremely hardcore,\\u201d throwing the communications platform into utter disarray and raising serious questions about how much longer it will survive.  a version of this article first appeared in the \\u201creliable sources\\u201d newsletter. sign up for the daily digest chronicling the evolving media landscape here.      the death of twitter would have weighty consequences, given how integral the platform is to global communications. the platform has often been compared to a digital town square. world leaders use twitter to communicate, journalists use twitter to newsgather, dissidents in repressive countries use twitter to organize, celebrities and major brands use twitter to make important announcements, and the public often uses twitter to monitor all of it in real-time.        if the platform were to die off, or become unusable because of instability issues, no single space would immediately replace it and communications could become fractured across multiple social media websites, leading to a seismic disruption and slowdown in the flow of information.        inside the company\\u2019s slack, a mass resignation effectively occurred after musk\\u2019s 5pm deadline for employees to arrive at a decision passed. hundreds of staffers appear to have called it quits, accepting musk\\u2019s offer to exit in exchange for three months of severance.  spacex owner and tesla ceo elon musk speaks during a conversation with legendary game designer todd howard (not pictured) at the e3 gaming convention in los angeles, california, u.s., june 13, 2019.  mike blake/reuterstwitter employees head for the exits after elon musk's 'extremely hardcore' work ultimatum      employees flooded the \\u201c#social-watercooler\\u201d channel with the salute emoji, indicating that they had chosen not to sign musk\\u2019s pledge. a similar series of events unfolded in the slack channel earlier this month as musk eliminated roughly 50% of the company\\u2019s then 7,500-person workforce.        a former twitter executive, who recently exited the company, described the situation as a \\u201cmass exodus.\\u201d asked about the situation, the former executive said, \\u201celon is finding out that he can\\u2019t bully top senior talent. they have lots of options and won\\u2019t put up with his antics.\\u201d        \\u201cthey will struggle just to keep the lights on,\\u201d the former executive added.        that assessment was universally shared by the other half dozen current and former employees on thursday. it was already bad enough after musk executed mass layoffs at the company earlier this month. so bad that twitter asked some of the people it had let go to come back just days later. the state-of-play has only become more dire since then.        in fact, twitter management was in panic mode hours before the deadline passed, people familiar with the matter said, explaining that senior leaders were \\u201cscrambling\\u201d to convince talent to stay at the company.        musk himself seemed to finally realize the grim state of affairs, sending an all-staff email relaxing his previously uncompromising anti-remote work position. \\u201cregarding remote work, all that is required for approval is that your manager takes responsibility for ensuring that you are making an excellent contribution,\\u201d musk said in the email.        it didn\\u2019t appear to do much good.         two employees who had decided to reject musk\\u2019s ultimatum on thursday were quite clear in why they were doing so. \\u201ci don\\u2019t want to stick around to build a product that\\u2019s being poisoned from the inside and out,\\u201d one said, adding later that he felt good about making a decision \\u201cin line with what i stand for.\\u201d        a recently laid off employee who remains in touch with former coworkers said, \\u201cpeople don\\u2019t want to sacrifice their mental health and family lives to make the richest man in the world richer.\\u201d        and twitter seemed to grasp the mess on its hands thursday evening, sending an email to staff notifying them it has once again shuttered all of its offices and suspended employee badge access, presumably to protect its systems and data.        twitter\\u2019s already decimated communications department didn\\u2019t respond to requests for comment. but musk nodded to the situation in a tweet.        \\u201chow do you make a small fortune in social media?\\u201d musk asked. \\u201cstart out with a large one.\\u201d  \", \"Artikeltext_token\": [\"new\", \"yorkcnn\", \"business\", \"death\", \"is\", \"in\", \"the\", \"air\", \"on\", \"twitter\", \"on\", \"the\", \"platform\", \"thursday\", \"evening\", \"where\", \"riptwitter\", \"was\", \"the\", \"top\", \"trend\", \"worldwide\", \"users\", \"wrote\", \"what\", \"they\", \"feared\", \"might\", \"be\", \"their\", \"last\", \"posts\", \"offering\", \"apprehensive\", \"goodbyes\", \"and\", \"listing\", \"the\", \"other\", \"more\", \"stable\", \"social\", \"media\", \"platforms\", \"where\", \"they\", \"can\", \"still\", \"be\", \"found\", \"they\", \"were\", \"reacting\", \"to\", \"the\", \"dire\", \"news\", \"emanating\", \"from\", \"inside\", \"twitter\", \"scores\", \"of\", \"remaining\", \"employees\", \"at\", \"the\", \"social\", \"media\", \"company\", \"on\", \"thursday\", \"appeared\", \"to\", \"reject\", \"owner\", \"elon\", \"musk\", \"s\", \"ultimatum\", \"to\", \"work\", \"extremely\", \"hardcore\", \"throwing\", \"the\", \"communications\", \"platform\", \"into\", \"utter\", \"disarray\", \"and\", \"raising\", \"serious\", \"questions\", \"about\", \"how\", \"much\", \"longer\", \"it\", \"will\", \"survive\", \"a\", \"version\", \"of\", \"this\", \"article\", \"first\", \"appeared\", \"in\", \"the\", \"reliable\", \"sources\", \"newsletter\", \"sign\", \"up\", \"for\", \"the\", \"daily\", \"digest\", \"chronicling\", \"the\", \"evolving\", \"media\", \"landscape\", \"here\", \"the\", \"death\", \"of\", \"twitter\", \"would\", \"have\", \"weighty\", \"consequences\", \"given\", \"how\", \"integral\", \"the\", \"platform\", \"is\", \"to\", \"global\", \"communications\", \"the\", \"platform\", \"has\", \"often\", \"been\", \"compared\", \"to\", \"a\", \"digital\", \"town\", \"square\", \"world\", \"leaders\", \"use\", \"twitter\", \"to\", \"communicate\", \"journalists\", \"use\", \"twitter\", \"to\", \"newsgather\", \"dissidents\", \"in\", \"repressive\", \"countries\", \"use\", \"twitter\", \"to\", \"organize\", \"celebrities\", \"and\", \"major\", \"brands\", \"use\", \"twitter\", \"to\", \"make\", \"important\", \"announcements\", \"and\", \"the\", \"public\", \"often\", \"uses\", \"twitter\", \"to\", \"monitor\", \"all\", \"of\", \"it\", \"in\", \"real\", \"time\", \"if\", \"the\", \"platform\", \"were\", \"to\", \"die\", \"off\", \"or\", \"become\", \"unusable\", \"because\", \"of\", \"instability\", \"issues\", \"no\", \"single\", \"space\", \"would\", \"immediately\", \"replace\", \"it\", \"and\", \"communications\", \"could\", \"become\", \"fractured\", \"across\", \"multiple\", \"social\", \"media\", \"websites\", \"leading\", \"to\", \"a\", \"seismic\", \"disruption\", \"and\", \"slowdown\", \"in\", \"the\", \"flow\", \"of\", \"information\", \"inside\", \"the\", \"company\", \"s\", \"slack\", \"a\", \"mass\", \"resignation\", \"effectively\", \"occurred\", \"after\", \"musk\", \"s\", \"5pm\", \"deadline\", \"for\", \"employees\", \"to\", \"arrive\", \"at\", \"a\", \"decision\", \"passed\", \"hundreds\", \"of\", \"staffers\", \"appear\", \"to\", \"have\", \"called\", \"it\", \"quits\", \"accepting\", \"musk\", \"s\", \"offer\", \"to\", \"exit\", \"in\", \"exchange\", \"for\", \"three\", \"months\", \"of\", \"severance\", \"spacex\", \"owner\", \"and\", \"tesla\", \"ceo\", \"elon\", \"musk\", \"speaks\", \"during\", \"a\", \"conversation\", \"with\", \"legendary\", \"game\", \"designer\", \"todd\", \"howard\", \"not\", \"pictured\", \"at\", \"the\", \"e3\", \"gaming\", \"convention\", \"in\", \"los\", \"angeles\", \"california\", \"u\", \"s\", \"june\", \"13\", \"2019\", \"mike\", \"blake\", \"reuterstwitter\", \"employees\", \"head\", \"for\", \"the\", \"exits\", \"after\", \"elon\", \"musk\", \"s\", \"extremely\", \"hardcore\", \"work\", \"ultimatum\", \"employees\", \"flooded\", \"the\", \"social\", \"watercooler\", \"channel\", \"with\", \"the\", \"salute\", \"emoji\", \"indicating\", \"that\", \"they\", \"had\", \"chosen\", \"not\", \"to\", \"sign\", \"musk\", \"s\", \"pledge\", \"a\", \"similar\", \"series\", \"of\", \"events\", \"unfolded\", \"in\", \"the\", \"slack\", \"channel\", \"earlier\", \"this\", \"month\", \"as\", \"musk\", \"eliminated\", \"roughly\", \"50\", \"of\", \"the\", \"company\", \"s\", \"then\", \"7\", \"500\", \"person\", \"workforce\", \"a\", \"former\", \"twitter\", \"executive\", \"who\", \"recently\", \"exited\", \"the\", \"company\", \"described\", \"the\", \"situation\", \"as\", \"a\", \"mass\", \"exodus\", \"asked\", \"about\", \"the\", \"situation\", \"the\", \"former\", \"executive\", \"said\", \"elon\", \"is\", \"finding\", \"out\", \"that\", \"he\", \"can\", \"t\", \"bully\", \"top\", \"senior\", \"talent\", \"they\", \"have\", \"lots\", \"of\", \"options\", \"and\", \"won\", \"t\", \"put\", \"up\", \"with\", \"his\", \"antics\", \"they\", \"will\", \"struggle\", \"just\", \"to\", \"keep\", \"the\", \"lights\", \"on\", \"the\", \"former\", \"executive\", \"added\", \"that\", \"assessment\", \"was\", \"universally\", \"shared\", \"by\", \"the\", \"other\", \"half\", \"dozen\", \"current\", \"and\", \"former\", \"employees\", \"on\", \"thursday\", \"it\", \"was\", \"already\", \"bad\", \"enough\", \"after\", \"musk\", \"executed\", \"mass\", \"layoffs\", \"at\", \"the\", \"company\", \"earlier\", \"this\", \"month\", \"so\", \"bad\", \"that\", \"twitter\", \"asked\", \"some\", \"of\", \"the\", \"people\", \"it\", \"had\", \"let\", \"go\", \"to\", \"come\", \"back\", \"just\", \"days\", \"later\", \"the\", \"state\", \"of\", \"play\", \"has\", \"only\", \"become\", \"more\", \"dire\", \"since\", \"then\", \"in\", \"fact\", \"twitter\", \"management\", \"was\", \"in\", \"panic\", \"mode\", \"hours\", \"before\", \"the\", \"deadline\", \"passed\", \"people\", \"familiar\", \"with\", \"the\", \"matter\", \"said\", \"explaining\", \"that\", \"senior\", \"leaders\", \"were\", \"scrambling\", \"to\", \"convince\", \"talent\", \"to\", \"stay\", \"at\", \"the\", \"company\", \"musk\", \"himself\", \"seemed\", \"to\", \"finally\", \"realize\", \"the\", \"grim\", \"state\", \"of\", \"affairs\", \"sending\", \"an\", \"all\", \"staff\", \"email\", \"relaxing\", \"his\", \"previously\", \"uncompromising\", \"anti\", \"remote\", \"work\", \"position\", \"regarding\", \"remote\", \"work\", \"all\", \"that\", \"is\", \"required\", \"for\", \"approval\", \"is\", \"that\", \"your\", \"manager\", \"takes\", \"responsibility\", \"for\", \"ensuring\", \"that\", \"you\", \"are\", \"making\", \"an\", \"excellent\", \"contribution\", \"musk\", \"said\", \"in\", \"the\", \"email\", \"it\", \"didn\", \"t\", \"appear\", \"to\", \"do\", \"much\", \"good\", \"two\", \"employees\", \"who\", \"had\", \"decided\", \"to\", \"reject\", \"musk\", \"s\", \"ultimatum\", \"on\", \"thursday\", \"were\", \"quite\", \"clear\", \"in\", \"why\", \"they\", \"were\", \"doing\", \"so\", \"i\", \"don\", \"t\", \"want\", \"to\", \"stick\", \"around\", \"to\", \"build\", \"a\", \"product\", \"that\", \"s\", \"being\", \"poisoned\", \"from\", \"the\", \"inside\", \"and\", \"out\", \"one\", \"said\", \"adding\", \"later\", \"that\", \"he\", \"felt\", \"good\", \"about\", \"making\", \"a\", \"decision\", \"in\", \"line\", \"with\", \"what\", \"i\", \"stand\", \"for\", \"a\", \"recently\", \"laid\", \"off\", \"employee\", \"who\", \"remains\", \"in\", \"touch\", \"with\", \"former\", \"coworkers\", \"said\", \"people\", \"don\", \"t\", \"want\", \"to\", \"sacrifice\", \"their\", \"mental\", \"health\", \"and\", \"family\", \"lives\", \"to\", \"make\", \"the\", \"richest\", \"man\", \"in\", \"the\", \"world\", \"richer\", \"and\", \"twitter\", \"seemed\", \"to\", \"grasp\", \"the\", \"mess\", \"on\", \"its\", \"hands\", \"thursday\", \"evening\", \"sending\", \"an\", \"email\", \"to\", \"staff\", \"notifying\", \"them\", \"it\", \"has\", \"once\", \"again\", \"shuttered\", \"all\", \"of\", \"its\", \"offices\", \"and\", \"suspended\", \"employee\", \"badge\", \"access\", \"presumably\", \"to\", \"protect\", \"its\", \"systems\", \"and\", \"data\", \"twitter\", \"s\", \"already\", \"decimated\", \"communications\", \"department\", \"didn\", \"t\", \"respond\", \"to\", \"requests\", \"for\", \"comment\", \"but\", \"musk\", \"nodded\", \"to\", \"the\", \"situation\", \"in\", \"a\", \"tweet\", \"how\", \"do\", \"you\", \"make\", \"a\", \"small\", \"fortune\", \"in\", \"social\", \"media\", \"musk\", \"asked\", \"start\", \"out\", \"with\", \"a\", \"large\", \"one\"], \"Artikeltext_token_s\": [\"new\", \"yorkcnn\", \"business\", \"death\", \"air\", \"twitter\", \"platform\", \"thursday\", \"evening\", \"riptwitter\", \"top\", \"trend\", \"worldwide\", \"users\", \"wrote\", \"feared\", \"might\", \"last\", \"posts\", \"offering\", \"apprehensive\", \"goodbyes\", \"listing\", \"stable\", \"social\", \"media\", \"platforms\", \"still\", \"found\", \"reacting\", \"dire\", \"news\", \"emanating\", \"inside\", \"twitter\", \"scores\", \"remaining\", \"employees\", \"social\", \"media\", \"company\", \"thursday\", \"appeared\", \"reject\", \"owner\", \"elon\", \"musk\", \"ultimatum\", \"work\", \"extremely\", \"hardcore\", \"throwing\", \"communications\", \"platform\", \"utter\", \"disarray\", \"raising\", \"serious\", \"questions\", \"much\", \"longer\", \"survive\", \"version\", \"article\", \"first\", \"appeared\", \"reliable\", \"sources\", \"newsletter\", \"sign\", \"daily\", \"digest\", \"chronicling\", \"evolving\", \"media\", \"landscape\", \"death\", \"twitter\", \"would\", \"weighty\", \"consequences\", \"given\", \"integral\", \"platform\", \"global\", \"communications\", \"platform\", \"often\", \"compared\", \"digital\", \"town\", \"square\", \"world\", \"leaders\", \"use\", \"twitter\", \"communicate\", \"journalists\", \"use\", \"twitter\", \"newsgather\", \"dissidents\", \"repressive\", \"countries\", \"use\", \"twitter\", \"organize\", \"celebrities\", \"major\", \"brands\", \"use\", \"twitter\", \"make\", \"important\", \"announcements\", \"public\", \"often\", \"uses\", \"twitter\", \"monitor\", \"real\", \"time\", \"platform\", \"die\", \"become\", \"unusable\", \"instability\", \"issues\", \"single\", \"space\", \"would\", \"immediately\", \"replace\", \"communications\", \"could\", \"become\", \"fractured\", \"across\", \"multiple\", \"social\", \"media\", \"websites\", \"leading\", \"seismic\", \"disruption\", \"slowdown\", \"flow\", \"information\", \"inside\", \"company\", \"slack\", \"mass\", \"resignation\", \"effectively\", \"occurred\", \"musk\", \"5pm\", \"deadline\", \"employees\", \"arrive\", \"decision\", \"passed\", \"hundreds\", \"staffers\", \"appear\", \"called\", \"quits\", \"accepting\", \"musk\", \"offer\", \"exit\", \"exchange\", \"three\", \"months\", \"severance\", \"spacex\", \"owner\", \"tesla\", \"ceo\", \"elon\", \"musk\", \"speaks\", \"conversation\", \"legendary\", \"game\", \"designer\", \"todd\", \"howard\", \"pictured\", \"e3\", \"gaming\", \"convention\", \"los\", \"angeles\", \"california\", \"u\", \"june\", \"13\", \"2019\", \"mike\", \"blake\", \"reuterstwitter\", \"employees\", \"head\", \"exits\", \"elon\", \"musk\", \"extremely\", \"hardcore\", \"work\", \"ultimatum\", \"employees\", \"flooded\", \"social\", \"watercooler\", \"channel\", \"salute\", \"emoji\", \"indicating\", \"chosen\", \"sign\", \"musk\", \"pledge\", \"similar\", \"series\", \"events\", \"unfolded\", \"slack\", \"channel\", \"earlier\", \"month\", \"musk\", \"eliminated\", \"roughly\", \"50\", \"company\", \"7\", \"500\", \"person\", \"workforce\", \"former\", \"twitter\", \"executive\", \"recently\", \"exited\", \"company\", \"described\", \"situation\", \"mass\", \"exodus\", \"asked\", \"situation\", \"former\", \"executive\", \"said\", \"elon\", \"finding\", \"bully\", \"top\", \"senior\", \"talent\", \"lots\", \"options\", \"put\", \"antics\", \"struggle\", \"keep\", \"lights\", \"former\", \"executive\", \"added\", \"assessment\", \"universally\", \"shared\", \"half\", \"dozen\", \"current\", \"former\", \"employees\", \"thursday\", \"already\", \"bad\", \"enough\", \"musk\", \"executed\", \"mass\", \"layoffs\", \"company\", \"earlier\", \"month\", \"bad\", \"twitter\", \"asked\", \"people\", \"let\", \"go\", \"come\", \"back\", \"days\", \"later\", \"state\", \"play\", \"become\", \"dire\", \"since\", \"fact\", \"twitter\", \"management\", \"panic\", \"mode\", \"hours\", \"deadline\", \"passed\", \"people\", \"familiar\", \"matter\", \"said\", \"explaining\", \"senior\", \"leaders\", \"scrambling\", \"convince\", \"talent\", \"stay\", \"company\", \"musk\", \"seemed\", \"finally\", \"realize\", \"grim\", \"state\", \"affairs\", \"sending\", \"staff\", \"email\", \"relaxing\", \"previously\", \"uncompromising\", \"anti\", \"remote\", \"work\", \"position\", \"regarding\", \"remote\", \"work\", \"required\", \"approval\", \"manager\", \"takes\", \"responsibility\", \"ensuring\", \"making\", \"excellent\", \"contribution\", \"musk\", \"said\", \"email\", \"appear\", \"much\", \"good\", \"two\", \"employees\", \"decided\", \"reject\", \"musk\", \"ultimatum\", \"thursday\", \"quite\", \"clear\", \"want\", \"stick\", \"around\", \"build\", \"product\", \"poisoned\", \"inside\", \"one\", \"said\", \"adding\", \"later\", \"felt\", \"good\", \"making\", \"decision\", \"line\", \"stand\", \"recently\", \"laid\", \"employee\", \"remains\", \"touch\", \"former\", \"coworkers\", \"said\", \"people\", \"want\", \"sacrifice\", \"mental\", \"health\", \"family\", \"lives\", \"make\", \"richest\", \"man\", \"world\", \"richer\", \"twitter\", \"seemed\", \"grasp\", \"mess\", \"hands\", \"thursday\", \"evening\", \"sending\", \"email\", \"staff\", \"notifying\", \"shuttered\", \"offices\", \"suspended\", \"employee\", \"badge\", \"access\", \"presumably\", \"protect\", \"systems\", \"data\", \"twitter\", \"already\", \"decimated\", \"communications\", \"department\", \"respond\", \"requests\", \"comment\", \"musk\", \"nodded\", \"situation\", \"tweet\", \"make\", \"small\", \"fortune\", \"social\", \"media\", \"musk\", \"asked\", \"start\", \"large\", \"one\"], \"Artikeltext_si\": \"new yorkcnn business death air twitter platform thursday evening riptwitter top trend worldwide users wrote feared might last posts offering apprehensive goodbyes listing stable social media platforms still found reacting dire news emanating inside twitter scores remaining employees social media company thursday appeared reject owner elon musk ultimatum work extremely hardcore throwing communications platform utter disarray raising serious questions much longer survive version article first appeared reliable sources newsletter sign daily digest chronicling evolving media landscape death twitter would weighty consequences given integral platform global communications platform often compared digital town square world leaders use twitter communicate journalists use twitter newsgather dissidents repressive countries use twitter organize celebrities major brands use twitter make important announcements public often uses twitter monitor real time platform die become unusable instability issues single space would immediately replace communications could become fractured across multiple social media websites leading seismic disruption slowdown flow information inside company slack mass resignation effectively occurred musk 5pm deadline employees arrive decision passed hundreds staffers appear called quits accepting musk offer exit exchange three months severance spacex owner tesla ceo elon musk speaks conversation legendary game designer todd howard pictured gaming convention los angeles california june 2019 mike blake reuterstwitter employees head exits elon musk extremely hardcore work ultimatum employees flooded social watercooler channel salute emoji indicating chosen sign musk pledge similar series events unfolded slack channel earlier month musk eliminated roughly company 500 person workforce former twitter executive recently exited company described situation mass exodus asked situation former executive said elon finding bully top senior talent lots options put antics struggle keep lights former executive added assessment universally shared half dozen current former employees thursday already bad enough musk executed mass layoffs company earlier month bad twitter asked people let come back days later state play become dire since fact twitter management panic mode hours deadline passed people familiar matter said explaining senior leaders scrambling convince talent stay company musk seemed finally realize grim state affairs sending staff email relaxing previously uncompromising anti remote work position regarding remote work required approval manager takes responsibility ensuring making excellent contribution musk said email appear much good two employees decided reject musk ultimatum thursday quite clear want stick around build product poisoned inside one said adding later felt good making decision line stand recently laid employee remains touch former coworkers said people want sacrifice mental health family lives make richest man world richer twitter seemed grasp mess hands thursday evening sending email staff notifying shuttered offices suspended employee badge access presumably protect systems data twitter already decimated communications department respond requests comment musk nodded situation tweet make small fortune social media musk asked start large one\", \"Artikeltext_sil\": \"new yorkcnn business death air twitter platform thursday evening riptwitter top trend worldwide users wrote feared might last posts offering apprehensive goodbyes listing stable social media platforms still found reacting dire news emanating inside twitter scores remaining employees social media company thursday appeared reject owner elon musk ultimatum work extremely hardcore throwing communications platform utter disarray raising serious questions much longer survive version article first appeared reliable sources newsletter sign daily digest chronicling evolving media landscape death twitter would weighty consequences given integral platform global communications platform often compared digital town square world leaders use twitter communicate journalists use twitter newsgather dissidents repressive countries use twitter organize celebrities major brands use twitter make important announcements public often uses twitter monitor real time platform die become unusable instability issues single space would immediately replace communications could become fractured across multiple social media websites leading seismic disruption slowdown flow information inside company slack mass resignation effectively occurred musk 5pm deadline employees arrive decision passed hundreds staffers appear called quits accepting musk offer exit exchange three months severance spacex owner tesla ceo elon musk speaks conversation legendary game designer todd howard pictured gaming convention los angeles california june 2019 mike blake reuterstwitter employees head exits elon musk extremely hardcore work ultimatum employees flooded social watercooler channel salute emoji indicating chosen sign musk pledge similar series events unfolded slack channel earlier month musk eliminated roughly company 500 person workforce former twitter executive recently exited company described situation mass exodus asked situation former executive said elon finding bully top senior talent lots options put antics struggle keep lights former executive added assessment universally shared half dozen current former employees thursday already bad enough musk executed mass layoffs company earlier month bad twitter asked people let come back days later state play become dire since fact twitter management panic mode hours deadline passed people familiar matter said explaining senior leaders scrambling convince talent stay company musk seemed finally realize grim state affairs sending staff email relaxing previously uncompromising anti remote work position regarding remote work required approval manager takes responsibility ensuring making excellent contribution musk said email appear much good two employees decided reject musk ultimatum thursday quite clear want stick around build product poisoned inside one said adding later felt good making decision line stand recently laid employee remains touch former coworkers said people want sacrifice mental health family lives make richest man world richer twitter seemed grasp mess hands thursday evening sending email staff notifying shuttered offices suspended employee badge access presumably protect systems data twitter already decimated communications department respond requests comment musk nodded situation tweet make small fortune social media musk asked start large one\", \"neg\": 0.125, \"neu\": 0.76, \"pos\": 0.115, \"compound\": -0.8847, \"sentiment\": \"negative\"}]}}, {\"mode\": \"vega-lite\"});\n",
       "</script>"
      ],
      "text/plain": [
       "alt.Chart(...)"
      ]
     },
     "execution_count": 23,
     "metadata": {},
     "output_type": "execute_result"
    }
   ],
   "source": [
    "import altair as alt\n",
    "\n",
    "# create data to change colors in Altair plot\n",
    "domain = ['neutral', 'positive', 'negative']\n",
    "range_=['#b2d8d8',\"#008080\", '#db3d13']\n",
    "\n",
    "\n",
    "alt.Chart(df).mark_bar().encode(\n",
    "    x=alt.X('count()', title=None),\n",
    "    y=alt.Y('sentiment', sort=\"-x\"),\n",
    "    color= alt.Color('sentiment', legend=None, scale=alt.Scale(domain=domain, range=range_))\n",
    ").properties(\n",
    "    title=\"Sentiment analysis\",\n",
    "    width=400,\n",
    "    height=150,\n",
    ")"
   ]
  },
  {
   "cell_type": "code",
   "execution_count": 24,
   "metadata": {},
   "outputs": [],
   "source": [
    "# Function to add date variables to DataFrame.\n",
    "def add_date_info(df):\n",
    "  df['created_at'] = pd.to_datetime(df['created_at'], unit='ns')\n",
    "  df['Year'] = pd.DatetimeIndex(df['created_at']).year\n",
    "  df['Month'] = pd.DatetimeIndex(df['created_at']).month\n",
    "  df['Day'] = pd.DatetimeIndex(df['created_at']).day\n",
    "  df['DOY'] = pd.DatetimeIndex(df['created_at']).dayofyear\n",
    "  df['Date'] = pd.DatetimeIndex(df['created_at']).date\n",
    "  return df"
   ]
  },
  {
   "cell_type": "code",
   "execution_count": 25,
   "metadata": {},
   "outputs": [
    {
     "ename": "ValueError",
     "evalue": "Date encoding field is specified without a type; the type cannot be inferred because it does not match any column in the data.",
     "output_type": "error",
     "traceback": [
      "\u001b[0;31m---------------------------------------------------------------------------\u001b[0m",
      "\u001b[0;31mValueError\u001b[0m                                Traceback (most recent call last)",
      "File \u001b[0;32m/usr/local/Caskroom/miniforge/base/envs/nlp/lib/python3.9/site-packages/altair/vegalite/v4/api.py:2020\u001b[0m, in \u001b[0;36mChart.to_dict\u001b[0;34m(self, *args, **kwargs)\u001b[0m\n\u001b[1;32m   2018\u001b[0m     copy\u001b[39m.\u001b[39mdata \u001b[39m=\u001b[39m core\u001b[39m.\u001b[39mInlineData(values\u001b[39m=\u001b[39m[{}])\n\u001b[1;32m   2019\u001b[0m     \u001b[39mreturn\u001b[39;00m \u001b[39msuper\u001b[39m(Chart, copy)\u001b[39m.\u001b[39mto_dict(\u001b[39m*\u001b[39margs, \u001b[39m*\u001b[39m\u001b[39m*\u001b[39mkwargs)\n\u001b[0;32m-> 2020\u001b[0m \u001b[39mreturn\u001b[39;00m \u001b[39msuper\u001b[39;49m()\u001b[39m.\u001b[39;49mto_dict(\u001b[39m*\u001b[39;49margs, \u001b[39m*\u001b[39;49m\u001b[39m*\u001b[39;49mkwargs)\n",
      "File \u001b[0;32m/usr/local/Caskroom/miniforge/base/envs/nlp/lib/python3.9/site-packages/altair/vegalite/v4/api.py:384\u001b[0m, in \u001b[0;36mTopLevelMixin.to_dict\u001b[0;34m(self, *args, **kwargs)\u001b[0m\n\u001b[1;32m    381\u001b[0m kwargs[\u001b[39m\"\u001b[39m\u001b[39mcontext\u001b[39m\u001b[39m\"\u001b[39m] \u001b[39m=\u001b[39m context\n\u001b[1;32m    383\u001b[0m \u001b[39mtry\u001b[39;00m:\n\u001b[0;32m--> 384\u001b[0m     dct \u001b[39m=\u001b[39m \u001b[39msuper\u001b[39;49m(TopLevelMixin, copy)\u001b[39m.\u001b[39;49mto_dict(\u001b[39m*\u001b[39;49margs, \u001b[39m*\u001b[39;49m\u001b[39m*\u001b[39;49mkwargs)\n\u001b[1;32m    385\u001b[0m \u001b[39mexcept\u001b[39;00m jsonschema\u001b[39m.\u001b[39mValidationError:\n\u001b[1;32m    386\u001b[0m     dct \u001b[39m=\u001b[39m \u001b[39mNone\u001b[39;00m\n",
      "File \u001b[0;32m/usr/local/Caskroom/miniforge/base/envs/nlp/lib/python3.9/site-packages/altair/utils/schemapi.py:326\u001b[0m, in \u001b[0;36mSchemaBase.to_dict\u001b[0;34m(self, validate, ignore, context)\u001b[0m\n\u001b[1;32m    324\u001b[0m     result \u001b[39m=\u001b[39m _todict(\u001b[39mself\u001b[39m\u001b[39m.\u001b[39m_args[\u001b[39m0\u001b[39m], validate\u001b[39m=\u001b[39msub_validate, context\u001b[39m=\u001b[39mcontext)\n\u001b[1;32m    325\u001b[0m \u001b[39melif\u001b[39;00m \u001b[39mnot\u001b[39;00m \u001b[39mself\u001b[39m\u001b[39m.\u001b[39m_args:\n\u001b[0;32m--> 326\u001b[0m     result \u001b[39m=\u001b[39m _todict(\n\u001b[1;32m    327\u001b[0m         {k: v \u001b[39mfor\u001b[39;49;00m k, v \u001b[39min\u001b[39;49;00m \u001b[39mself\u001b[39;49m\u001b[39m.\u001b[39;49m_kwds\u001b[39m.\u001b[39;49mitems() \u001b[39mif\u001b[39;49;00m k \u001b[39mnot\u001b[39;49;00m \u001b[39min\u001b[39;49;00m ignore},\n\u001b[1;32m    328\u001b[0m         validate\u001b[39m=\u001b[39;49msub_validate,\n\u001b[1;32m    329\u001b[0m         context\u001b[39m=\u001b[39;49mcontext,\n\u001b[1;32m    330\u001b[0m     )\n\u001b[1;32m    331\u001b[0m \u001b[39melse\u001b[39;00m:\n\u001b[1;32m    332\u001b[0m     \u001b[39mraise\u001b[39;00m \u001b[39mValueError\u001b[39;00m(\n\u001b[1;32m    333\u001b[0m         \u001b[39m\"\u001b[39m\u001b[39m{}\u001b[39;00m\u001b[39m instance has both a value and properties : \u001b[39m\u001b[39m\"\u001b[39m\n\u001b[1;32m    334\u001b[0m         \u001b[39m\"\u001b[39m\u001b[39mcannot serialize to dict\u001b[39m\u001b[39m\"\u001b[39m\u001b[39m.\u001b[39mformat(\u001b[39mself\u001b[39m\u001b[39m.\u001b[39m\u001b[39m__class__\u001b[39m)\n\u001b[1;32m    335\u001b[0m     )\n",
      "File \u001b[0;32m/usr/local/Caskroom/miniforge/base/envs/nlp/lib/python3.9/site-packages/altair/utils/schemapi.py:60\u001b[0m, in \u001b[0;36m_todict\u001b[0;34m(obj, validate, context)\u001b[0m\n\u001b[1;32m     58\u001b[0m     \u001b[39mreturn\u001b[39;00m [_todict(v, validate, context) \u001b[39mfor\u001b[39;00m v \u001b[39min\u001b[39;00m obj]\n\u001b[1;32m     59\u001b[0m \u001b[39melif\u001b[39;00m \u001b[39misinstance\u001b[39m(obj, \u001b[39mdict\u001b[39m):\n\u001b[0;32m---> 60\u001b[0m     \u001b[39mreturn\u001b[39;00m {\n\u001b[1;32m     61\u001b[0m         k: _todict(v, validate, context)\n\u001b[1;32m     62\u001b[0m         \u001b[39mfor\u001b[39;00m k, v \u001b[39min\u001b[39;00m obj\u001b[39m.\u001b[39mitems()\n\u001b[1;32m     63\u001b[0m         \u001b[39mif\u001b[39;00m v \u001b[39mis\u001b[39;00m \u001b[39mnot\u001b[39;00m Undefined\n\u001b[1;32m     64\u001b[0m     }\n\u001b[1;32m     65\u001b[0m \u001b[39melif\u001b[39;00m \u001b[39mhasattr\u001b[39m(obj, \u001b[39m\"\u001b[39m\u001b[39mto_dict\u001b[39m\u001b[39m\"\u001b[39m):\n\u001b[1;32m     66\u001b[0m     \u001b[39mreturn\u001b[39;00m obj\u001b[39m.\u001b[39mto_dict()\n",
      "File \u001b[0;32m/usr/local/Caskroom/miniforge/base/envs/nlp/lib/python3.9/site-packages/altair/utils/schemapi.py:61\u001b[0m, in \u001b[0;36m<dictcomp>\u001b[0;34m(.0)\u001b[0m\n\u001b[1;32m     58\u001b[0m     \u001b[39mreturn\u001b[39;00m [_todict(v, validate, context) \u001b[39mfor\u001b[39;00m v \u001b[39min\u001b[39;00m obj]\n\u001b[1;32m     59\u001b[0m \u001b[39melif\u001b[39;00m \u001b[39misinstance\u001b[39m(obj, \u001b[39mdict\u001b[39m):\n\u001b[1;32m     60\u001b[0m     \u001b[39mreturn\u001b[39;00m {\n\u001b[0;32m---> 61\u001b[0m         k: _todict(v, validate, context)\n\u001b[1;32m     62\u001b[0m         \u001b[39mfor\u001b[39;00m k, v \u001b[39min\u001b[39;00m obj\u001b[39m.\u001b[39mitems()\n\u001b[1;32m     63\u001b[0m         \u001b[39mif\u001b[39;00m v \u001b[39mis\u001b[39;00m \u001b[39mnot\u001b[39;00m Undefined\n\u001b[1;32m     64\u001b[0m     }\n\u001b[1;32m     65\u001b[0m \u001b[39melif\u001b[39;00m \u001b[39mhasattr\u001b[39m(obj, \u001b[39m\"\u001b[39m\u001b[39mto_dict\u001b[39m\u001b[39m\"\u001b[39m):\n\u001b[1;32m     66\u001b[0m     \u001b[39mreturn\u001b[39;00m obj\u001b[39m.\u001b[39mto_dict()\n",
      "File \u001b[0;32m/usr/local/Caskroom/miniforge/base/envs/nlp/lib/python3.9/site-packages/altair/utils/schemapi.py:56\u001b[0m, in \u001b[0;36m_todict\u001b[0;34m(obj, validate, context)\u001b[0m\n\u001b[1;32m     54\u001b[0m \u001b[39m\"\"\"Convert an object to a dict representation.\"\"\"\u001b[39;00m\n\u001b[1;32m     55\u001b[0m \u001b[39mif\u001b[39;00m \u001b[39misinstance\u001b[39m(obj, SchemaBase):\n\u001b[0;32m---> 56\u001b[0m     \u001b[39mreturn\u001b[39;00m obj\u001b[39m.\u001b[39;49mto_dict(validate\u001b[39m=\u001b[39;49mvalidate, context\u001b[39m=\u001b[39;49mcontext)\n\u001b[1;32m     57\u001b[0m \u001b[39melif\u001b[39;00m \u001b[39misinstance\u001b[39m(obj, (\u001b[39mlist\u001b[39m, \u001b[39mtuple\u001b[39m, np\u001b[39m.\u001b[39mndarray)):\n\u001b[1;32m     58\u001b[0m     \u001b[39mreturn\u001b[39;00m [_todict(v, validate, context) \u001b[39mfor\u001b[39;00m v \u001b[39min\u001b[39;00m obj]\n",
      "File \u001b[0;32m/usr/local/Caskroom/miniforge/base/envs/nlp/lib/python3.9/site-packages/altair/utils/schemapi.py:326\u001b[0m, in \u001b[0;36mSchemaBase.to_dict\u001b[0;34m(self, validate, ignore, context)\u001b[0m\n\u001b[1;32m    324\u001b[0m     result \u001b[39m=\u001b[39m _todict(\u001b[39mself\u001b[39m\u001b[39m.\u001b[39m_args[\u001b[39m0\u001b[39m], validate\u001b[39m=\u001b[39msub_validate, context\u001b[39m=\u001b[39mcontext)\n\u001b[1;32m    325\u001b[0m \u001b[39melif\u001b[39;00m \u001b[39mnot\u001b[39;00m \u001b[39mself\u001b[39m\u001b[39m.\u001b[39m_args:\n\u001b[0;32m--> 326\u001b[0m     result \u001b[39m=\u001b[39m _todict(\n\u001b[1;32m    327\u001b[0m         {k: v \u001b[39mfor\u001b[39;49;00m k, v \u001b[39min\u001b[39;49;00m \u001b[39mself\u001b[39;49m\u001b[39m.\u001b[39;49m_kwds\u001b[39m.\u001b[39;49mitems() \u001b[39mif\u001b[39;49;00m k \u001b[39mnot\u001b[39;49;00m \u001b[39min\u001b[39;49;00m ignore},\n\u001b[1;32m    328\u001b[0m         validate\u001b[39m=\u001b[39;49msub_validate,\n\u001b[1;32m    329\u001b[0m         context\u001b[39m=\u001b[39;49mcontext,\n\u001b[1;32m    330\u001b[0m     )\n\u001b[1;32m    331\u001b[0m \u001b[39melse\u001b[39;00m:\n\u001b[1;32m    332\u001b[0m     \u001b[39mraise\u001b[39;00m \u001b[39mValueError\u001b[39;00m(\n\u001b[1;32m    333\u001b[0m         \u001b[39m\"\u001b[39m\u001b[39m{}\u001b[39;00m\u001b[39m instance has both a value and properties : \u001b[39m\u001b[39m\"\u001b[39m\n\u001b[1;32m    334\u001b[0m         \u001b[39m\"\u001b[39m\u001b[39mcannot serialize to dict\u001b[39m\u001b[39m\"\u001b[39m\u001b[39m.\u001b[39mformat(\u001b[39mself\u001b[39m\u001b[39m.\u001b[39m\u001b[39m__class__\u001b[39m)\n\u001b[1;32m    335\u001b[0m     )\n",
      "File \u001b[0;32m/usr/local/Caskroom/miniforge/base/envs/nlp/lib/python3.9/site-packages/altair/utils/schemapi.py:60\u001b[0m, in \u001b[0;36m_todict\u001b[0;34m(obj, validate, context)\u001b[0m\n\u001b[1;32m     58\u001b[0m     \u001b[39mreturn\u001b[39;00m [_todict(v, validate, context) \u001b[39mfor\u001b[39;00m v \u001b[39min\u001b[39;00m obj]\n\u001b[1;32m     59\u001b[0m \u001b[39melif\u001b[39;00m \u001b[39misinstance\u001b[39m(obj, \u001b[39mdict\u001b[39m):\n\u001b[0;32m---> 60\u001b[0m     \u001b[39mreturn\u001b[39;00m {\n\u001b[1;32m     61\u001b[0m         k: _todict(v, validate, context)\n\u001b[1;32m     62\u001b[0m         \u001b[39mfor\u001b[39;00m k, v \u001b[39min\u001b[39;00m obj\u001b[39m.\u001b[39mitems()\n\u001b[1;32m     63\u001b[0m         \u001b[39mif\u001b[39;00m v \u001b[39mis\u001b[39;00m \u001b[39mnot\u001b[39;00m Undefined\n\u001b[1;32m     64\u001b[0m     }\n\u001b[1;32m     65\u001b[0m \u001b[39melif\u001b[39;00m \u001b[39mhasattr\u001b[39m(obj, \u001b[39m\"\u001b[39m\u001b[39mto_dict\u001b[39m\u001b[39m\"\u001b[39m):\n\u001b[1;32m     66\u001b[0m     \u001b[39mreturn\u001b[39;00m obj\u001b[39m.\u001b[39mto_dict()\n",
      "File \u001b[0;32m/usr/local/Caskroom/miniforge/base/envs/nlp/lib/python3.9/site-packages/altair/utils/schemapi.py:61\u001b[0m, in \u001b[0;36m<dictcomp>\u001b[0;34m(.0)\u001b[0m\n\u001b[1;32m     58\u001b[0m     \u001b[39mreturn\u001b[39;00m [_todict(v, validate, context) \u001b[39mfor\u001b[39;00m v \u001b[39min\u001b[39;00m obj]\n\u001b[1;32m     59\u001b[0m \u001b[39melif\u001b[39;00m \u001b[39misinstance\u001b[39m(obj, \u001b[39mdict\u001b[39m):\n\u001b[1;32m     60\u001b[0m     \u001b[39mreturn\u001b[39;00m {\n\u001b[0;32m---> 61\u001b[0m         k: _todict(v, validate, context)\n\u001b[1;32m     62\u001b[0m         \u001b[39mfor\u001b[39;00m k, v \u001b[39min\u001b[39;00m obj\u001b[39m.\u001b[39mitems()\n\u001b[1;32m     63\u001b[0m         \u001b[39mif\u001b[39;00m v \u001b[39mis\u001b[39;00m \u001b[39mnot\u001b[39;00m Undefined\n\u001b[1;32m     64\u001b[0m     }\n\u001b[1;32m     65\u001b[0m \u001b[39melif\u001b[39;00m \u001b[39mhasattr\u001b[39m(obj, \u001b[39m\"\u001b[39m\u001b[39mto_dict\u001b[39m\u001b[39m\"\u001b[39m):\n\u001b[1;32m     66\u001b[0m     \u001b[39mreturn\u001b[39;00m obj\u001b[39m.\u001b[39mto_dict()\n",
      "File \u001b[0;32m/usr/local/Caskroom/miniforge/base/envs/nlp/lib/python3.9/site-packages/altair/utils/schemapi.py:56\u001b[0m, in \u001b[0;36m_todict\u001b[0;34m(obj, validate, context)\u001b[0m\n\u001b[1;32m     54\u001b[0m \u001b[39m\"\"\"Convert an object to a dict representation.\"\"\"\u001b[39;00m\n\u001b[1;32m     55\u001b[0m \u001b[39mif\u001b[39;00m \u001b[39misinstance\u001b[39m(obj, SchemaBase):\n\u001b[0;32m---> 56\u001b[0m     \u001b[39mreturn\u001b[39;00m obj\u001b[39m.\u001b[39;49mto_dict(validate\u001b[39m=\u001b[39;49mvalidate, context\u001b[39m=\u001b[39;49mcontext)\n\u001b[1;32m     57\u001b[0m \u001b[39melif\u001b[39;00m \u001b[39misinstance\u001b[39m(obj, (\u001b[39mlist\u001b[39m, \u001b[39mtuple\u001b[39m, np\u001b[39m.\u001b[39mndarray)):\n\u001b[1;32m     58\u001b[0m     \u001b[39mreturn\u001b[39;00m [_todict(v, validate, context) \u001b[39mfor\u001b[39;00m v \u001b[39min\u001b[39;00m obj]\n",
      "File \u001b[0;32m/usr/local/Caskroom/miniforge/base/envs/nlp/lib/python3.9/site-packages/altair/vegalite/v4/schema/channels.py:40\u001b[0m, in \u001b[0;36mFieldChannelMixin.to_dict\u001b[0;34m(self, validate, ignore, context)\u001b[0m\n\u001b[1;32m     38\u001b[0m \u001b[39melif\u001b[39;00m \u001b[39mnot\u001b[39;00m (type_in_shorthand \u001b[39mor\u001b[39;00m type_defined_explicitly):\n\u001b[1;32m     39\u001b[0m     \u001b[39mif\u001b[39;00m \u001b[39misinstance\u001b[39m(context\u001b[39m.\u001b[39mget(\u001b[39m'\u001b[39m\u001b[39mdata\u001b[39m\u001b[39m'\u001b[39m, \u001b[39mNone\u001b[39;00m), pd\u001b[39m.\u001b[39mDataFrame):\n\u001b[0;32m---> 40\u001b[0m         \u001b[39mraise\u001b[39;00m \u001b[39mValueError\u001b[39;00m(\u001b[39m\"\u001b[39m\u001b[39m{}\u001b[39;00m\u001b[39m encoding field is specified without a type; \u001b[39m\u001b[39m\"\u001b[39m\n\u001b[1;32m     41\u001b[0m                          \u001b[39m\"\u001b[39m\u001b[39mthe type cannot be inferred because it does not \u001b[39m\u001b[39m\"\u001b[39m\n\u001b[1;32m     42\u001b[0m                          \u001b[39m\"\u001b[39m\u001b[39mmatch any column in the data.\u001b[39m\u001b[39m\"\u001b[39m\u001b[39m.\u001b[39mformat(shorthand))\n\u001b[1;32m     43\u001b[0m     \u001b[39melse\u001b[39;00m:\n\u001b[1;32m     44\u001b[0m         \u001b[39mraise\u001b[39;00m \u001b[39mValueError\u001b[39;00m(\u001b[39m\"\u001b[39m\u001b[39m{}\u001b[39;00m\u001b[39m encoding field is specified without a type; \u001b[39m\u001b[39m\"\u001b[39m\n\u001b[1;32m     45\u001b[0m                          \u001b[39m\"\u001b[39m\u001b[39mthe type cannot be automatically inferred because \u001b[39m\u001b[39m\"\u001b[39m\n\u001b[1;32m     46\u001b[0m                          \u001b[39m\"\u001b[39m\u001b[39mthe data is not specified as a pandas.DataFrame.\u001b[39m\u001b[39m\"\u001b[39m\n\u001b[1;32m     47\u001b[0m                          \u001b[39m\"\u001b[39m\u001b[39m\"\u001b[39m\u001b[39m.\u001b[39mformat(shorthand))\n",
      "\u001b[0;31mValueError\u001b[0m: Date encoding field is specified without a type; the type cannot be inferred because it does not match any column in the data."
     ]
    },
    {
     "data": {
      "text/plain": [
       "alt.Chart(...)"
      ]
     },
     "execution_count": 25,
     "metadata": {},
     "output_type": "execute_result"
    }
   ],
   "source": [
    "alt.Chart(df).mark_area().encode(\n",
    "   x=alt.X('Date', axis=alt.Axis(format='%e.%-m.')),\n",
    "   y=alt.Y('count(sentiment)'),\n",
    "   color=alt.Color('sentiment', scale=alt.Scale(domain=domain, range=range_))\n",
    ")"
   ]
  },
  {
   "cell_type": "code",
   "execution_count": null,
   "metadata": {},
   "outputs": [],
   "source": [
    "alt.Chart(df).mark_boxplot().encode(\n",
    "    x=alt.X('sentiment'),\n",
    "    y=alt.Y('compound'),\n",
    "    color=alt.Color('sentiment', scale=alt.Scale(domain=domain, range=range_))\n",
    ").properties(\n",
    "    width=200,\n",
    "    height=200\n",
    ")"
   ]
  },
  {
   "cell_type": "code",
   "execution_count": null,
   "metadata": {},
   "outputs": [],
   "source": [
    "df.to_csv(\"/Users/Kim/Library/Mobile Documents/com~apple~CloudDocs/UNI/HdM/Semester7/Data Science Python/DS-Homework1/data/processed/textmining-clean-cnn.csv\", index=None)"
   ]
  }
 ],
 "metadata": {
  "kernelspec": {
   "display_name": "Python 3.9.13 ('nlp')",
   "language": "python",
   "name": "python3"
  },
  "language_info": {
   "codemirror_mode": {
    "name": "ipython",
    "version": 3
   },
   "file_extension": ".py",
   "mimetype": "text/x-python",
   "name": "python",
   "nbconvert_exporter": "python",
   "pygments_lexer": "ipython3",
   "version": "3.9.13"
  },
  "orig_nbformat": 4,
  "vscode": {
   "interpreter": {
    "hash": "8869554c2df41533e161d2a767d82e0a2352f547309fff6a28adf765944d6958"
   }
  }
 },
 "nbformat": 4,
 "nbformat_minor": 2
}
