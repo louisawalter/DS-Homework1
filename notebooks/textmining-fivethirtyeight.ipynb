{
 "cells": [
  {
   "cell_type": "markdown",
   "metadata": {},
   "source": [
    "# Textmining "
   ]
  },
  {
   "cell_type": "markdown",
   "metadata": {},
   "source": [
    "## Setup"
   ]
  },
  {
   "cell_type": "code",
   "execution_count": 30,
   "metadata": {},
   "outputs": [],
   "source": [
    "import pandas as pd\n",
    "import altair as alt\n",
    "import nltk\n",
    "from nltk.tokenize import RegexpTokenizer\n",
    "from nltk.corpus import stopwords\n",
    "from nltk.stem import WordNetLemmatizer\n",
    "from nltk.tokenize import word_tokenize\n",
    "from nltk.probability import FreqDist\n",
    "import matplotlib.pyplot as plt\n",
    "from wordcloud import WordCloud\n",
    "import numpy as np\n",
    "\n",
    "import warnings"
   ]
  },
  {
   "cell_type": "code",
   "execution_count": 31,
   "metadata": {},
   "outputs": [],
   "source": [
    "# ignore warnings\n",
    "warnings.simplefilter(action='ignore', category=FutureWarning)"
   ]
  },
  {
   "cell_type": "markdown",
   "metadata": {},
   "source": [
    "## Data\n",
    "### Data Import"
   ]
  },
  {
   "cell_type": "code",
   "execution_count": 32,
   "metadata": {},
   "outputs": [],
   "source": [
    "df = pd.read_csv(\"https://raw.githubusercontent.com/louisawalter/DS-Homework1/main/data/raw/webscraping.csv\",index_col=0)"
   ]
  },
  {
   "cell_type": "code",
   "execution_count": 33,
   "metadata": {},
   "outputs": [
    {
     "data": {
      "text/html": [
       "<div>\n",
       "<style scoped>\n",
       "    .dataframe tbody tr th:only-of-type {\n",
       "        vertical-align: middle;\n",
       "    }\n",
       "\n",
       "    .dataframe tbody tr th {\n",
       "        vertical-align: top;\n",
       "    }\n",
       "\n",
       "    .dataframe thead th {\n",
       "        text-align: right;\n",
       "    }\n",
       "</style>\n",
       "<table border=\"1\" class=\"dataframe\">\n",
       "  <thead>\n",
       "    <tr style=\"text-align: right;\">\n",
       "      <th></th>\n",
       "      <th>Titel</th>\n",
       "      <th>URL</th>\n",
       "      <th>Thema</th>\n",
       "      <th>Autor</th>\n",
       "      <th>Datum</th>\n",
       "      <th>Artikeltext</th>\n",
       "      <th>Tags</th>\n",
       "    </tr>\n",
       "  </thead>\n",
       "  <tbody>\n",
       "    <tr>\n",
       "      <th>0</th>\n",
       "      <td>The Midterms Made State Governments Bluer</td>\n",
       "      <td>https://fivethirtyeight.com/features/2022-gove...</td>\n",
       "      <td>2022 Election</td>\n",
       "      <td>Nathaniel Rakich</td>\n",
       "      <td>Nov. 17, 2022, at 6:00 AM</td>\n",
       "      <td>Abortion bans, right-to-work laws, voting rest...</td>\n",
       "      <td>2022 Election, 2022 Midterms, 2022 Governors E...</td>\n",
       "    </tr>\n",
       "  </tbody>\n",
       "</table>\n",
       "</div>"
      ],
      "text/plain": [
       "                                       Titel  \\\n",
       "0  The Midterms Made State Governments Bluer   \n",
       "\n",
       "                                                 URL          Thema  \\\n",
       "0  https://fivethirtyeight.com/features/2022-gove...  2022 Election   \n",
       "\n",
       "              Autor                      Datum  \\\n",
       "0  Nathaniel Rakich  Nov. 17, 2022, at 6:00 AM   \n",
       "\n",
       "                                         Artikeltext  \\\n",
       "0  Abortion bans, right-to-work laws, voting rest...   \n",
       "\n",
       "                                                Tags  \n",
       "0  2022 Election, 2022 Midterms, 2022 Governors E...  "
      ]
     },
     "execution_count": 33,
     "metadata": {},
     "output_type": "execute_result"
    }
   ],
   "source": [
    "df"
   ]
  },
  {
   "cell_type": "code",
   "execution_count": 34,
   "metadata": {},
   "outputs": [],
   "source": [
    "df[\"Artikeltext_lower\"] = df[\"Artikeltext\"].astype(str).str.lower()"
   ]
  },
  {
   "cell_type": "code",
   "execution_count": 35,
   "metadata": {},
   "outputs": [
    {
     "data": {
      "text/html": [
       "<div>\n",
       "<style scoped>\n",
       "    .dataframe tbody tr th:only-of-type {\n",
       "        vertical-align: middle;\n",
       "    }\n",
       "\n",
       "    .dataframe tbody tr th {\n",
       "        vertical-align: top;\n",
       "    }\n",
       "\n",
       "    .dataframe thead th {\n",
       "        text-align: right;\n",
       "    }\n",
       "</style>\n",
       "<table border=\"1\" class=\"dataframe\">\n",
       "  <thead>\n",
       "    <tr style=\"text-align: right;\">\n",
       "      <th></th>\n",
       "      <th>Titel</th>\n",
       "      <th>URL</th>\n",
       "      <th>Thema</th>\n",
       "      <th>Autor</th>\n",
       "      <th>Datum</th>\n",
       "      <th>Artikeltext</th>\n",
       "      <th>Tags</th>\n",
       "      <th>Artikeltext_lower</th>\n",
       "    </tr>\n",
       "  </thead>\n",
       "  <tbody>\n",
       "    <tr>\n",
       "      <th>0</th>\n",
       "      <td>The Midterms Made State Governments Bluer</td>\n",
       "      <td>https://fivethirtyeight.com/features/2022-gove...</td>\n",
       "      <td>2022 Election</td>\n",
       "      <td>Nathaniel Rakich</td>\n",
       "      <td>Nov. 17, 2022, at 6:00 AM</td>\n",
       "      <td>Abortion bans, right-to-work laws, voting rest...</td>\n",
       "      <td>2022 Election, 2022 Midterms, 2022 Governors E...</td>\n",
       "      <td>abortion bans, right-to-work laws, voting rest...</td>\n",
       "    </tr>\n",
       "  </tbody>\n",
       "</table>\n",
       "</div>"
      ],
      "text/plain": [
       "                                       Titel  \\\n",
       "0  The Midterms Made State Governments Bluer   \n",
       "\n",
       "                                                 URL          Thema  \\\n",
       "0  https://fivethirtyeight.com/features/2022-gove...  2022 Election   \n",
       "\n",
       "              Autor                      Datum  \\\n",
       "0  Nathaniel Rakich  Nov. 17, 2022, at 6:00 AM   \n",
       "\n",
       "                                         Artikeltext  \\\n",
       "0  Abortion bans, right-to-work laws, voting rest...   \n",
       "\n",
       "                                                Tags  \\\n",
       "0  2022 Election, 2022 Midterms, 2022 Governors E...   \n",
       "\n",
       "                                   Artikeltext_lower  \n",
       "0  abortion bans, right-to-work laws, voting rest...  "
      ]
     },
     "execution_count": 35,
     "metadata": {},
     "output_type": "execute_result"
    }
   ],
   "source": [
    "df"
   ]
  },
  {
   "cell_type": "code",
   "execution_count": 36,
   "metadata": {},
   "outputs": [],
   "source": [
    "regexp = RegexpTokenizer('\\w+') # use regular expression to match (multiple) word characters and numbers\n",
    "\n",
    "df['Artikeltext_token']=df['Artikeltext_lower'].apply(regexp.tokenize) # insert the data column and the regular expression pattern"
   ]
  },
  {
   "cell_type": "code",
   "execution_count": 37,
   "metadata": {},
   "outputs": [],
   "source": [
    "\n",
    "# Make a list of english stopwords\n",
    "stopwords = nltk.corpus.stopwords.words(\"english\")"
   ]
  },
  {
   "cell_type": "code",
   "execution_count": 38,
   "metadata": {},
   "outputs": [],
   "source": [
    "my_stopwords = ['https', 'co']\n",
    "stopwords.extend(my_stopwords)"
   ]
  },
  {
   "cell_type": "code",
   "execution_count": 39,
   "metadata": {},
   "outputs": [],
   "source": [
    "df['Artikeltext_token_s'] = df['Artikeltext_token'].apply(lambda x: [i for i in x if i not in stopwords])"
   ]
  },
  {
   "cell_type": "code",
   "execution_count": 40,
   "metadata": {},
   "outputs": [
    {
     "data": {
      "text/html": [
       "<div>\n",
       "<style scoped>\n",
       "    .dataframe tbody tr th:only-of-type {\n",
       "        vertical-align: middle;\n",
       "    }\n",
       "\n",
       "    .dataframe tbody tr th {\n",
       "        vertical-align: top;\n",
       "    }\n",
       "\n",
       "    .dataframe thead th {\n",
       "        text-align: right;\n",
       "    }\n",
       "</style>\n",
       "<table border=\"1\" class=\"dataframe\">\n",
       "  <thead>\n",
       "    <tr style=\"text-align: right;\">\n",
       "      <th></th>\n",
       "      <th>Titel</th>\n",
       "      <th>URL</th>\n",
       "      <th>Thema</th>\n",
       "      <th>Autor</th>\n",
       "      <th>Datum</th>\n",
       "      <th>Artikeltext</th>\n",
       "      <th>Tags</th>\n",
       "      <th>Artikeltext_lower</th>\n",
       "      <th>Artikeltext_token</th>\n",
       "      <th>Artikeltext_token_s</th>\n",
       "    </tr>\n",
       "  </thead>\n",
       "  <tbody>\n",
       "    <tr>\n",
       "      <th>0</th>\n",
       "      <td>The Midterms Made State Governments Bluer</td>\n",
       "      <td>https://fivethirtyeight.com/features/2022-gove...</td>\n",
       "      <td>2022 Election</td>\n",
       "      <td>Nathaniel Rakich</td>\n",
       "      <td>Nov. 17, 2022, at 6:00 AM</td>\n",
       "      <td>Abortion bans, right-to-work laws, voting rest...</td>\n",
       "      <td>2022 Election, 2022 Midterms, 2022 Governors E...</td>\n",
       "      <td>abortion bans, right-to-work laws, voting rest...</td>\n",
       "      <td>[abortion, bans, right, to, work, laws, voting...</td>\n",
       "      <td>[abortion, bans, right, work, laws, voting, re...</td>\n",
       "    </tr>\n",
       "  </tbody>\n",
       "</table>\n",
       "</div>"
      ],
      "text/plain": [
       "                                       Titel  \\\n",
       "0  The Midterms Made State Governments Bluer   \n",
       "\n",
       "                                                 URL          Thema  \\\n",
       "0  https://fivethirtyeight.com/features/2022-gove...  2022 Election   \n",
       "\n",
       "              Autor                      Datum  \\\n",
       "0  Nathaniel Rakich  Nov. 17, 2022, at 6:00 AM   \n",
       "\n",
       "                                         Artikeltext  \\\n",
       "0  Abortion bans, right-to-work laws, voting rest...   \n",
       "\n",
       "                                                Tags  \\\n",
       "0  2022 Election, 2022 Midterms, 2022 Governors E...   \n",
       "\n",
       "                                   Artikeltext_lower  \\\n",
       "0  abortion bans, right-to-work laws, voting rest...   \n",
       "\n",
       "                                   Artikeltext_token  \\\n",
       "0  [abortion, bans, right, to, work, laws, voting...   \n",
       "\n",
       "                                 Artikeltext_token_s  \n",
       "0  [abortion, bans, right, work, laws, voting, re...  "
      ]
     },
     "execution_count": 40,
     "metadata": {},
     "output_type": "execute_result"
    }
   ],
   "source": [
    "df"
   ]
  },
  {
   "cell_type": "markdown",
   "metadata": {},
   "source": [
    "### Transform data and remove infrequent words"
   ]
  },
  {
   "cell_type": "code",
   "execution_count": 41,
   "metadata": {},
   "outputs": [],
   "source": [
    "df['Artikeltext_si'] = df['Artikeltext_token_s'].apply(lambda x: ' '.join([i for i in x if len(i)>2]))"
   ]
  },
  {
   "cell_type": "markdown",
   "metadata": {},
   "source": [
    "### Lemmatization"
   ]
  },
  {
   "cell_type": "code",
   "execution_count": 42,
   "metadata": {},
   "outputs": [],
   "source": [
    "# create an object called wordnet_lem of the WordNetLemmatizer() function.\n",
    "wordnet_lem = WordNetLemmatizer()"
   ]
  },
  {
   "cell_type": "code",
   "execution_count": 43,
   "metadata": {},
   "outputs": [
    {
     "data": {
      "text/plain": [
       "True    1\n",
       "Name: Artikeltext_sil, dtype: int64"
      ]
     },
     "execution_count": 43,
     "metadata": {},
     "output_type": "execute_result"
    }
   ],
   "source": [
    "# create a new column called text_sil (l for lemmatization) and apply the function .lemmatize\n",
    "df['Artikeltext_sil'] = df['Artikeltext_si'].apply(wordnet_lem.lemmatize)\n",
    "\n",
    "# we check wether there are any differences in the two columns\n",
    "check_difference = (df['Artikeltext_sil'] == df['Artikeltext_sil'])\n",
    "\n",
    "# sum all True and False values\n",
    "check_difference.value_counts()"
   ]
  },
  {
   "cell_type": "markdown",
   "metadata": {},
   "source": []
  }
 ],
 "metadata": {
  "kernelspec": {
   "display_name": "Python 3.9.13 ('nlp')",
   "language": "python",
   "name": "python3"
  },
  "language_info": {
   "codemirror_mode": {
    "name": "ipython",
    "version": 3
   },
   "file_extension": ".py",
   "mimetype": "text/x-python",
   "name": "python",
   "nbconvert_exporter": "python",
   "pygments_lexer": "ipython3",
   "version": "3.9.13"
  },
  "orig_nbformat": 4,
  "vscode": {
   "interpreter": {
    "hash": "0847cda728ef3e0f335e7e94b5a043d9a0fda1c620343fc6302f7013063303dc"
   }
  }
 },
 "nbformat": 4,
 "nbformat_minor": 2
}
