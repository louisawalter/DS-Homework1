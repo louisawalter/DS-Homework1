{
 "cells": [
  {
   "cell_type": "markdown",
   "metadata": {},
   "source": [
    "# Twitter\n",
    "\n",
    "---\n",
    "\n",
    "Group name: Group C\n",
    "\n",
    "---\n"
   ]
  },
  {
   "cell_type": "markdown",
   "metadata": {},
   "source": [
    "## Setup"
   ]
  },
  {
   "cell_type": "code",
   "execution_count": 1,
   "metadata": {},
   "outputs": [],
   "source": [
    "import tweepy\n",
    "from keys import *\n",
    "import requests"
   ]
  },
  {
   "cell_type": "markdown",
   "metadata": {},
   "source": [
    "## Connection with API v2"
   ]
  },
  {
   "cell_type": "code",
   "execution_count": 3,
   "metadata": {},
   "outputs": [],
   "source": [
    "client = tweepy.Client( bearer_token=bearer_token, \n",
    "                        consumer_key=consumer_key, \n",
    "                        consumer_secret=consumer_secret, \n",
    "                        access_token=access_token, \n",
    "                        access_token_secret=access_token_secret, \n",
    "                        return_type = requests.Response,\n",
    "                        wait_on_rate_limit=True)"
   ]
  },
  {
   "cell_type": "markdown",
   "metadata": {},
   "source": [
    "## Query"
   ]
  },
  {
   "cell_type": "markdown",
   "metadata": {},
   "source": [
    "- Search Tweets from CNN's Twitter account\n",
    "\n",
    "- We excluded Retweets"
   ]
  },
  {
   "cell_type": "code",
   "execution_count": 4,
   "metadata": {},
   "outputs": [],
   "source": [
    "my_query = 'from:CNN -is:retweet'"
   ]
  },
  {
   "cell_type": "code",
   "execution_count": 5,
   "metadata": {},
   "outputs": [],
   "source": [
    "tweets = client.search_recent_tweets(query=my_query, \n",
    "                                    tweet_fields=['author_id', 'created_at'],\n",
    "                                     max_results=100)"
   ]
  },
  {
   "cell_type": "markdown",
   "metadata": {},
   "source": [
    "## Convert pandas to DataFrame"
   ]
  },
  {
   "cell_type": "code",
   "execution_count": 6,
   "metadata": {},
   "outputs": [],
   "source": [
    "import pandas as pd\n",
    "\n",
    "# Save data as dictionary\n",
    "tweets_dict = tweets.json() \n",
    "\n",
    "# Extract \"data\" value from dictionary\n",
    "tweets_data = tweets_dict['data'] \n",
    "\n",
    "# Transform to pandas Dataframe\n",
    "df = pd.json_normalize(tweets_data) "
   ]
  },
  {
   "cell_type": "code",
   "execution_count": 7,
   "metadata": {},
   "outputs": [
    {
     "data": {
      "text/html": [
       "<div>\n",
       "<style scoped>\n",
       "    .dataframe tbody tr th:only-of-type {\n",
       "        vertical-align: middle;\n",
       "    }\n",
       "\n",
       "    .dataframe tbody tr th {\n",
       "        vertical-align: top;\n",
       "    }\n",
       "\n",
       "    .dataframe thead th {\n",
       "        text-align: right;\n",
       "    }\n",
       "</style>\n",
       "<table border=\"1\" class=\"dataframe\">\n",
       "  <thead>\n",
       "    <tr style=\"text-align: right;\">\n",
       "      <th></th>\n",
       "      <th>edit_history_tweet_ids</th>\n",
       "      <th>text</th>\n",
       "      <th>created_at</th>\n",
       "      <th>id</th>\n",
       "      <th>author_id</th>\n",
       "    </tr>\n",
       "  </thead>\n",
       "  <tbody>\n",
       "    <tr>\n",
       "      <th>0</th>\n",
       "      <td>[1596255169959821312]</td>\n",
       "      <td>Six top stays for travelers who prioritize sus...</td>\n",
       "      <td>2022-11-25T21:31:04.000Z</td>\n",
       "      <td>1596255169959821312</td>\n",
       "      <td>759251</td>\n",
       "    </tr>\n",
       "    <tr>\n",
       "      <th>1</th>\n",
       "      <td>[1596251153737678855]</td>\n",
       "      <td>How much do we all have in common? Join @LisaL...</td>\n",
       "      <td>2022-11-25T21:15:06.000Z</td>\n",
       "      <td>1596251153737678855</td>\n",
       "      <td>759251</td>\n",
       "    </tr>\n",
       "    <tr>\n",
       "      <th>2</th>\n",
       "      <td>[1596247973029085186]</td>\n",
       "      <td>The US and England finish in 0-0 draw, in just...</td>\n",
       "      <td>2022-11-25T21:02:28.000Z</td>\n",
       "      <td>1596247973029085186</td>\n",
       "      <td>759251</td>\n",
       "    </tr>\n",
       "    <tr>\n",
       "      <th>3</th>\n",
       "      <td>[1596247628462886913]</td>\n",
       "      <td>We tried four wacky Thanksgiving leftover reci...</td>\n",
       "      <td>2022-11-25T21:01:06.000Z</td>\n",
       "      <td>1596247628462886913</td>\n",
       "      <td>759251</td>\n",
       "    </tr>\n",
       "    <tr>\n",
       "      <th>4</th>\n",
       "      <td>[1596243620314910721]</td>\n",
       "      <td>“A Charlie Brown Christmas” was supposed to be...</td>\n",
       "      <td>2022-11-25T20:45:10.000Z</td>\n",
       "      <td>1596243620314910721</td>\n",
       "      <td>759251</td>\n",
       "    </tr>\n",
       "    <tr>\n",
       "      <th>...</th>\n",
       "      <td>...</td>\n",
       "      <td>...</td>\n",
       "      <td>...</td>\n",
       "      <td>...</td>\n",
       "      <td>...</td>\n",
       "    </tr>\n",
       "    <tr>\n",
       "      <th>95</th>\n",
       "      <td>[1595843478780518400]</td>\n",
       "      <td>Tesla has reportedly lost more than $600 billi...</td>\n",
       "      <td>2022-11-24T18:15:09.000Z</td>\n",
       "      <td>1595843478780518400</td>\n",
       "      <td>759251</td>\n",
       "    </tr>\n",
       "    <tr>\n",
       "      <th>96</th>\n",
       "      <td>[1595839705580388352]</td>\n",
       "      <td>What is the best holiday movie of all time? Re...</td>\n",
       "      <td>2022-11-24T18:00:09.000Z</td>\n",
       "      <td>1595839705580388352</td>\n",
       "      <td>759251</td>\n",
       "    </tr>\n",
       "    <tr>\n",
       "      <th>97</th>\n",
       "      <td>[1595835922016309255]</td>\n",
       "      <td>President Biden said he would work with Congre...</td>\n",
       "      <td>2022-11-24T17:45:07.000Z</td>\n",
       "      <td>1595835922016309255</td>\n",
       "      <td>759251</td>\n",
       "    </tr>\n",
       "    <tr>\n",
       "      <th>98</th>\n",
       "      <td>[1595832153937305601]</td>\n",
       "      <td>Iran is in a “full-fledged human rights crisis...</td>\n",
       "      <td>2022-11-24T17:30:09.000Z</td>\n",
       "      <td>1595832153937305601</td>\n",
       "      <td>759251</td>\n",
       "    </tr>\n",
       "    <tr>\n",
       "      <th>99</th>\n",
       "      <td>[1595828622807695360]</td>\n",
       "      <td>Dolly Parton paid tribute to her goddaughter M...</td>\n",
       "      <td>2022-11-24T17:16:07.000Z</td>\n",
       "      <td>1595828622807695360</td>\n",
       "      <td>759251</td>\n",
       "    </tr>\n",
       "  </tbody>\n",
       "</table>\n",
       "<p>100 rows × 5 columns</p>\n",
       "</div>"
      ],
      "text/plain": [
       "   edit_history_tweet_ids                                               text  \\\n",
       "0   [1596255169959821312]  Six top stays for travelers who prioritize sus...   \n",
       "1   [1596251153737678855]  How much do we all have in common? Join @LisaL...   \n",
       "2   [1596247973029085186]  The US and England finish in 0-0 draw, in just...   \n",
       "3   [1596247628462886913]  We tried four wacky Thanksgiving leftover reci...   \n",
       "4   [1596243620314910721]  “A Charlie Brown Christmas” was supposed to be...   \n",
       "..                    ...                                                ...   \n",
       "95  [1595843478780518400]  Tesla has reportedly lost more than $600 billi...   \n",
       "96  [1595839705580388352]  What is the best holiday movie of all time? Re...   \n",
       "97  [1595835922016309255]  President Biden said he would work with Congre...   \n",
       "98  [1595832153937305601]  Iran is in a “full-fledged human rights crisis...   \n",
       "99  [1595828622807695360]  Dolly Parton paid tribute to her goddaughter M...   \n",
       "\n",
       "                  created_at                   id author_id  \n",
       "0   2022-11-25T21:31:04.000Z  1596255169959821312    759251  \n",
       "1   2022-11-25T21:15:06.000Z  1596251153737678855    759251  \n",
       "2   2022-11-25T21:02:28.000Z  1596247973029085186    759251  \n",
       "3   2022-11-25T21:01:06.000Z  1596247628462886913    759251  \n",
       "4   2022-11-25T20:45:10.000Z  1596243620314910721    759251  \n",
       "..                       ...                  ...       ...  \n",
       "95  2022-11-24T18:15:09.000Z  1595843478780518400    759251  \n",
       "96  2022-11-24T18:00:09.000Z  1595839705580388352    759251  \n",
       "97  2022-11-24T17:45:07.000Z  1595835922016309255    759251  \n",
       "98  2022-11-24T17:30:09.000Z  1595832153937305601    759251  \n",
       "99  2022-11-24T17:16:07.000Z  1595828622807695360    759251  \n",
       "\n",
       "[100 rows x 5 columns]"
      ]
     },
     "execution_count": 7,
     "metadata": {},
     "output_type": "execute_result"
    }
   ],
   "source": [
    "df"
   ]
  },
  {
   "cell_type": "code",
   "execution_count": 8,
   "metadata": {},
   "outputs": [],
   "source": [
    "df.to_csv('/Users/Kim/Library/Mobile Documents/com~apple~CloudDocs/UNI/HdM/Semester7/Data Science Python/DS-Homework1/data/raw/twitter-cnn.csv')"
   ]
  }
 ],
 "metadata": {
  "kernelspec": {
   "display_name": "Python 3.9.13 ('twitter')",
   "language": "python",
   "name": "python3"
  },
  "language_info": {
   "codemirror_mode": {
    "name": "ipython",
    "version": 3
   },
   "file_extension": ".py",
   "mimetype": "text/x-python",
   "name": "python",
   "nbconvert_exporter": "python",
   "pygments_lexer": "ipython3",
   "version": "3.9.13"
  },
  "orig_nbformat": 4,
  "vscode": {
   "interpreter": {
    "hash": "701ca91188593566ffac210d69943b2705d528222e06dd1aec4d3027ff3734c5"
   }
  }
 },
 "nbformat": 4,
 "nbformat_minor": 2
}
