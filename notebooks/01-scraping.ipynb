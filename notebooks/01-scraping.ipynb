{
 "cells": [
  {
   "cell_type": "markdown",
   "metadata": {},
   "source": [
    "# Website scraping\n",
    "\n",
    "---\n",
    "\n",
    "Group name: Group C\n",
    "\n",
    "---\n"
   ]
  },
  {
   "cell_type": "markdown",
   "metadata": {},
   "source": [
    "## Setup"
   ]
  },
  {
   "cell_type": "code",
   "execution_count": 1,
   "metadata": {},
   "outputs": [],
   "source": [
    "import pandas as pd\n",
    "import requests\n",
    "from bs4 import BeautifulSoup"
   ]
  },
  {
   "cell_type": "markdown",
   "metadata": {},
   "source": [
    "## Webscraping with requests"
   ]
  },
  {
   "cell_type": "code",
   "execution_count": 2,
   "metadata": {},
   "outputs": [],
   "source": [
    "# Website: FiveThirtyEight\n",
    "url = \"https://fivethirtyeight.com/features/2022-governor-state-government/\""
   ]
  },
  {
   "cell_type": "code",
   "execution_count": 3,
   "metadata": {},
   "outputs": [],
   "source": [
    "html = requests.get(url)"
   ]
  },
  {
   "cell_type": "code",
   "execution_count": 4,
   "metadata": {},
   "outputs": [
    {
     "name": "stdout",
     "output_type": "stream",
     "text": [
      "HTTP status code: 200\n"
     ]
    }
   ],
   "source": [
    "print(f\"HTTP status code: {html.status_code}\")"
   ]
  },
  {
   "cell_type": "code",
   "execution_count": 5,
   "metadata": {},
   "outputs": [],
   "source": [
    "soup = BeautifulSoup(html.text, 'html.parser')"
   ]
  },
  {
   "cell_type": "code",
   "execution_count": 6,
   "metadata": {},
   "outputs": [
    {
     "name": "stdout",
     "output_type": "stream",
     "text": [
      "\n",
      "\n",
      "\n",
      "\n",
      "\n",
      "\n",
      "\n",
      "\n",
      "The Midterms Made State Governments Bluer | FiveThirtyEight\n",
      "\n",
      "\n",
      "\n",
      "\n",
      "\n",
      "\n",
      "\n",
      "\n",
      "\n",
      "\n",
      "\n",
      "\n",
      "\n",
      "\n",
      "\n",
      "\n",
      "\n",
      "\n",
      "\n",
      "\n",
      "\n",
      "\n",
      "\n",
      "\n",
      "\n",
      "\n",
      "\n",
      "\n",
      "\n",
      "\n",
      "\n",
      "\n",
      "\n",
      "\n",
      "\n",
      "\n",
      "\n",
      "\n",
      "\n",
      "\n",
      "\n",
      "\n",
      "\n",
      "\n",
      "\n",
      "\n",
      "\n",
      "\n",
      "\n",
      "\n",
      "\n",
      "\n",
      "\n",
      "\n",
      "\n",
      "\n",
      "\n",
      "\n",
      "\n",
      "\n",
      "\n",
      "\n",
      "\n",
      "\n",
      "\n",
      "\n",
      "\n",
      "\n",
      "\n",
      "\n",
      "\n",
      "\n",
      "\n",
      "\n",
      "\n",
      "\n",
      "\n",
      "\n",
      "\n",
      "\n",
      "\n",
      "\n",
      "\n",
      "\n",
      "\n",
      "\n",
      "\n",
      "\n",
      "\n",
      "\n",
      "\n",
      "\n",
      "\n",
      "\n",
      "\n",
      "\n",
      "\n",
      "Skip to main content\n",
      "\n",
      "\n",
      "\n",
      "\n",
      "\n",
      "\n",
      "\n",
      "FiveThirtyEight\n",
      "\n",
      "\n",
      "\n",
      "\n",
      "\n",
      "Search\n",
      "\n",
      "\n",
      "\n",
      "Search\n",
      "\n",
      "\n",
      "\n",
      "\n",
      "ABC News\n",
      "\n",
      "Menu\n",
      "\n",
      "\n",
      "\n",
      "\n",
      "\t\t\t\t\t\t\t\t\t\t\tThe Midterms Made State Governments Bluer\t\t\t\t\t\t\t\t\t\n",
      "Share on Facebook\n",
      "Share on Twitter\n",
      "\n",
      "\n",
      "\n",
      "\n",
      "\n",
      "\n",
      "\t\t\t\t\t\tPolitics\t\t\t\t\t\n",
      "\n",
      "\n",
      "\n",
      "\t\t\t\t\t\tSports\t\t\t\t\t\n",
      "\n",
      "\n",
      "\n",
      "\t\t\t\t\t\tScience\t\t\t\t\t\n",
      "\n",
      "\n",
      "\n",
      "\t\t\t\t\t\tPodcasts\t\t\t\t\t\n",
      "\n",
      "\n",
      "\n",
      "\t\t\t\t\t\tVideo\t\t\t\t\t\n",
      "\n",
      "\n",
      "\n",
      "\t\t\t\t\t\tABC News\t\t\t\t\t\n",
      "\n",
      "\n",
      "\n",
      "\n",
      "\n",
      "\n",
      "\n",
      "\n",
      "\n",
      "\n",
      "\n",
      "\n",
      "\n",
      "\n",
      "\n",
      "\n",
      "2022 Election\n",
      "The Midterms Made State Governments Bluer\n",
      "\n",
      "\n",
      "\n",
      "By Nathaniel Rakich\n",
      "\n",
      "\n",
      "\t\t\t\t\t\t\t\t\tNov. 17, 2022, at 6:00 AM\t\t\t\t\t\t\t\t\n",
      "\n",
      "\n",
      " \n",
      "\n",
      "\n",
      "\n",
      "\n",
      "\n",
      "Rebecca Cook / Reuters\n",
      "\n",
      "\n",
      "Abortion bans, right-to-work laws, voting restrictions — for years, a lot of the major legislation coming out of state capitols has been conservative. But after Democrats’ clear victory in state-level elections last week, landmark liberal policies could be coming to a state near you.  \n",
      "For the first time in years, more Americans will live in a state fully controlled by Democrats than in one fully controlled by Republicans.1 Thanks to their wins in gubernatorial or state-legislative elections, Democrats2 took complete control of three new state governments in the 2022 elections: Michigan, Minnesota and Vermont. They broke the GOP monopoly on power in Arizona and, potentially, New Hampshire.3 They also kept full control of state government in four of the five states where they were in danger of losing it. And they prevented Republicans from taking full control of North Carolina, Wisconsin and maybe even Alaska. \n",
      "Republicans, on the other hand, didn’t flip a single legislative chamber from blue to red. This is the first midterm election since at least 1934 that the president’s party hasn’t lost a state-legislative chamber, according to Democratic Legislative Campaign Committee President Jessica Post. And though it didn’t affect who controlled state government, Democrats flipped the Maryland and Massachusetts governorships and maybe the Pennsylvania state House.4 \n",
      "Democrats’ most significant win was probably Michigan. Democratic Gov. Gretchen Whitmer was reelected, and Democrats took control of the state House for the first time since 2011 and the state Senate for the first time since 1984. Democrats won the popular vote for the Michigan state House in 2012, 2014, 2018 and 2020 but fell short of a majority each time because of state-legislative maps that favored Republicans. \n",
      "This year, though, Michigan’s new independent redistricting commission drew legislative maps that were pretty fair. In the state Senate, Democrats won the popular vote 50 percent to 49 percent and a 20-18 majority; in the state House, they won the popular vote 51 percent to 49 percent and a 56-54 majority.\n",
      "The new Democratic trifecta could lead to many new progressive policies in Michigan. Democrats say they want to repeal the state law banning union membership as a condition of employment, strengthen laws against LGBT discrimination and repeal the retirement tax.\n",
      "In Minnesota, Democrats kept the governor’s office and state House and flipped the state Senate from red to blue, gaining complete control of state government for the first time since 2013. As a result, Democrats hope to codify abortion rights into state law and legalize marijuana. Minnesota currently has multiple small political parties whose raison d’être is marijuana legalization and often siphon votes away from Democrats. With the issue no longer on the table, the parties may fade from existence, giving Democrats a small boost in future elections.\n",
      "And in Vermont, Democrats and Progressives, a liberal third party, now control a supermajority of votes in the state House. They already had a supermajority in the state Senate, so they can now override vetoes from Republican Gov. Phil Scott. Last term, legislation to reduce carbon emissions and ban evictions in Burlington without “just cause” failed to pass because they didn’t have the votes to override his veto.\n",
      "Democrats didn’t take complete control of state government in Pennsylvania (as expected, they fell short in the state Senate). Still, they set themselves up to do so in 2024 by gaining at least 11 seats in the state House — which they are on the verge of flipping. As of Nov. 16 at 4 p.m. Eastern, Democrats had won 101 House seats, and Republicans had won 100. Control of the chamber will be determined by the outcomes of the two races that are still too close.\n",
      "Democrats lost total control of just one state government this year. In Nevada, Republican Joe Lombardo defeated Democratic Gov. Steve Sisolak in the gubernatorial race. But, notably, Democrats kept their grip on Colorado, Maine, New Mexico and Oregon after winning the governorship and state legislature in each. Though these aren’t new trifectas, none was guaranteed to stay in Democratic hands.\n",
      "Democrats also already enjoyed complete control of the Maryland and Massachusetts governments despite their Republican governors because Democrats had veto-proof majorities in the state legislature. But with the election of Maura Healey in Massachusetts and Wes Moore in Maryland, the executive branch in each state will also be Democratic-controlled. That is still important in terms of agenda-setting and implementing laws. For example, Moore has said he wants to prioritize raising the minimum wage and establishing an optional public-service year for high school graduates.\n",
      "In Colorado and Oregon, too, Democrats will have an easier time governing than before. Colorado Democrats gained so many seats in the state Senate that, according to the Colorado Sun’s Jesse Aaron Paul, they struggled to find enough chairs for them in the committee room where they gathered to pick their caucus’ leaders. And in Oregon, though Republicans gained seats, voters in the state passed a ballot measure that would penalize legislators for walking out of the Legislature to stop legislative business — a tactic that Republicans have used to block the Democratic agenda.\n",
      "Democrats’ success can also be measured by the Republican policies that will not become law due to the 2022 elections. For example, although Republicans secured a supermajority in the North Carolina state Senate, they came one seat short in the state House. That means the party will remain incapable of overriding Democratic Gov. Roy Cooper’s vetoes. If they had gotten that supermajority, Republicans may have restricted abortions and how race is taught in public schools. \n",
      "It’s a similar situation in Wisconsin. Republicans snagged a supermajority in the state Senate but not in the state Assembly, allowing reelected Democratic Gov. Tony Evers’s vetoes to stand. This will probably prevent Republicans from abolishing the Wisconsin Elections Commission or restructuring it in a partisan way, as they have proposed.\n",
      "And they’re still counting ballots in Alaska. But it looks like the state Senate and state House will be very close — increasing the odds that bipartisan coalitions will form to govern them. This unique arrangement isn’t unusual for Alaska; a coalition of Democrats, independents and moderate Republicans has controlled the state House for six years. But we likely won’t know who will wield the gavel until the legislative session starts.\n",
      "Those three states already had divided government, but Democrats also ended a Republican trifecta in at least one state: Arizona. Although Republicans appear to have kept control of the state Senate and state House (by one seat each!), Democratic Secretary of State Katie Hobbs was elected governor. \n",
      "Perhaps the most bonkers state-legislative election result of 2022 comes from New Hampshire, where Democrats are just one seat away from breaking the Republican trifecta. Based on preliminary election-night results, it appeared that Republicans had won 203 seats in the Granite State’s massive, 400-member state House. But the results in 28 districts are being recounted. And two recounts have already found that the Democrat was the rightful winner in a race Republicans had been leading, while a third resulted in a tie. As a result, Republicans now lead for only 200 seats and Democrats lead for 199 — meaning Democrats need only one more recount to go their way to break the GOP majority.5 So the next two years in the New Hampshire state House will likely be chaotic no matter what happens. Party control could even change depending on how many legislators (who, in New Hampshire, work for $100 a year, plus mileage) make it to Concord for a given session.\n",
      "State governments are often called the “laboratories of democracy” because they often pass ambitious or innovative policies before the federal government does. But with control of Washington, D.C., now split between Democrats and Republicans after the midterms, they could be the only places where meaningful policies are passed for the next two years. \n",
      "\n",
      "\n",
      "\n",
      "\n",
      "Footnotes\n",
      "\n",
      "Using the population of the 50 states (according to the 2020 census) as the denominator, 42.3 percent of the population lives in the former and 41.5 percent lives in the latter. This assumes New Hampshire stays under GOP control and Alaska stays divided.\n",
      "And, in Vermont, with help from their allies the Progressives.\n",
      "As of Wednesday at 5:30 p.m. Eastern, we are still waiting for recounts in several New Hampshire state House districts, which could swing the balance of power in the chamber.\n",
      "As of Wednesday at 5:30 p.m. Eastern, the final two seats, which will determine which party controls the chamber, have not been projected.\n",
      "It’s unclear what will happen to the tied seat, but one option is that a joint session of the legislature will determine the winner.\n",
      " \n",
      "\n",
      "\n",
      "Nathaniel Rakich is a senior elections analyst at FiveThirtyEight.   @baseballot\n",
      "\n",
      "\n",
      "\n",
      "Filed under\n",
      "2022 Election (322 posts)\n",
      "2022 Midterms (183)\n",
      "2022 Governors Elections (38)\n",
      "State Legislatures (35)\n",
      "State Legislature Elections (12)\n",
      "Trifectas (8)\n",
      "State Government (6)\n",
      "\n",
      "\n",
      "\n",
      "Comments\n",
      "\n",
      "\n",
      "\n",
      "\n",
      "\n",
      "\n",
      " \n",
      "\n",
      "\n",
      "\n",
      "Latest Interactives\n",
      "\n",
      "\n",
      "\n",
      "\n",
      "\n",
      "\n",
      "\n",
      "\n",
      "\n",
      "\n",
      "\n",
      "\n",
      "More in 2022 Election\n",
      "\n",
      "\n",
      "2022 Election How A Data Processing Error Changed Our Deluxe Forecast\n",
      "Nov 18, 2022\n",
      "\n",
      "\n",
      "\n",
      " \n",
      "2022 Election So You Think You Can Explain The Election\n",
      "Nov 18, 2022\n",
      "\n",
      "\n",
      "\n",
      " \n",
      "Polla Election Denialism Lives On, Even As Candidates Who Support It Concede\n",
      "Nov 18, 2022\n",
      "\n",
      "\n",
      "\n",
      " \n",
      "2022 Election Abortion Was Always Going To Impact The Midterms\n",
      "Nov 17, 2022\n",
      "\n",
      "\n",
      "\n",
      "\n",
      "Latest\n",
      "\n",
      "\n",
      "NHL The New Jersey Devils Are Scorching The NHL Again\n",
      "Nov 18, 2022\n",
      "\n",
      "\n",
      "The Riddler How Many Turkey Trotters Can You Pass?\n",
      "Nov 18, 2022\n",
      "\n",
      "\n",
      "\n",
      "\n",
      "\n",
      "Want the latest politics news? Get it in your inbox.\n",
      "\n",
      "\tYou are now subscribed!\n",
      "\n",
      "\n",
      "\n",
      "\n",
      "\n",
      "\n",
      "Email Address\n",
      "\n",
      "Sign me up\n",
      "\n",
      "See all newsletters\n",
      "\n",
      "\n",
      "\n",
      "\n",
      "\n",
      "\n",
      "\n",
      "\n",
      "\n",
      "\n",
      "\n",
      "\n",
      "\n",
      "\n",
      "\n",
      "\n",
      "\t\t\tGet more FiveThirtyEight\t\t\n",
      "\n",
      "\n",
      "\n",
      "Store\n",
      "\n",
      "\n",
      "Newsletter\n",
      "\n",
      "\n",
      "Twitter\n",
      "\n",
      "\n",
      "Facebook\n",
      "\n",
      "\n",
      "Data\n",
      "\n",
      "\n",
      "RSS\n",
      "\n",
      "\n",
      "\n",
      "\n",
      "\n",
      "\n",
      "\n",
      "\n",
      "\n",
      "Follow @FiveThirtyEight\n",
      "\n",
      "\n",
      "\n",
      "\n",
      "\n",
      "\n",
      "About Us\n",
      "\n",
      "\n",
      "Jobs\n",
      "\n",
      "\n",
      "Masthead\n",
      "\n",
      "\n",
      "Pitch FiveThirtyEight\n",
      "\n",
      "\n",
      "Advertise With Us\n",
      "\n",
      "\n",
      "About Nielsen Measurement\n",
      "\n",
      "\n",
      "\n",
      "\n",
      "\t\t\tPowered by WordPress VIP \n",
      "\n",
      "\n",
      "\n",
      "Terms of Use\n",
      "\n",
      "\n",
      "Privacy Policy\n",
      "\n",
      "Do Not Sell My Personal Information\n",
      "\n",
      "Your California Privacy Rights\n",
      "\n",
      "\n",
      "Children's Online Privacy Policy\n",
      "\n",
      "\n",
      "Interest-Based Ads\n",
      "\n",
      "\n",
      "\n",
      "\t\t\t\t© 2022 ABC News Internet Ventures. All rights reserved.\n",
      "\t\t\t\n",
      "\n",
      "\n",
      "\n",
      "\n",
      "\n",
      "Close Additional Information\n",
      "Terms of Use and Privacy Policy and Safety Information/Your California Privacy Rights/Children's Online Privacy Policy are applicable to you. © 2022 ABC News Internet Ventures. All rights reserved. Interest-Based Ads. Cookie Policy.\n",
      "\t\t\n",
      "\n",
      "\n",
      "\n",
      "\n",
      "\n",
      "\n",
      "\n",
      "\n",
      "\n",
      "\n",
      "\n",
      "\n",
      "\n",
      "\n",
      "\n",
      "\n",
      "\n",
      "\n"
     ]
    }
   ],
   "source": [
    "print(soup.get_text())"
   ]
  },
  {
   "cell_type": "code",
   "execution_count": 7,
   "metadata": {},
   "outputs": [
    {
     "name": "stdout",
     "output_type": "stream",
     "text": [
      "The Midterms Made State Governments Bluer\n"
     ]
    }
   ],
   "source": [
    "# Titel des Artikels\n",
    "article_title = soup.h1.text\n",
    "print(article_title)"
   ]
  },
  {
   "cell_type": "code",
   "execution_count": 8,
   "metadata": {},
   "outputs": [
    {
     "name": "stdout",
     "output_type": "stream",
     "text": [
      "2022 Election\n"
     ]
    }
   ],
   "source": [
    "# Thema des Artikels\n",
    "article_topic = soup.find(\"a\", {\"class\":\"term\"}).text\n",
    "print(article_topic)"
   ]
  },
  {
   "cell_type": "code",
   "execution_count": 9,
   "metadata": {},
   "outputs": [
    {
     "name": "stdout",
     "output_type": "stream",
     "text": [
      "Nathaniel Rakich\n"
     ]
    }
   ],
   "source": [
    "# Autor des Artikels\n",
    "article_author = soup.find(\"a\",{\"class\":\"author url fn\"}).text\n",
    "print(article_author)"
   ]
  },
  {
   "cell_type": "code",
   "execution_count": 10,
   "metadata": {},
   "outputs": [
    {
     "name": "stdout",
     "output_type": "stream",
     "text": [
      "Nov. 17, 2022, at 6:00 AM\n"
     ]
    }
   ],
   "source": [
    "# Veröffentlichungszeitpunkt des Artikels\n",
    "article_datetime = soup.find(\"time\",{\"class\":\"datetime\"}).text.replace(\"\\n\",\"\").replace(\"\\t\",\"\")\n",
    "print(article_datetime)"
   ]
  },
  {
   "cell_type": "code",
   "execution_count": 11,
   "metadata": {},
   "outputs": [],
   "source": [
    "# Artikeltext\n",
    "article_text_html = soup.findAll(\"p\", {\"data-paragraph\":\"main\"})"
   ]
  },
  {
   "cell_type": "code",
   "execution_count": 12,
   "metadata": {},
   "outputs": [],
   "source": [
    "article_text_list = []\n",
    "for i in article_text_html:\n",
    "    article_text_list.append(i.get_text().replace(\"\\xa0\",\"\"))"
   ]
  },
  {
   "cell_type": "code",
   "execution_count": 13,
   "metadata": {},
   "outputs": [],
   "source": [
    "article_text = \"\".join(article_text_list)"
   ]
  },
  {
   "cell_type": "code",
   "execution_count": 14,
   "metadata": {},
   "outputs": [
    {
     "data": {
      "text/plain": [
       "'Abortion bans, right-to-work laws, voting restrictions — for years, a lot of the major legislation coming out of state capitols has been conservative. But after Democrats’ clear victory in state-level elections last week, landmark liberal policies could be coming to a state near you.For the first time in years, more Americans will live in a state fully controlled by Democrats than in one fully controlled by Republicans.1 Thanks to their wins in gubernatorial or state-legislative elections, Democrats2 took complete control of three new state governments in the 2022 elections: Michigan, Minnesota and Vermont. They broke the GOP monopoly on power in Arizona and, potentially, New Hampshire.3 They also kept full control of state government in four of the five states where they were in danger of losing it. And they prevented Republicans from taking full control of North Carolina, Wisconsin and maybe even Alaska. Republicans, on the other hand, didn’t flip a single legislative chamber from blue to red. This is the first midterm election since at least 1934 that the president’s party hasn’t lost a state-legislative chamber, according to Democratic Legislative Campaign Committee President Jessica Post. And though it didn’t affect who controlled state government, Democrats flipped the Maryland and Massachusetts governorships and maybe the Pennsylvania state House.4 Democrats’ most significant win was probably Michigan. Democratic Gov. Gretchen Whitmer was reelected, and Democrats took control of the state House for the first time since 2011 and the state Senate for the first time since 1984. Democrats won the popular vote for the Michigan state House in 2012, 2014, 2018 and 2020 but fell short of a majority each time because of state-legislative maps that favored Republicans.This year, though, Michigan’s new independent redistricting commission drew legislative maps that were pretty fair. In the state Senate, Democrats won the popular vote 50 percent to 49 percent and a 20-18 majority; in the state House, they won the popular vote 51 percent to 49 percent and a 56-54 majority.The new Democratic trifecta could lead to many new progressive policies in Michigan. Democrats say they want to repeal the state law banning union membership as a condition of employment, strengthen laws against LGBT discrimination and repeal the retirement tax.In Minnesota, Democrats kept the governor’s office and state House and flipped the state Senate from red to blue, gaining complete control of state government for the first time since 2013. As a result, Democrats hope to codify abortion rights into state law and legalize marijuana. Minnesota currently has multiple small political parties whose raison d’être is marijuana legalization and often siphon votes away from Democrats. With the issue no longer on the table, the parties may fade from existence, giving Democrats a small boost in future elections.And in Vermont, Democrats and Progressives, a liberal third party, now control a supermajority of votes in the state House. They already had a supermajority in the state Senate, so they can now override vetoes from Republican Gov. Phil Scott. Last term, legislation to reduce carbon emissions and ban evictions in Burlington without “just cause” failed to pass because they didn’t have the votes to override his veto.Democrats didn’t take complete control of state government in Pennsylvania (as expected, they fell short in the state Senate). Still, they set themselves up to do so in 2024 by gaining at least 11 seats in the state House — which they are on the verge of flipping. As of Nov. 16 at 4 p.m. Eastern, Democrats had won 101 House seats, and Republicans had won 100. Control of the chamber will be determined by the outcomes of the two races that are still too close.Democrats lost total control of just one state government this year. In Nevada, Republican Joe Lombardo defeated Democratic Gov. Steve Sisolak in the gubernatorial race. But, notably, Democrats kept their grip on Colorado, Maine, New Mexico and Oregon after winning the governorship and state legislature in each. Though these aren’t new trifectas, none was guaranteed to stay in Democratic hands.Democrats also already enjoyed complete control of the Maryland and Massachusetts governments despite their Republican governors because Democrats had veto-proof majorities in the state legislature. But with the election of Maura Healey in Massachusetts and Wes Moore in Maryland, the executive branch in each state will also be Democratic-controlled. That is still important in terms of agenda-setting and implementing laws. For example, Moore has said he wants to prioritize raising the minimum wage and establishing an optional public-service year for high school graduates.In Colorado and Oregon, too, Democrats will have an easier time governing than before. Colorado Democrats gained so many seats in the state Senate that, according to the Colorado Sun’s Jesse Aaron Paul, they struggled to find enough chairs for them in the committee room where they gathered to pick their caucus’ leaders. And in Oregon, though Republicans gained seats, voters in the state passed a ballot measure that would penalize legislators for walking out of the Legislature to stop legislative business — a tactic that Republicans have used to block the Democratic agenda.Democrats’ success can also be measured by the Republican policies that will not become law due to the 2022 elections. For example, although Republicans secured a supermajority in the North Carolina state Senate, they came one seat short in the state House. That means the party will remain incapable of overriding Democratic Gov. Roy Cooper’s vetoes. If they had gotten that supermajority, Republicans may have restricted abortions and how race is taught in public schools.It’s a similar situation in Wisconsin. Republicans snagged a supermajority in the state Senate but not in the state Assembly, allowing reelected Democratic Gov. Tony Evers’s vetoes to stand. This will probably prevent Republicans from abolishing the Wisconsin Elections Commission or restructuring it in a partisan way, as they have proposed.And they’re still counting ballots in Alaska. But it looks like the state Senate and state House will be very close — increasing the odds that bipartisan coalitions will form to govern them. This unique arrangement isn’t unusual for Alaska; a coalition of Democrats, independents and moderate Republicans has controlled the state House for six years. But we likely won’t know who will wield the gavel until the legislative session starts.Those three states already had divided government, but Democrats also ended a Republican trifecta in at least one state: Arizona. Although Republicans appear to have kept control of the state Senate and state House (by one seat each!), Democratic Secretary of State Katie Hobbs was elected governor.Perhaps the most bonkers state-legislative election result of 2022 comes from New Hampshire, where Democrats are just one seat away from breaking the Republican trifecta. Based on preliminary election-night results, it appeared that Republicans had won 203 seats in the Granite State’s massive, 400-member state House. But the results in 28 districts are being recounted. And two recounts have already found that the Democrat was the rightful winner in a race Republicans had been leading, while a third resulted in a tie. As a result, Republicans now lead for only 200 seats and Democrats lead for 199 — meaning Democrats need only one more recount to go their way to break the GOP majority.5 So the next two years in the New Hampshire state House will likely be chaotic no matter what happens. Party control could even change depending on how many legislators (who, in New Hampshire, work for $100 a year, plus mileage) make it to Concord for a given session.State governments are often called the “laboratories of democracy” because they often pass ambitious or innovative policies before the federal government does. But with control of Washington, D.C., now split between Democrats and Republicans after the midterms, they could be the only places where meaningful policies are passed for the next two years.'"
      ]
     },
     "execution_count": 14,
     "metadata": {},
     "output_type": "execute_result"
    }
   ],
   "source": [
    "article_text"
   ]
  },
  {
   "cell_type": "code",
   "execution_count": 15,
   "metadata": {},
   "outputs": [],
   "source": [
    "# Tags des Atrikel\n",
    "article_tags_html = soup.find_all(\"a\",{\"class\":\"tag\"})"
   ]
  },
  {
   "cell_type": "code",
   "execution_count": 16,
   "metadata": {},
   "outputs": [],
   "source": [
    "article_tags = []\n",
    "for i in article_tags_html:\n",
    "    article_tags.append(i.contents[0].rstrip())"
   ]
  },
  {
   "cell_type": "code",
   "execution_count": 17,
   "metadata": {},
   "outputs": [
    {
     "data": {
      "text/plain": [
       "'2022 Election, 2022 Midterms, 2022 Governors Elections, State Legislatures, State Legislature Elections, Trifectas, State Government'"
      ]
     },
     "execution_count": 17,
     "metadata": {},
     "output_type": "execute_result"
    }
   ],
   "source": [
    "article_tags = \", \".join(article_tags)\n",
    "article_tags"
   ]
  },
  {
   "cell_type": "code",
   "execution_count": 18,
   "metadata": {},
   "outputs": [],
   "source": [
    "# Erstellung des Dataframes\n",
    "df = pd.DataFrame({\n",
    "    \"Titel\" : article_title,\n",
    "    \"URL\" : url,\n",
    "    \"Thema\" : article_topic,\n",
    "    \"Autor\" : article_author,\n",
    "    \"Datum\" : article_datetime,\n",
    "    \"Artikeltext\" : article_text,\n",
    "    \"Tags\" : article_tags\n",
    "}, index=[0])"
   ]
  },
  {
   "cell_type": "code",
   "execution_count": 19,
   "metadata": {},
   "outputs": [
    {
     "data": {
      "text/html": [
       "<div>\n",
       "<style scoped>\n",
       "    .dataframe tbody tr th:only-of-type {\n",
       "        vertical-align: middle;\n",
       "    }\n",
       "\n",
       "    .dataframe tbody tr th {\n",
       "        vertical-align: top;\n",
       "    }\n",
       "\n",
       "    .dataframe thead th {\n",
       "        text-align: right;\n",
       "    }\n",
       "</style>\n",
       "<table border=\"1\" class=\"dataframe\">\n",
       "  <thead>\n",
       "    <tr style=\"text-align: right;\">\n",
       "      <th></th>\n",
       "      <th>Titel</th>\n",
       "      <th>URL</th>\n",
       "      <th>Thema</th>\n",
       "      <th>Autor</th>\n",
       "      <th>Datum</th>\n",
       "      <th>Artikeltext</th>\n",
       "      <th>Tags</th>\n",
       "    </tr>\n",
       "  </thead>\n",
       "  <tbody>\n",
       "    <tr>\n",
       "      <th>0</th>\n",
       "      <td>The Midterms Made State Governments Bluer</td>\n",
       "      <td>https://fivethirtyeight.com/features/2022-gove...</td>\n",
       "      <td>2022 Election</td>\n",
       "      <td>Nathaniel Rakich</td>\n",
       "      <td>Nov. 17, 2022, at 6:00 AM</td>\n",
       "      <td>Abortion bans, right-to-work laws, voting rest...</td>\n",
       "      <td>2022 Election, 2022 Midterms, 2022 Governors E...</td>\n",
       "    </tr>\n",
       "  </tbody>\n",
       "</table>\n",
       "</div>"
      ],
      "text/plain": [
       "                                       Titel  \\\n",
       "0  The Midterms Made State Governments Bluer   \n",
       "\n",
       "                                                 URL          Thema  \\\n",
       "0  https://fivethirtyeight.com/features/2022-gove...  2022 Election   \n",
       "\n",
       "              Autor                      Datum  \\\n",
       "0  Nathaniel Rakich  Nov. 17, 2022, at 6:00 AM   \n",
       "\n",
       "                                         Artikeltext  \\\n",
       "0  Abortion bans, right-to-work laws, voting rest...   \n",
       "\n",
       "                                                Tags  \n",
       "0  2022 Election, 2022 Midterms, 2022 Governors E...  "
      ]
     },
     "execution_count": 19,
     "metadata": {},
     "output_type": "execute_result"
    }
   ],
   "source": [
    "df"
   ]
  },
  {
   "cell_type": "code",
   "execution_count": 24,
   "metadata": {},
   "outputs": [],
   "source": [
    "# Export zu CSV-Datei\n",
    "df.to_csv(\"/Users/lukas/Documents/ds_homework_1/DS-Homework1/data/raw/fivethirtyeight_article.csv\")"
   ]
  }
 ],
 "metadata": {
  "kernelspec": {
   "display_name": "Python 3.9.13 ('ds')",
   "language": "python",
   "name": "python3"
  },
  "language_info": {
   "codemirror_mode": {
    "name": "ipython",
    "version": 3
   },
   "file_extension": ".py",
   "mimetype": "text/x-python",
   "name": "python",
   "nbconvert_exporter": "python",
   "pygments_lexer": "ipython3",
   "version": "3.9.13"
  },
  "orig_nbformat": 4,
  "vscode": {
   "interpreter": {
    "hash": "01bdc39619e4a2073758666eb8156b7444f5ec1d54793bf710aafde55eb14215"
   }
  }
 },
 "nbformat": 4,
 "nbformat_minor": 2
}
